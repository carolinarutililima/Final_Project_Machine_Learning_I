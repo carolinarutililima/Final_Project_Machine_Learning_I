{
  "cells": [
    {
      "cell_type": "markdown",
      "metadata": {},
      "source": [
        "Projeto final do curso de Machine Learning da ADA\n",
        "Autores:\n",
        "Alexandre Paulino\n",
        "Carolina Rutili de Lima\n",
        "Hugo Cezar Sales de Souza\n",
        "Lucas Meirelles"
      ]
    },
    {
      "cell_type": "markdown",
      "metadata": {},
      "source": [
        "Para este projeto vamos usar o seguinte dataset:\n",
        "\n",
        "https://www.kaggle.com/datasets/tavarez/the-orl-database-for-training-and-testing\n",
        "\n",
        "\n",
        "O Banco de Dados ORL de Rostos é um conjunto de imagens faciais tiradas entre abril de 1992 e abril de 1994 no laboratório. O banco de dados foi usado no contexto de um projeto de reconhecimento facial realizado em colaboração com o Grupo de Fala, Visão e Robótica do Departamento de Engenharia da Universidade de Cambridge.\n",
        "\n",
        "Há dez imagens diferentes de cada um dos 40 sujeitos distintos. Para alguns sujeitos, as imagens foram tiradas em diferentes momentos, variando a iluminação, expressões faciais (olhos abertos/fechados, sorrindo/não sorrindo) e detalhes faciais (óculos/sem óculos). Todas as imagens foram tiradas contra um fundo escuro homogêneo com os sujeitos em posição frontal e ereta (com tolerância para algum movimento lateral).\n",
        "\n",
        "São 20 homens e 20 mulheres no dataset. E o que desejamos é conseguir realizar a classificação entre eles."
      ]
    },
    {
      "cell_type": "markdown",
      "metadata": {
        "id": "Mp4Op3054sZq"
      },
      "source": [
        "\n",
        "Existem 400 rostos, com dimensões de 46 × 56, de 40 pessoas.\n",
        "\n",
        "Leitura das 400 imagens para uma matriz de dados de 400 × 2576. Crie uma coluna adicional de rótulos indicando o gênero físico, por exemplo, {0 = feminino, 1 = masculino}\n"
      ]
    },
    {
      "cell_type": "markdown",
      "metadata": {},
      "source": [
        "\n",
        "○ Utilização do Scikit-learn\n",
        "\n",
        "○ KNNs\n",
        "\n",
        "○ Random Forests\n",
        "\n",
        "○ Métricas de Avaliação de Modelos de Classificação\n",
        "\n",
        "○ Otimização de hiperparâmetros"
      ]
    },
    {
      "cell_type": "code",
      "execution_count": 1,
      "metadata": {
        "id": "bVYUzHCa68gJ"
      },
      "outputs": [],
      "source": [
        "import cv2\n",
        "import os\n",
        "import numpy as np\n",
        "import matplotlib.pyplot as plt\n",
        "from sklearn.model_selection import train_test_split\n",
        "from sklearn.metrics import accuracy_score"
      ]
    },
    {
      "cell_type": "code",
      "execution_count": 2,
      "metadata": {
        "colab": {
          "base_uri": "https://localhost:8080/"
        },
        "id": "zHnCuQps7QWE",
        "outputId": "9b49cbb6-51a0-4413-98ce-3b680683886e"
      },
      "outputs": [
        {
          "data": {
            "text/plain": [
              "(400, 1)"
            ]
          },
          "execution_count": 2,
          "metadata": {},
          "output_type": "execute_result"
        }
      ],
      "source": [
        "import numpy\n",
        "\n",
        "\n",
        "gender = [1, 1, 1, 1, 1, 1, 1, 0, 1, 0, 1, 1, 1, 1, 1, 1, 1, 1, 1, 1, 1, 1, 1, 1, 1, 1, 1 ,1, 1, 1, 1, 0, 1, 1, 0, 1, 1, 1, 1, 1]\n",
        "\n",
        "final = []\n",
        "for i in gender:\n",
        "  if i == 0:\n",
        "    for j in range(0,10):\n",
        "      final.append(0)\n",
        "    #new_list = [0,0,0,0,0,0,0,0,0,0]\n",
        "  else:\n",
        "    for j in range(0,10):\n",
        "      final.append(1)\n",
        "\n",
        "\n",
        " \n",
        "gender = np.asarray(final)\n",
        "gender = np.expand_dims(gender, axis=1)\n",
        "gender.shape\n",
        "\n",
        "\n"
      ]
    },
    {
      "cell_type": "code",
      "execution_count": 3,
      "metadata": {},
      "outputs": [
        {
          "name": "stdout",
          "output_type": "stream",
          "text": [
            "c:\\Users\\Drac3\\OneDrive\\Desktop\\Final_Project_Machine_Learning_I\n"
          ]
        }
      ],
      "source": [
        "import os\n",
        "print(os.getcwd())"
      ]
    },
    {
      "cell_type": "code",
      "execution_count": 4,
      "metadata": {
        "colab": {
          "base_uri": "https://localhost:8080/"
        },
        "id": "mfQFRHIOlq36",
        "outputId": "a384827d-810b-4b7e-a522-c50afbfa906c"
      },
      "outputs": [
        {
          "data": {
            "text/plain": [
              "(400, 5600)"
            ]
          },
          "execution_count": 4,
          "metadata": {},
          "output_type": "execute_result"
        }
      ],
      "source": [
        "from PIL import Image\n",
        "\n",
        "\n",
        "folder = './images/'  # Updated folder path\n",
        "\n",
        "def load_images_from_folder(folder):\n",
        "  i = 1\n",
        "  for filename in os.listdir(folder):\n",
        "    im = Image.open(os.path.join(folder,filename))\n",
        "    data = np.array(im)\n",
        "    flattened = data.flatten()\n",
        "    reshape_fla = np.expand_dims(flattened, axis=0)\n",
        "    if i == 1:\n",
        "      final = reshape_fla\n",
        "      i = 2\n",
        "    else:\n",
        "      final = np.vstack((final,reshape_fla))\n",
        "\n",
        "  return final\n",
        "\n",
        "\n",
        "pixels = load_images_from_folder(folder)\n",
        "\n",
        "pixels.shape"
      ]
    },
    {
      "cell_type": "markdown",
      "metadata": {
        "id": "i58DdNeR40a5"
      },
      "source": [
        "Regressando o rótulo de gênero em todos os 2576 pixels."
      ]
    },
    {
      "cell_type": "code",
      "execution_count": 5,
      "metadata": {
        "id": "wOsmg4bjTa0r"
      },
      "outputs": [],
      "source": [
        "Y = gender\n",
        "X = pixels"
      ]
    },
    {
      "cell_type": "code",
      "execution_count": 6,
      "metadata": {
        "id": "38rP1hiPcDxq"
      },
      "outputs": [],
      "source": [
        "import statsmodels.api as sm\n",
        "\n",
        "X_reg = sm.add_constant(X)\n",
        "model = sm.OLS(Y,X_reg)\n",
        "results = model.fit()"
      ]
    },
    {
      "cell_type": "code",
      "execution_count": 7,
      "metadata": {
        "colab": {
          "base_uri": "https://localhost:8080/"
        },
        "id": "xP_2aglucW4f",
        "outputId": "1e41e322-65aa-4e16-c7b2-724777519486"
      },
      "outputs": [
        {
          "data": {
            "text/plain": [
              "array([2.15568857e-06, 4.83164692e-05, 2.07274421e-05, ...,\n",
              "       3.25743479e-05, 1.16551400e-04, 8.61888666e-05])"
            ]
          },
          "execution_count": 7,
          "metadata": {},
          "output_type": "execute_result"
        }
      ],
      "source": [
        "results.params"
      ]
    },
    {
      "cell_type": "markdown",
      "metadata": {
        "id": "vxv22q22dMUU"
      },
      "source": [
        "Realize a regressão passo a passo a partir de um modelo nulo para encontrar os pixels importantes. Plote os pixels escolhidos em uma tela de 46 × 56."
      ]
    },
    {
      "cell_type": "code",
      "execution_count": 8,
      "metadata": {
        "colab": {
          "base_uri": "https://localhost:8080/"
        },
        "id": "7TSZ5LVAU2yh",
        "outputId": "f277bd2e-02b2-4265-99af-924ddf193860"
      },
      "outputs": [
        {
          "data": {
            "text/plain": [
              "(400, 5600)"
            ]
          },
          "execution_count": 8,
          "metadata": {},
          "output_type": "execute_result"
        }
      ],
      "source": [
        "Y.shape\n",
        "X.shape"
      ]
    },
    {
      "cell_type": "code",
      "execution_count": 10,
      "metadata": {
        "colab": {
          "base_uri": "https://localhost:8080/"
        },
        "id": "54aOxcYUeqMv",
        "outputId": "1bc5ea6b-c8be-40b3-825a-aae61a7bbfde"
      },
      "outputs": [
        {
          "name": "stdout",
          "output_type": "stream",
          "text": [
            "Best Pixel: 1824, Best P-Value: 1.6131875247093263e-06\n"
          ]
        }
      ],
      "source": [
        "import numpy as np\n",
        "import statsmodels.api as sm\n",
        "\n",
        "# Assuming X and Y are defined somewhere above and are numpy arrays\n",
        "# X should be a 2D array (observations x pixels) and Y should be a 1D array (observations)\n",
        "\n",
        "best_p = float('inf')\n",
        "best_pixel = None\n",
        "\n",
        "# Transpose X to access columns easily\n",
        "X_transposed = X.T\n",
        "\n",
        "for j in range(len(X_transposed)):\n",
        "    Xs = sm.add_constant(X_transposed[j])  # Add constant to the model\n",
        "    model = sm.OLS(Y, Xs)\n",
        "    results = model.fit()\n",
        "    p_value = results.pvalues[1]  # Get the p-value for the current pixel\n",
        "\n",
        "    if p_value < best_p:\n",
        "        best_p = p_value\n",
        "        best_pixel = j\n",
        "\n",
        "print(f\"Best Pixel: {best_pixel}, Best P-Value: {best_p}\")\n"
      ]
    },
    {
      "cell_type": "code",
      "execution_count": 12,
      "metadata": {
        "id": "pwP-v3cHa4Og"
      },
      "outputs": [],
      "source": [
        "#first pixel\n",
        "\n",
        "import statsmodels.api as sm\n",
        "\n",
        "Xs= []\n",
        "pvalues = []\n",
        "\n",
        "for j in range(0,len(X)):\n",
        "  for i in range(0,len(Y)):\n",
        "    Xs.append(X[i][j]) \n",
        "  Xs = sm.add_constant(Xs)\n",
        "  model_2 = sm.OLS(Y,Xs)\n",
        "  results_each = model_2.fit()\n",
        "  p_values = results_each.pvalues\n",
        "  pvalues.append(p_values[1])\n",
        "\n",
        "  Xs = []\n",
        "\n",
        "    \n",
        "\n"
      ]
    },
    {
      "cell_type": "code",
      "execution_count": 13,
      "metadata": {
        "colab": {
          "base_uri": "https://localhost:8080/"
        },
        "id": "H8KvZpOabeV8",
        "outputId": "58fa5c7a-e9c4-4dd6-aa16-0367cbcbadce"
      },
      "outputs": [
        {
          "name": "stdout",
          "output_type": "stream",
          "text": [
            "First pixel =  0.04054828430444952 position =  364\n",
            "Second pixel =  0.04354810419281873 position =  365\n",
            "Third pixel =  0.04792225319327901 position =  68\n"
          ]
        }
      ],
      "source": [
        "# A Python program to find the first,\n",
        "# second and third minimum element\n",
        "# in an array\n",
        " \n",
        "MAX = 100000\n",
        " \n",
        "def Print3Smallest(arr, n):\n",
        "    firstmin = MAX\n",
        "    secmin = MAX\n",
        "    thirdmin = MAX\n",
        " \n",
        "    for i in range(0, n):\n",
        "         \n",
        "        # Check if current element\n",
        "        # is less than firstmin,\n",
        "        # then update first,second\n",
        "        # and third\n",
        " \n",
        "        if arr[i] < firstmin:\n",
        "            thirdmin = secmin\n",
        "            secmin = firstmin\n",
        "            firstmin = arr[i]\n",
        "            first = i\n",
        " \n",
        "        # Check if current element is\n",
        "        # less than secmin then update\n",
        "        # second and third\n",
        "        elif arr[i] < secmin:\n",
        "            thirdmin = secmin\n",
        "            secmin = arr[i]\n",
        "            second = i\n",
        " \n",
        "        # Check if current element is\n",
        "        # less than,then update third\n",
        "        elif arr[i] < thirdmin:\n",
        "            thirdmin = arr[i]\n",
        "            third = i\n",
        " \n",
        "    print(\"First pixel = \", firstmin, \"position = \", first)\n",
        "    print(\"Second pixel = \", secmin, \"position = \", second)\n",
        "    print(\"Third pixel = \", thirdmin, \"position = \", third)\n",
        "\n",
        "    return first, second, third\n",
        " \n",
        " \n",
        "\n",
        "n = len(pvalues)\n",
        "first, second, third = Print3Smallest(pvalues, n)\n",
        "\n",
        "pixels =  [first, second, third]\n"
      ]
    },
    {
      "cell_type": "code",
      "execution_count": 14,
      "metadata": {
        "colab": {
          "base_uri": "https://localhost:8080/"
        },
        "id": "U14VPZUpkr5m",
        "outputId": "5eaa3032-db03-4ccd-f425-f13d1397e7e2"
      },
      "outputs": [],
      "source": [
        "import math\n",
        "\n",
        "x_pos = []\n",
        "y_pos = []\n",
        "width = 46\n",
        "\n",
        "for pixel in pixels:\n",
        "  y_posi = pixel//width \n",
        "  x_posi = (pixel - (width*y_posi)) + 1 \n",
        "  x_pos.append(x_posi)\n",
        "  y_pos.append(y_posi)\n",
        "\n",
        "x_pos.append(46)\n",
        "y_pos.append(56)"
      ]
    },
    {
      "cell_type": "code",
      "execution_count": 15,
      "metadata": {
        "colab": {
          "base_uri": "https://localhost:8080/",
          "height": 295
        },
        "id": "zoEcjUZNs9V3",
        "outputId": "d0ec491c-fe07-4ef2-ac76-8eaccfa017bb"
      },
      "outputs": [
        {
          "data": {
            "image/png": "[encoded data removed]",
            "text/plain": [
              "<Figure size 640x480 with 1 Axes>"
            ]
          },
          "metadata": {},
          "output_type": "display_data"
        }
      ],
      "source": [
        "import matplotlib.pyplot as plt\n",
        "\n",
        "\n",
        "#colors = np.random.rand(N)\n",
        "colors=[\"b\", \"b\", \"b\", \"w\"]\n",
        "\n",
        "plt.scatter(x_pos,y_pos, c=colors)\n",
        "\n",
        "plt.title('Canva pixels')\n",
        "plt.xlabel('x')\n",
        "plt.ylabel('y')\n",
        "\n",
        "plt.show()"
      ]
    },
    {
      "cell_type": "markdown",
      "metadata": {},
      "source": [
        "LASSO"
      ]
    },
    {
      "cell_type": "code",
      "execution_count": 21,
      "metadata": {},
      "outputs": [],
      "source": [
        "y = gender\n"
      ]
    },
    {
      "cell_type": "code",
      "execution_count": 27,
      "metadata": {},
      "outputs": [
        {
          "name": "stderr",
          "output_type": "stream",
          "text": [
            "C:\\Users\\Drac3\\AppData\\Local\\Packages\\PythonSoftwareFoundation.Python.3.11_qbz5n2kfra8p0\\LocalCache\\local-packages\\Python311\\site-packages\\sklearn\\linear_model\\_coordinate_descent.py:678: ConvergenceWarning: Objective did not converge. You might want to increase the number of iterations, check the scale of the features or consider increasing regularisation. Duality gap: 4.136e-02, tolerance: 3.600e-03\n",
            "  model = cd_fast.enet_coordinate_descent(\n",
            "C:\\Users\\Drac3\\AppData\\Local\\Packages\\PythonSoftwareFoundation.Python.3.11_qbz5n2kfra8p0\\LocalCache\\local-packages\\Python311\\site-packages\\sklearn\\linear_model\\_coordinate_descent.py:678: ConvergenceWarning: Objective did not converge. You might want to increase the number of iterations, check the scale of the features or consider increasing regularisation. Duality gap: 6.162e-02, tolerance: 3.600e-03\n",
            "  model = cd_fast.enet_coordinate_descent(\n",
            "C:\\Users\\Drac3\\AppData\\Local\\Packages\\PythonSoftwareFoundation.Python.3.11_qbz5n2kfra8p0\\LocalCache\\local-packages\\Python311\\site-packages\\sklearn\\linear_model\\_coordinate_descent.py:678: ConvergenceWarning: Objective did not converge. You might want to increase the number of iterations, check the scale of the features or consider increasing regularisation. Duality gap: 7.940e-02, tolerance: 3.600e-03\n",
            "  model = cd_fast.enet_coordinate_descent(\n",
            "C:\\Users\\Drac3\\AppData\\Local\\Packages\\PythonSoftwareFoundation.Python.3.11_qbz5n2kfra8p0\\LocalCache\\local-packages\\Python311\\site-packages\\sklearn\\linear_model\\_coordinate_descent.py:678: ConvergenceWarning: Objective did not converge. You might want to increase the number of iterations, check the scale of the features or consider increasing regularisation. Duality gap: 8.702e-02, tolerance: 3.600e-03\n",
            "  model = cd_fast.enet_coordinate_descent(\n",
            "C:\\Users\\Drac3\\AppData\\Local\\Packages\\PythonSoftwareFoundation.Python.3.11_qbz5n2kfra8p0\\LocalCache\\local-packages\\Python311\\site-packages\\sklearn\\linear_model\\_coordinate_descent.py:678: ConvergenceWarning: Objective did not converge. You might want to increase the number of iterations, check the scale of the features or consider increasing regularisation. Duality gap: 9.773e-02, tolerance: 3.600e-03\n",
            "  model = cd_fast.enet_coordinate_descent(\n",
            "C:\\Users\\Drac3\\AppData\\Local\\Packages\\PythonSoftwareFoundation.Python.3.11_qbz5n2kfra8p0\\LocalCache\\local-packages\\Python311\\site-packages\\sklearn\\linear_model\\_coordinate_descent.py:678: ConvergenceWarning: Objective did not converge. You might want to increase the number of iterations, check the scale of the features or consider increasing regularisation. Duality gap: 1.060e-01, tolerance: 3.600e-03\n",
            "  model = cd_fast.enet_coordinate_descent(\n",
            "C:\\Users\\Drac3\\AppData\\Local\\Packages\\PythonSoftwareFoundation.Python.3.11_qbz5n2kfra8p0\\LocalCache\\local-packages\\Python311\\site-packages\\sklearn\\linear_model\\_coordinate_descent.py:678: ConvergenceWarning: Objective did not converge. You might want to increase the number of iterations, check the scale of the features or consider increasing regularisation. Duality gap: 1.072e-01, tolerance: 3.600e-03\n",
            "  model = cd_fast.enet_coordinate_descent(\n",
            "C:\\Users\\Drac3\\AppData\\Local\\Packages\\PythonSoftwareFoundation.Python.3.11_qbz5n2kfra8p0\\LocalCache\\local-packages\\Python311\\site-packages\\sklearn\\linear_model\\_coordinate_descent.py:678: ConvergenceWarning: Objective did not converge. You might want to increase the number of iterations, check the scale of the features or consider increasing regularisation. Duality gap: 1.216e-01, tolerance: 3.600e-03\n",
            "  model = cd_fast.enet_coordinate_descent(\n",
            "C:\\Users\\Drac3\\AppData\\Local\\Packages\\PythonSoftwareFoundation.Python.3.11_qbz5n2kfra8p0\\LocalCache\\local-packages\\Python311\\site-packages\\sklearn\\linear_model\\_coordinate_descent.py:678: ConvergenceWarning: Objective did not converge. You might want to increase the number of iterations, check the scale of the features or consider increasing regularisation. Duality gap: 1.227e-01, tolerance: 3.600e-03\n",
            "  model = cd_fast.enet_coordinate_descent(\n",
            "C:\\Users\\Drac3\\AppData\\Local\\Packages\\PythonSoftwareFoundation.Python.3.11_qbz5n2kfra8p0\\LocalCache\\local-packages\\Python311\\site-packages\\sklearn\\linear_model\\_coordinate_descent.py:678: ConvergenceWarning: Objective did not converge. You might want to increase the number of iterations, check the scale of the features or consider increasing regularisation. Duality gap: 1.269e-01, tolerance: 3.600e-03\n",
            "  model = cd_fast.enet_coordinate_descent(\n",
            "C:\\Users\\Drac3\\AppData\\Local\\Packages\\PythonSoftwareFoundation.Python.3.11_qbz5n2kfra8p0\\LocalCache\\local-packages\\Python311\\site-packages\\sklearn\\linear_model\\_coordinate_descent.py:678: ConvergenceWarning: Objective did not converge. You might want to increase the number of iterations, check the scale of the features or consider increasing regularisation. Duality gap: 1.415e-01, tolerance: 3.600e-03\n",
            "  model = cd_fast.enet_coordinate_descent(\n",
            "C:\\Users\\Drac3\\AppData\\Local\\Packages\\PythonSoftwareFoundation.Python.3.11_qbz5n2kfra8p0\\LocalCache\\local-packages\\Python311\\site-packages\\sklearn\\linear_model\\_coordinate_descent.py:678: ConvergenceWarning: Objective did not converge. You might want to increase the number of iterations, check the scale of the features or consider increasing regularisation. Duality gap: 1.519e-01, tolerance: 3.600e-03\n",
            "  model = cd_fast.enet_coordinate_descent(\n",
            "C:\\Users\\Drac3\\AppData\\Local\\Packages\\PythonSoftwareFoundation.Python.3.11_qbz5n2kfra8p0\\LocalCache\\local-packages\\Python311\\site-packages\\sklearn\\linear_model\\_coordinate_descent.py:678: ConvergenceWarning: Objective did not converge. You might want to increase the number of iterations, check the scale of the features or consider increasing regularisation. Duality gap: 1.850e-01, tolerance: 3.600e-03\n",
            "  model = cd_fast.enet_coordinate_descent(\n",
            "C:\\Users\\Drac3\\AppData\\Local\\Packages\\PythonSoftwareFoundation.Python.3.11_qbz5n2kfra8p0\\LocalCache\\local-packages\\Python311\\site-packages\\sklearn\\linear_model\\_coordinate_descent.py:678: ConvergenceWarning: Objective did not converge. You might want to increase the number of iterations, check the scale of the features or consider increasing regularisation. Duality gap: 1.809e-01, tolerance: 3.600e-03\n",
            "  model = cd_fast.enet_coordinate_descent(\n",
            "C:\\Users\\Drac3\\AppData\\Local\\Packages\\PythonSoftwareFoundation.Python.3.11_qbz5n2kfra8p0\\LocalCache\\local-packages\\Python311\\site-packages\\sklearn\\linear_model\\_coordinate_descent.py:678: ConvergenceWarning: Objective did not converge. You might want to increase the number of iterations, check the scale of the features or consider increasing regularisation. Duality gap: 1.647e-01, tolerance: 3.600e-03\n",
            "  model = cd_fast.enet_coordinate_descent(\n",
            "C:\\Users\\Drac3\\AppData\\Local\\Packages\\PythonSoftwareFoundation.Python.3.11_qbz5n2kfra8p0\\LocalCache\\local-packages\\Python311\\site-packages\\sklearn\\linear_model\\_coordinate_descent.py:678: ConvergenceWarning: Objective did not converge. You might want to increase the number of iterations, check the scale of the features or consider increasing regularisation. Duality gap: 1.701e-01, tolerance: 3.600e-03\n",
            "  model = cd_fast.enet_coordinate_descent(\n",
            "C:\\Users\\Drac3\\AppData\\Local\\Packages\\PythonSoftwareFoundation.Python.3.11_qbz5n2kfra8p0\\LocalCache\\local-packages\\Python311\\site-packages\\sklearn\\linear_model\\_coordinate_descent.py:678: ConvergenceWarning: Objective did not converge. You might want to increase the number of iterations, check the scale of the features or consider increasing regularisation. Duality gap: 1.837e-01, tolerance: 3.600e-03\n",
            "  model = cd_fast.enet_coordinate_descent(\n",
            "C:\\Users\\Drac3\\AppData\\Local\\Packages\\PythonSoftwareFoundation.Python.3.11_qbz5n2kfra8p0\\LocalCache\\local-packages\\Python311\\site-packages\\sklearn\\linear_model\\_coordinate_descent.py:678: ConvergenceWarning: Objective did not converge. You might want to increase the number of iterations, check the scale of the features or consider increasing regularisation. Duality gap: 1.652e-01, tolerance: 3.600e-03\n",
            "  model = cd_fast.enet_coordinate_descent(\n",
            "C:\\Users\\Drac3\\AppData\\Local\\Packages\\PythonSoftwareFoundation.Python.3.11_qbz5n2kfra8p0\\LocalCache\\local-packages\\Python311\\site-packages\\sklearn\\linear_model\\_coordinate_descent.py:678: ConvergenceWarning: Objective did not converge. You might want to increase the number of iterations, check the scale of the features or consider increasing regularisation. Duality gap: 1.708e-01, tolerance: 3.600e-03\n",
            "  model = cd_fast.enet_coordinate_descent(\n",
            "C:\\Users\\Drac3\\AppData\\Local\\Packages\\PythonSoftwareFoundation.Python.3.11_qbz5n2kfra8p0\\LocalCache\\local-packages\\Python311\\site-packages\\sklearn\\linear_model\\_coordinate_descent.py:678: ConvergenceWarning: Objective did not converge. You might want to increase the number of iterations, check the scale of the features or consider increasing regularisation. Duality gap: 1.720e-01, tolerance: 3.600e-03\n",
            "  model = cd_fast.enet_coordinate_descent(\n",
            "C:\\Users\\Drac3\\AppData\\Local\\Packages\\PythonSoftwareFoundation.Python.3.11_qbz5n2kfra8p0\\LocalCache\\local-packages\\Python311\\site-packages\\sklearn\\linear_model\\_coordinate_descent.py:678: ConvergenceWarning: Objective did not converge. You might want to increase the number of iterations, check the scale of the features or consider increasing regularisation. Duality gap: 1.671e-01, tolerance: 3.600e-03\n",
            "  model = cd_fast.enet_coordinate_descent(\n",
            "C:\\Users\\Drac3\\AppData\\Local\\Packages\\PythonSoftwareFoundation.Python.3.11_qbz5n2kfra8p0\\LocalCache\\local-packages\\Python311\\site-packages\\sklearn\\linear_model\\_coordinate_descent.py:678: ConvergenceWarning: Objective did not converge. You might want to increase the number of iterations, check the scale of the features or consider increasing regularisation. Duality gap: 1.842e-01, tolerance: 3.600e-03\n",
            "  model = cd_fast.enet_coordinate_descent(\n",
            "C:\\Users\\Drac3\\AppData\\Local\\Packages\\PythonSoftwareFoundation.Python.3.11_qbz5n2kfra8p0\\LocalCache\\local-packages\\Python311\\site-packages\\sklearn\\linear_model\\_coordinate_descent.py:678: ConvergenceWarning: Objective did not converge. You might want to increase the number of iterations, check the scale of the features or consider increasing regularisation. Duality gap: 1.878e-01, tolerance: 3.600e-03\n",
            "  model = cd_fast.enet_coordinate_descent(\n",
            "C:\\Users\\Drac3\\AppData\\Local\\Packages\\PythonSoftwareFoundation.Python.3.11_qbz5n2kfra8p0\\LocalCache\\local-packages\\Python311\\site-packages\\sklearn\\linear_model\\_coordinate_descent.py:678: ConvergenceWarning: Objective did not converge. You might want to increase the number of iterations, check the scale of the features or consider increasing regularisation. Duality gap: 1.917e-01, tolerance: 3.600e-03\n",
            "  model = cd_fast.enet_coordinate_descent(\n",
            "C:\\Users\\Drac3\\AppData\\Local\\Packages\\PythonSoftwareFoundation.Python.3.11_qbz5n2kfra8p0\\LocalCache\\local-packages\\Python311\\site-packages\\sklearn\\linear_model\\_coordinate_descent.py:678: ConvergenceWarning: Objective did not converge. You might want to increase the number of iterations, check the scale of the features or consider increasing regularisation. Duality gap: 1.998e-01, tolerance: 3.600e-03\n",
            "  model = cd_fast.enet_coordinate_descent(\n",
            "C:\\Users\\Drac3\\AppData\\Local\\Packages\\PythonSoftwareFoundation.Python.3.11_qbz5n2kfra8p0\\LocalCache\\local-packages\\Python311\\site-packages\\sklearn\\linear_model\\_coordinate_descent.py:678: ConvergenceWarning: Objective did not converge. You might want to increase the number of iterations, check the scale of the features or consider increasing regularisation. Duality gap: 2.092e-01, tolerance: 3.600e-03\n",
            "  model = cd_fast.enet_coordinate_descent(\n",
            "C:\\Users\\Drac3\\AppData\\Local\\Packages\\PythonSoftwareFoundation.Python.3.11_qbz5n2kfra8p0\\LocalCache\\local-packages\\Python311\\site-packages\\sklearn\\linear_model\\_coordinate_descent.py:678: ConvergenceWarning: Objective did not converge. You might want to increase the number of iterations, check the scale of the features or consider increasing regularisation. Duality gap: 2.134e-01, tolerance: 3.600e-03\n",
            "  model = cd_fast.enet_coordinate_descent(\n",
            "C:\\Users\\Drac3\\AppData\\Local\\Packages\\PythonSoftwareFoundation.Python.3.11_qbz5n2kfra8p0\\LocalCache\\local-packages\\Python311\\site-packages\\sklearn\\linear_model\\_coordinate_descent.py:678: ConvergenceWarning: Objective did not converge. You might want to increase the number of iterations, check the scale of the features or consider increasing regularisation. Duality gap: 2.005e-01, tolerance: 3.600e-03\n",
            "  model = cd_fast.enet_coordinate_descent(\n",
            "C:\\Users\\Drac3\\AppData\\Local\\Packages\\PythonSoftwareFoundation.Python.3.11_qbz5n2kfra8p0\\LocalCache\\local-packages\\Python311\\site-packages\\sklearn\\linear_model\\_coordinate_descent.py:678: ConvergenceWarning: Objective did not converge. You might want to increase the number of iterations, check the scale of the features or consider increasing regularisation. Duality gap: 1.968e-01, tolerance: 3.600e-03\n",
            "  model = cd_fast.enet_coordinate_descent(\n",
            "C:\\Users\\Drac3\\AppData\\Local\\Packages\\PythonSoftwareFoundation.Python.3.11_qbz5n2kfra8p0\\LocalCache\\local-packages\\Python311\\site-packages\\sklearn\\linear_model\\_coordinate_descent.py:678: ConvergenceWarning: Objective did not converge. You might want to increase the number of iterations, check the scale of the features or consider increasing regularisation. Duality gap: 2.006e-01, tolerance: 3.600e-03\n",
            "  model = cd_fast.enet_coordinate_descent(\n",
            "C:\\Users\\Drac3\\AppData\\Local\\Packages\\PythonSoftwareFoundation.Python.3.11_qbz5n2kfra8p0\\LocalCache\\local-packages\\Python311\\site-packages\\sklearn\\linear_model\\_coordinate_descent.py:678: ConvergenceWarning: Objective did not converge. You might want to increase the number of iterations, check the scale of the features or consider increasing regularisation. Duality gap: 1.952e-01, tolerance: 3.600e-03\n",
            "  model = cd_fast.enet_coordinate_descent(\n",
            "C:\\Users\\Drac3\\AppData\\Local\\Packages\\PythonSoftwareFoundation.Python.3.11_qbz5n2kfra8p0\\LocalCache\\local-packages\\Python311\\site-packages\\sklearn\\linear_model\\_coordinate_descent.py:678: ConvergenceWarning: Objective did not converge. You might want to increase the number of iterations, check the scale of the features or consider increasing regularisation. Duality gap: 1.871e-01, tolerance: 3.600e-03\n",
            "  model = cd_fast.enet_coordinate_descent(\n",
            "C:\\Users\\Drac3\\AppData\\Local\\Packages\\PythonSoftwareFoundation.Python.3.11_qbz5n2kfra8p0\\LocalCache\\local-packages\\Python311\\site-packages\\sklearn\\linear_model\\_coordinate_descent.py:678: ConvergenceWarning: Objective did not converge. You might want to increase the number of iterations, check the scale of the features or consider increasing regularisation. Duality gap: 1.774e-01, tolerance: 3.600e-03\n",
            "  model = cd_fast.enet_coordinate_descent(\n",
            "C:\\Users\\Drac3\\AppData\\Local\\Packages\\PythonSoftwareFoundation.Python.3.11_qbz5n2kfra8p0\\LocalCache\\local-packages\\Python311\\site-packages\\sklearn\\linear_model\\_coordinate_descent.py:678: ConvergenceWarning: Objective did not converge. You might want to increase the number of iterations, check the scale of the features or consider increasing regularisation. Duality gap: 1.651e-01, tolerance: 3.600e-03\n",
            "  model = cd_fast.enet_coordinate_descent(\n",
            "C:\\Users\\Drac3\\AppData\\Local\\Packages\\PythonSoftwareFoundation.Python.3.11_qbz5n2kfra8p0\\LocalCache\\local-packages\\Python311\\site-packages\\sklearn\\linear_model\\_coordinate_descent.py:678: ConvergenceWarning: Objective did not converge. You might want to increase the number of iterations, check the scale of the features or consider increasing regularisation. Duality gap: 1.741e-01, tolerance: 3.600e-03\n",
            "  model = cd_fast.enet_coordinate_descent(\n",
            "C:\\Users\\Drac3\\AppData\\Local\\Packages\\PythonSoftwareFoundation.Python.3.11_qbz5n2kfra8p0\\LocalCache\\local-packages\\Python311\\site-packages\\sklearn\\linear_model\\_coordinate_descent.py:678: ConvergenceWarning: Objective did not converge. You might want to increase the number of iterations, check the scale of the features or consider increasing regularisation. Duality gap: 1.682e-01, tolerance: 3.600e-03\n",
            "  model = cd_fast.enet_coordinate_descent(\n",
            "C:\\Users\\Drac3\\AppData\\Local\\Packages\\PythonSoftwareFoundation.Python.3.11_qbz5n2kfra8p0\\LocalCache\\local-packages\\Python311\\site-packages\\sklearn\\linear_model\\_coordinate_descent.py:678: ConvergenceWarning: Objective did not converge. You might want to increase the number of iterations, check the scale of the features or consider increasing regularisation. Duality gap: 1.634e-01, tolerance: 3.600e-03\n",
            "  model = cd_fast.enet_coordinate_descent(\n",
            "C:\\Users\\Drac3\\AppData\\Local\\Packages\\PythonSoftwareFoundation.Python.3.11_qbz5n2kfra8p0\\LocalCache\\local-packages\\Python311\\site-packages\\sklearn\\linear_model\\_coordinate_descent.py:678: ConvergenceWarning: Objective did not converge. You might want to increase the number of iterations, check the scale of the features or consider increasing regularisation. Duality gap: 1.532e-01, tolerance: 3.600e-03\n",
            "  model = cd_fast.enet_coordinate_descent(\n",
            "C:\\Users\\Drac3\\AppData\\Local\\Packages\\PythonSoftwareFoundation.Python.3.11_qbz5n2kfra8p0\\LocalCache\\local-packages\\Python311\\site-packages\\sklearn\\linear_model\\_coordinate_descent.py:678: ConvergenceWarning: Objective did not converge. You might want to increase the number of iterations, check the scale of the features or consider increasing regularisation. Duality gap: 1.521e-01, tolerance: 3.600e-03\n",
            "  model = cd_fast.enet_coordinate_descent(\n",
            "C:\\Users\\Drac3\\AppData\\Local\\Packages\\PythonSoftwareFoundation.Python.3.11_qbz5n2kfra8p0\\LocalCache\\local-packages\\Python311\\site-packages\\sklearn\\linear_model\\_coordinate_descent.py:678: ConvergenceWarning: Objective did not converge. You might want to increase the number of iterations, check the scale of the features or consider increasing regularisation. Duality gap: 1.541e-01, tolerance: 3.600e-03\n",
            "  model = cd_fast.enet_coordinate_descent(\n",
            "C:\\Users\\Drac3\\AppData\\Local\\Packages\\PythonSoftwareFoundation.Python.3.11_qbz5n2kfra8p0\\LocalCache\\local-packages\\Python311\\site-packages\\sklearn\\linear_model\\_coordinate_descent.py:678: ConvergenceWarning: Objective did not converge. You might want to increase the number of iterations, check the scale of the features or consider increasing regularisation. Duality gap: 1.486e-01, tolerance: 3.600e-03\n",
            "  model = cd_fast.enet_coordinate_descent(\n",
            "C:\\Users\\Drac3\\AppData\\Local\\Packages\\PythonSoftwareFoundation.Python.3.11_qbz5n2kfra8p0\\LocalCache\\local-packages\\Python311\\site-packages\\sklearn\\linear_model\\_coordinate_descent.py:678: ConvergenceWarning: Objective did not converge. You might want to increase the number of iterations, check the scale of the features or consider increasing regularisation. Duality gap: 1.514e-01, tolerance: 3.600e-03\n",
            "  model = cd_fast.enet_coordinate_descent(\n",
            "C:\\Users\\Drac3\\AppData\\Local\\Packages\\PythonSoftwareFoundation.Python.3.11_qbz5n2kfra8p0\\LocalCache\\local-packages\\Python311\\site-packages\\sklearn\\linear_model\\_coordinate_descent.py:678: ConvergenceWarning: Objective did not converge. You might want to increase the number of iterations, check the scale of the features or consider increasing regularisation. Duality gap: 1.427e-01, tolerance: 3.600e-03\n",
            "  model = cd_fast.enet_coordinate_descent(\n",
            "C:\\Users\\Drac3\\AppData\\Local\\Packages\\PythonSoftwareFoundation.Python.3.11_qbz5n2kfra8p0\\LocalCache\\local-packages\\Python311\\site-packages\\sklearn\\linear_model\\_coordinate_descent.py:678: ConvergenceWarning: Objective did not converge. You might want to increase the number of iterations, check the scale of the features or consider increasing regularisation. Duality gap: 1.323e-01, tolerance: 3.600e-03\n",
            "  model = cd_fast.enet_coordinate_descent(\n",
            "C:\\Users\\Drac3\\AppData\\Local\\Packages\\PythonSoftwareFoundation.Python.3.11_qbz5n2kfra8p0\\LocalCache\\local-packages\\Python311\\site-packages\\sklearn\\linear_model\\_coordinate_descent.py:678: ConvergenceWarning: Objective did not converge. You might want to increase the number of iterations, check the scale of the features or consider increasing regularisation. Duality gap: 1.316e-01, tolerance: 3.600e-03\n",
            "  model = cd_fast.enet_coordinate_descent(\n",
            "C:\\Users\\Drac3\\AppData\\Local\\Packages\\PythonSoftwareFoundation.Python.3.11_qbz5n2kfra8p0\\LocalCache\\local-packages\\Python311\\site-packages\\sklearn\\linear_model\\_coordinate_descent.py:678: ConvergenceWarning: Objective did not converge. You might want to increase the number of iterations, check the scale of the features or consider increasing regularisation. Duality gap: 1.348e-01, tolerance: 3.600e-03\n",
            "  model = cd_fast.enet_coordinate_descent(\n",
            "C:\\Users\\Drac3\\AppData\\Local\\Packages\\PythonSoftwareFoundation.Python.3.11_qbz5n2kfra8p0\\LocalCache\\local-packages\\Python311\\site-packages\\sklearn\\linear_model\\_coordinate_descent.py:678: ConvergenceWarning: Objective did not converge. You might want to increase the number of iterations, check the scale of the features or consider increasing regularisation. Duality gap: 1.373e-01, tolerance: 3.600e-03\n",
            "  model = cd_fast.enet_coordinate_descent(\n",
            "C:\\Users\\Drac3\\AppData\\Local\\Packages\\PythonSoftwareFoundation.Python.3.11_qbz5n2kfra8p0\\LocalCache\\local-packages\\Python311\\site-packages\\sklearn\\linear_model\\_coordinate_descent.py:678: ConvergenceWarning: Objective did not converge. You might want to increase the number of iterations, check the scale of the features or consider increasing regularisation. Duality gap: 1.322e-01, tolerance: 3.600e-03\n",
            "  model = cd_fast.enet_coordinate_descent(\n",
            "C:\\Users\\Drac3\\AppData\\Local\\Packages\\PythonSoftwareFoundation.Python.3.11_qbz5n2kfra8p0\\LocalCache\\local-packages\\Python311\\site-packages\\sklearn\\linear_model\\_coordinate_descent.py:678: ConvergenceWarning: Objective did not converge. You might want to increase the number of iterations, check the scale of the features or consider increasing regularisation. Duality gap: 1.339e-01, tolerance: 3.600e-03\n",
            "  model = cd_fast.enet_coordinate_descent(\n",
            "C:\\Users\\Drac3\\AppData\\Local\\Packages\\PythonSoftwareFoundation.Python.3.11_qbz5n2kfra8p0\\LocalCache\\local-packages\\Python311\\site-packages\\sklearn\\linear_model\\_coordinate_descent.py:678: ConvergenceWarning: Objective did not converge. You might want to increase the number of iterations, check the scale of the features or consider increasing regularisation. Duality gap: 1.343e-01, tolerance: 3.600e-03\n",
            "  model = cd_fast.enet_coordinate_descent(\n",
            "C:\\Users\\Drac3\\AppData\\Local\\Packages\\PythonSoftwareFoundation.Python.3.11_qbz5n2kfra8p0\\LocalCache\\local-packages\\Python311\\site-packages\\sklearn\\linear_model\\_coordinate_descent.py:678: ConvergenceWarning: Objective did not converge. You might want to increase the number of iterations, check the scale of the features or consider increasing regularisation. Duality gap: 1.323e-01, tolerance: 3.600e-03\n",
            "  model = cd_fast.enet_coordinate_descent(\n",
            "C:\\Users\\Drac3\\AppData\\Local\\Packages\\PythonSoftwareFoundation.Python.3.11_qbz5n2kfra8p0\\LocalCache\\local-packages\\Python311\\site-packages\\sklearn\\linear_model\\_coordinate_descent.py:678: ConvergenceWarning: Objective did not converge. You might want to increase the number of iterations, check the scale of the features or consider increasing regularisation. Duality gap: 1.325e-01, tolerance: 3.600e-03\n",
            "  model = cd_fast.enet_coordinate_descent(\n",
            "C:\\Users\\Drac3\\AppData\\Local\\Packages\\PythonSoftwareFoundation.Python.3.11_qbz5n2kfra8p0\\LocalCache\\local-packages\\Python311\\site-packages\\sklearn\\linear_model\\_coordinate_descent.py:678: ConvergenceWarning: Objective did not converge. You might want to increase the number of iterations, check the scale of the features or consider increasing regularisation. Duality gap: 1.389e-01, tolerance: 3.600e-03\n",
            "  model = cd_fast.enet_coordinate_descent(\n",
            "C:\\Users\\Drac3\\AppData\\Local\\Packages\\PythonSoftwareFoundation.Python.3.11_qbz5n2kfra8p0\\LocalCache\\local-packages\\Python311\\site-packages\\sklearn\\linear_model\\_coordinate_descent.py:678: ConvergenceWarning: Objective did not converge. You might want to increase the number of iterations, check the scale of the features or consider increasing regularisation. Duality gap: 1.560e-01, tolerance: 3.600e-03\n",
            "  model = cd_fast.enet_coordinate_descent(\n",
            "C:\\Users\\Drac3\\AppData\\Local\\Packages\\PythonSoftwareFoundation.Python.3.11_qbz5n2kfra8p0\\LocalCache\\local-packages\\Python311\\site-packages\\sklearn\\linear_model\\_coordinate_descent.py:678: ConvergenceWarning: Objective did not converge. You might want to increase the number of iterations, check the scale of the features or consider increasing regularisation. Duality gap: 1.582e-01, tolerance: 3.600e-03\n",
            "  model = cd_fast.enet_coordinate_descent(\n",
            "C:\\Users\\Drac3\\AppData\\Local\\Packages\\PythonSoftwareFoundation.Python.3.11_qbz5n2kfra8p0\\LocalCache\\local-packages\\Python311\\site-packages\\sklearn\\linear_model\\_coordinate_descent.py:678: ConvergenceWarning: Objective did not converge. You might want to increase the number of iterations, check the scale of the features or consider increasing regularisation. Duality gap: 1.426e-01, tolerance: 3.600e-03\n",
            "  model = cd_fast.enet_coordinate_descent(\n",
            "C:\\Users\\Drac3\\AppData\\Local\\Packages\\PythonSoftwareFoundation.Python.3.11_qbz5n2kfra8p0\\LocalCache\\local-packages\\Python311\\site-packages\\sklearn\\linear_model\\_coordinate_descent.py:678: ConvergenceWarning: Objective did not converge. You might want to increase the number of iterations, check the scale of the features or consider increasing regularisation. Duality gap: 1.340e-01, tolerance: 3.600e-03\n",
            "  model = cd_fast.enet_coordinate_descent(\n",
            "C:\\Users\\Drac3\\AppData\\Local\\Packages\\PythonSoftwareFoundation.Python.3.11_qbz5n2kfra8p0\\LocalCache\\local-packages\\Python311\\site-packages\\sklearn\\linear_model\\_coordinate_descent.py:678: ConvergenceWarning: Objective did not converge. You might want to increase the number of iterations, check the scale of the features or consider increasing regularisation. Duality gap: 1.234e-01, tolerance: 3.600e-03\n",
            "  model = cd_fast.enet_coordinate_descent(\n",
            "C:\\Users\\Drac3\\AppData\\Local\\Packages\\PythonSoftwareFoundation.Python.3.11_qbz5n2kfra8p0\\LocalCache\\local-packages\\Python311\\site-packages\\sklearn\\linear_model\\_coordinate_descent.py:678: ConvergenceWarning: Objective did not converge. You might want to increase the number of iterations, check the scale of the features or consider increasing regularisation. Duality gap: 1.193e-01, tolerance: 3.600e-03\n",
            "  model = cd_fast.enet_coordinate_descent(\n",
            "C:\\Users\\Drac3\\AppData\\Local\\Packages\\PythonSoftwareFoundation.Python.3.11_qbz5n2kfra8p0\\LocalCache\\local-packages\\Python311\\site-packages\\sklearn\\linear_model\\_coordinate_descent.py:678: ConvergenceWarning: Objective did not converge. You might want to increase the number of iterations, check the scale of the features or consider increasing regularisation. Duality gap: 1.169e-01, tolerance: 3.600e-03\n",
            "  model = cd_fast.enet_coordinate_descent(\n",
            "C:\\Users\\Drac3\\AppData\\Local\\Packages\\PythonSoftwareFoundation.Python.3.11_qbz5n2kfra8p0\\LocalCache\\local-packages\\Python311\\site-packages\\sklearn\\linear_model\\_coordinate_descent.py:678: ConvergenceWarning: Objective did not converge. You might want to increase the number of iterations, check the scale of the features or consider increasing regularisation. Duality gap: 1.124e-01, tolerance: 3.600e-03\n",
            "  model = cd_fast.enet_coordinate_descent(\n",
            "C:\\Users\\Drac3\\AppData\\Local\\Packages\\PythonSoftwareFoundation.Python.3.11_qbz5n2kfra8p0\\LocalCache\\local-packages\\Python311\\site-packages\\sklearn\\linear_model\\_coordinate_descent.py:678: ConvergenceWarning: Objective did not converge. You might want to increase the number of iterations, check the scale of the features or consider increasing regularisation. Duality gap: 1.135e-01, tolerance: 3.600e-03\n",
            "  model = cd_fast.enet_coordinate_descent(\n",
            "C:\\Users\\Drac3\\AppData\\Local\\Packages\\PythonSoftwareFoundation.Python.3.11_qbz5n2kfra8p0\\LocalCache\\local-packages\\Python311\\site-packages\\sklearn\\linear_model\\_coordinate_descent.py:678: ConvergenceWarning: Objective did not converge. You might want to increase the number of iterations, check the scale of the features or consider increasing regularisation. Duality gap: 1.162e-01, tolerance: 3.600e-03\n",
            "  model = cd_fast.enet_coordinate_descent(\n",
            "C:\\Users\\Drac3\\AppData\\Local\\Packages\\PythonSoftwareFoundation.Python.3.11_qbz5n2kfra8p0\\LocalCache\\local-packages\\Python311\\site-packages\\sklearn\\linear_model\\_coordinate_descent.py:678: ConvergenceWarning: Objective did not converge. You might want to increase the number of iterations, check the scale of the features or consider increasing regularisation. Duality gap: 1.099e-01, tolerance: 3.600e-03\n",
            "  model = cd_fast.enet_coordinate_descent(\n",
            "C:\\Users\\Drac3\\AppData\\Local\\Packages\\PythonSoftwareFoundation.Python.3.11_qbz5n2kfra8p0\\LocalCache\\local-packages\\Python311\\site-packages\\sklearn\\linear_model\\_coordinate_descent.py:678: ConvergenceWarning: Objective did not converge. You might want to increase the number of iterations, check the scale of the features or consider increasing regularisation. Duality gap: 1.057e-01, tolerance: 3.600e-03\n",
            "  model = cd_fast.enet_coordinate_descent(\n",
            "C:\\Users\\Drac3\\AppData\\Local\\Packages\\PythonSoftwareFoundation.Python.3.11_qbz5n2kfra8p0\\LocalCache\\local-packages\\Python311\\site-packages\\sklearn\\linear_model\\_coordinate_descent.py:678: ConvergenceWarning: Objective did not converge. You might want to increase the number of iterations, check the scale of the features or consider increasing regularisation. Duality gap: 1.057e-01, tolerance: 3.600e-03\n",
            "  model = cd_fast.enet_coordinate_descent(\n",
            "C:\\Users\\Drac3\\AppData\\Local\\Packages\\PythonSoftwareFoundation.Python.3.11_qbz5n2kfra8p0\\LocalCache\\local-packages\\Python311\\site-packages\\sklearn\\linear_model\\_coordinate_descent.py:678: ConvergenceWarning: Objective did not converge. You might want to increase the number of iterations, check the scale of the features or consider increasing regularisation. Duality gap: 1.047e-01, tolerance: 3.600e-03\n",
            "  model = cd_fast.enet_coordinate_descent(\n",
            "C:\\Users\\Drac3\\AppData\\Local\\Packages\\PythonSoftwareFoundation.Python.3.11_qbz5n2kfra8p0\\LocalCache\\local-packages\\Python311\\site-packages\\sklearn\\linear_model\\_coordinate_descent.py:678: ConvergenceWarning: Objective did not converge. You might want to increase the number of iterations, check the scale of the features or consider increasing regularisation. Duality gap: 1.033e-01, tolerance: 3.600e-03\n",
            "  model = cd_fast.enet_coordinate_descent(\n",
            "C:\\Users\\Drac3\\AppData\\Local\\Packages\\PythonSoftwareFoundation.Python.3.11_qbz5n2kfra8p0\\LocalCache\\local-packages\\Python311\\site-packages\\sklearn\\linear_model\\_coordinate_descent.py:678: ConvergenceWarning: Objective did not converge. You might want to increase the number of iterations, check the scale of the features or consider increasing regularisation. Duality gap: 9.334e-02, tolerance: 3.600e-03\n",
            "  model = cd_fast.enet_coordinate_descent(\n",
            "C:\\Users\\Drac3\\AppData\\Local\\Packages\\PythonSoftwareFoundation.Python.3.11_qbz5n2kfra8p0\\LocalCache\\local-packages\\Python311\\site-packages\\sklearn\\linear_model\\_coordinate_descent.py:678: ConvergenceWarning: Objective did not converge. You might want to increase the number of iterations, check the scale of the features or consider increasing regularisation. Duality gap: 8.354e-02, tolerance: 3.600e-03\n",
            "  model = cd_fast.enet_coordinate_descent(\n",
            "C:\\Users\\Drac3\\AppData\\Local\\Packages\\PythonSoftwareFoundation.Python.3.11_qbz5n2kfra8p0\\LocalCache\\local-packages\\Python311\\site-packages\\sklearn\\linear_model\\_coordinate_descent.py:678: ConvergenceWarning: Objective did not converge. You might want to increase the number of iterations, check the scale of the features or consider increasing regularisation. Duality gap: 7.787e-02, tolerance: 3.600e-03\n",
            "  model = cd_fast.enet_coordinate_descent(\n",
            "C:\\Users\\Drac3\\AppData\\Local\\Packages\\PythonSoftwareFoundation.Python.3.11_qbz5n2kfra8p0\\LocalCache\\local-packages\\Python311\\site-packages\\sklearn\\linear_model\\_coordinate_descent.py:678: ConvergenceWarning: Objective did not converge. You might want to increase the number of iterations, check the scale of the features or consider increasing regularisation. Duality gap: 7.409e-02, tolerance: 3.600e-03\n",
            "  model = cd_fast.enet_coordinate_descent(\n",
            "C:\\Users\\Drac3\\AppData\\Local\\Packages\\PythonSoftwareFoundation.Python.3.11_qbz5n2kfra8p0\\LocalCache\\local-packages\\Python311\\site-packages\\sklearn\\linear_model\\_coordinate_descent.py:678: ConvergenceWarning: Objective did not converge. You might want to increase the number of iterations, check the scale of the features or consider increasing regularisation. Duality gap: 7.114e-02, tolerance: 3.600e-03\n",
            "  model = cd_fast.enet_coordinate_descent(\n",
            "C:\\Users\\Drac3\\AppData\\Local\\Packages\\PythonSoftwareFoundation.Python.3.11_qbz5n2kfra8p0\\LocalCache\\local-packages\\Python311\\site-packages\\sklearn\\linear_model\\_coordinate_descent.py:678: ConvergenceWarning: Objective did not converge. You might want to increase the number of iterations, check the scale of the features or consider increasing regularisation. Duality gap: 6.514e-02, tolerance: 3.600e-03\n",
            "  model = cd_fast.enet_coordinate_descent(\n",
            "C:\\Users\\Drac3\\AppData\\Local\\Packages\\PythonSoftwareFoundation.Python.3.11_qbz5n2kfra8p0\\LocalCache\\local-packages\\Python311\\site-packages\\sklearn\\linear_model\\_coordinate_descent.py:678: ConvergenceWarning: Objective did not converge. You might want to increase the number of iterations, check the scale of the features or consider increasing regularisation. Duality gap: 6.243e-02, tolerance: 3.600e-03\n",
            "  model = cd_fast.enet_coordinate_descent(\n",
            "C:\\Users\\Drac3\\AppData\\Local\\Packages\\PythonSoftwareFoundation.Python.3.11_qbz5n2kfra8p0\\LocalCache\\local-packages\\Python311\\site-packages\\sklearn\\linear_model\\_coordinate_descent.py:678: ConvergenceWarning: Objective did not converge. You might want to increase the number of iterations, check the scale of the features or consider increasing regularisation. Duality gap: 6.085e-02, tolerance: 3.600e-03\n",
            "  model = cd_fast.enet_coordinate_descent(\n",
            "C:\\Users\\Drac3\\AppData\\Local\\Packages\\PythonSoftwareFoundation.Python.3.11_qbz5n2kfra8p0\\LocalCache\\local-packages\\Python311\\site-packages\\sklearn\\linear_model\\_coordinate_descent.py:678: ConvergenceWarning: Objective did not converge. You might want to increase the number of iterations, check the scale of the features or consider increasing regularisation. Duality gap: 5.886e-02, tolerance: 3.600e-03\n",
            "  model = cd_fast.enet_coordinate_descent(\n",
            "C:\\Users\\Drac3\\AppData\\Local\\Packages\\PythonSoftwareFoundation.Python.3.11_qbz5n2kfra8p0\\LocalCache\\local-packages\\Python311\\site-packages\\sklearn\\linear_model\\_coordinate_descent.py:678: ConvergenceWarning: Objective did not converge. You might want to increase the number of iterations, check the scale of the features or consider increasing regularisation. Duality gap: 5.433e-02, tolerance: 3.600e-03\n",
            "  model = cd_fast.enet_coordinate_descent(\n",
            "C:\\Users\\Drac3\\AppData\\Local\\Packages\\PythonSoftwareFoundation.Python.3.11_qbz5n2kfra8p0\\LocalCache\\local-packages\\Python311\\site-packages\\sklearn\\linear_model\\_coordinate_descent.py:678: ConvergenceWarning: Objective did not converge. You might want to increase the number of iterations, check the scale of the features or consider increasing regularisation. Duality gap: 5.841e-02, tolerance: 3.600e-03\n",
            "  model = cd_fast.enet_coordinate_descent(\n",
            "C:\\Users\\Drac3\\AppData\\Local\\Packages\\PythonSoftwareFoundation.Python.3.11_qbz5n2kfra8p0\\LocalCache\\local-packages\\Python311\\site-packages\\sklearn\\linear_model\\_coordinate_descent.py:678: ConvergenceWarning: Objective did not converge. You might want to increase the number of iterations, check the scale of the features or consider increasing regularisation. Duality gap: 5.995e-02, tolerance: 3.600e-03\n",
            "  model = cd_fast.enet_coordinate_descent(\n",
            "C:\\Users\\Drac3\\AppData\\Local\\Packages\\PythonSoftwareFoundation.Python.3.11_qbz5n2kfra8p0\\LocalCache\\local-packages\\Python311\\site-packages\\sklearn\\linear_model\\_coordinate_descent.py:678: ConvergenceWarning: Objective did not converge. You might want to increase the number of iterations, check the scale of the features or consider increasing regularisation. Duality gap: 5.831e-02, tolerance: 3.600e-03\n",
            "  model = cd_fast.enet_coordinate_descent(\n",
            "C:\\Users\\Drac3\\AppData\\Local\\Packages\\PythonSoftwareFoundation.Python.3.11_qbz5n2kfra8p0\\LocalCache\\local-packages\\Python311\\site-packages\\sklearn\\linear_model\\_coordinate_descent.py:678: ConvergenceWarning: Objective did not converge. You might want to increase the number of iterations, check the scale of the features or consider increasing regularisation. Duality gap: 5.325e-02, tolerance: 3.600e-03\n",
            "  model = cd_fast.enet_coordinate_descent(\n",
            "C:\\Users\\Drac3\\AppData\\Local\\Packages\\PythonSoftwareFoundation.Python.3.11_qbz5n2kfra8p0\\LocalCache\\local-packages\\Python311\\site-packages\\sklearn\\linear_model\\_coordinate_descent.py:678: ConvergenceWarning: Objective did not converge. You might want to increase the number of iterations, check the scale of the features or consider increasing regularisation. Duality gap: 5.486e-02, tolerance: 3.600e-03\n",
            "  model = cd_fast.enet_coordinate_descent(\n",
            "C:\\Users\\Drac3\\AppData\\Local\\Packages\\PythonSoftwareFoundation.Python.3.11_qbz5n2kfra8p0\\LocalCache\\local-packages\\Python311\\site-packages\\sklearn\\linear_model\\_coordinate_descent.py:678: ConvergenceWarning: Objective did not converge. You might want to increase the number of iterations, check the scale of the features or consider increasing regularisation. Duality gap: 5.491e-02, tolerance: 3.600e-03\n",
            "  model = cd_fast.enet_coordinate_descent(\n",
            "C:\\Users\\Drac3\\AppData\\Local\\Packages\\PythonSoftwareFoundation.Python.3.11_qbz5n2kfra8p0\\LocalCache\\local-packages\\Python311\\site-packages\\sklearn\\linear_model\\_coordinate_descent.py:678: ConvergenceWarning: Objective did not converge. You might want to increase the number of iterations, check the scale of the features or consider increasing regularisation. Duality gap: 5.373e-02, tolerance: 3.600e-03\n",
            "  model = cd_fast.enet_coordinate_descent(\n",
            "C:\\Users\\Drac3\\AppData\\Local\\Packages\\PythonSoftwareFoundation.Python.3.11_qbz5n2kfra8p0\\LocalCache\\local-packages\\Python311\\site-packages\\sklearn\\linear_model\\_coordinate_descent.py:678: ConvergenceWarning: Objective did not converge. You might want to increase the number of iterations, check the scale of the features or consider increasing regularisation. Duality gap: 5.110e-02, tolerance: 3.600e-03\n",
            "  model = cd_fast.enet_coordinate_descent(\n",
            "C:\\Users\\Drac3\\AppData\\Local\\Packages\\PythonSoftwareFoundation.Python.3.11_qbz5n2kfra8p0\\LocalCache\\local-packages\\Python311\\site-packages\\sklearn\\linear_model\\_coordinate_descent.py:678: ConvergenceWarning: Objective did not converge. You might want to increase the number of iterations, check the scale of the features or consider increasing regularisation. Duality gap: 4.710e-02, tolerance: 3.600e-03\n",
            "  model = cd_fast.enet_coordinate_descent(\n",
            "C:\\Users\\Drac3\\AppData\\Local\\Packages\\PythonSoftwareFoundation.Python.3.11_qbz5n2kfra8p0\\LocalCache\\local-packages\\Python311\\site-packages\\sklearn\\linear_model\\_coordinate_descent.py:678: ConvergenceWarning: Objective did not converge. You might want to increase the number of iterations, check the scale of the features or consider increasing regularisation. Duality gap: 4.534e-02, tolerance: 3.600e-03\n",
            "  model = cd_fast.enet_coordinate_descent(\n",
            "C:\\Users\\Drac3\\AppData\\Local\\Packages\\PythonSoftwareFoundation.Python.3.11_qbz5n2kfra8p0\\LocalCache\\local-packages\\Python311\\site-packages\\sklearn\\linear_model\\_coordinate_descent.py:678: ConvergenceWarning: Objective did not converge. You might want to increase the number of iterations, check the scale of the features or consider increasing regularisation. Duality gap: 4.462e-02, tolerance: 3.600e-03\n",
            "  model = cd_fast.enet_coordinate_descent(\n",
            "C:\\Users\\Drac3\\AppData\\Local\\Packages\\PythonSoftwareFoundation.Python.3.11_qbz5n2kfra8p0\\LocalCache\\local-packages\\Python311\\site-packages\\sklearn\\linear_model\\_coordinate_descent.py:678: ConvergenceWarning: Objective did not converge. You might want to increase the number of iterations, check the scale of the features or consider increasing regularisation. Duality gap: 4.371e-02, tolerance: 3.600e-03\n",
            "  model = cd_fast.enet_coordinate_descent(\n",
            "C:\\Users\\Drac3\\AppData\\Local\\Packages\\PythonSoftwareFoundation.Python.3.11_qbz5n2kfra8p0\\LocalCache\\local-packages\\Python311\\site-packages\\sklearn\\linear_model\\_coordinate_descent.py:678: ConvergenceWarning: Objective did not converge. You might want to increase the number of iterations, check the scale of the features or consider increasing regularisation. Duality gap: 4.280e-02, tolerance: 3.600e-03\n",
            "  model = cd_fast.enet_coordinate_descent(\n",
            "C:\\Users\\Drac3\\AppData\\Local\\Packages\\PythonSoftwareFoundation.Python.3.11_qbz5n2kfra8p0\\LocalCache\\local-packages\\Python311\\site-packages\\sklearn\\linear_model\\_coordinate_descent.py:678: ConvergenceWarning: Objective did not converge. You might want to increase the number of iterations, check the scale of the features or consider increasing regularisation. Duality gap: 4.039e-02, tolerance: 3.600e-03\n",
            "  model = cd_fast.enet_coordinate_descent(\n",
            "C:\\Users\\Drac3\\AppData\\Local\\Packages\\PythonSoftwareFoundation.Python.3.11_qbz5n2kfra8p0\\LocalCache\\local-packages\\Python311\\site-packages\\sklearn\\linear_model\\_coordinate_descent.py:678: ConvergenceWarning: Objective did not converge. You might want to increase the number of iterations, check the scale of the features or consider increasing regularisation. Duality gap: 3.916e-02, tolerance: 3.600e-03\n",
            "  model = cd_fast.enet_coordinate_descent(\n",
            "C:\\Users\\Drac3\\AppData\\Local\\Packages\\PythonSoftwareFoundation.Python.3.11_qbz5n2kfra8p0\\LocalCache\\local-packages\\Python311\\site-packages\\sklearn\\linear_model\\_coordinate_descent.py:678: ConvergenceWarning: Objective did not converge. You might want to increase the number of iterations, check the scale of the features or consider increasing regularisation. Duality gap: 3.532e-02, tolerance: 3.600e-03\n",
            "  model = cd_fast.enet_coordinate_descent(\n",
            "C:\\Users\\Drac3\\AppData\\Local\\Packages\\PythonSoftwareFoundation.Python.3.11_qbz5n2kfra8p0\\LocalCache\\local-packages\\Python311\\site-packages\\sklearn\\linear_model\\_coordinate_descent.py:678: ConvergenceWarning: Objective did not converge. You might want to increase the number of iterations, check the scale of the features or consider increasing regularisation. Duality gap: 3.295e-02, tolerance: 3.600e-03\n",
            "  model = cd_fast.enet_coordinate_descent(\n",
            "C:\\Users\\Drac3\\AppData\\Local\\Packages\\PythonSoftwareFoundation.Python.3.11_qbz5n2kfra8p0\\LocalCache\\local-packages\\Python311\\site-packages\\sklearn\\linear_model\\_coordinate_descent.py:678: ConvergenceWarning: Objective did not converge. You might want to increase the number of iterations, check the scale of the features or consider increasing regularisation. Duality gap: 3.187e-02, tolerance: 3.600e-03\n",
            "  model = cd_fast.enet_coordinate_descent(\n",
            "C:\\Users\\Drac3\\AppData\\Local\\Packages\\PythonSoftwareFoundation.Python.3.11_qbz5n2kfra8p0\\LocalCache\\local-packages\\Python311\\site-packages\\sklearn\\linear_model\\_coordinate_descent.py:678: ConvergenceWarning: Objective did not converge. You might want to increase the number of iterations, check the scale of the features or consider increasing regularisation. Duality gap: 3.215e-02, tolerance: 3.600e-03\n",
            "  model = cd_fast.enet_coordinate_descent(\n",
            "C:\\Users\\Drac3\\AppData\\Local\\Packages\\PythonSoftwareFoundation.Python.3.11_qbz5n2kfra8p0\\LocalCache\\local-packages\\Python311\\site-packages\\sklearn\\linear_model\\_coordinate_descent.py:678: ConvergenceWarning: Objective did not converge. You might want to increase the number of iterations, check the scale of the features or consider increasing regularisation. Duality gap: 3.264e-02, tolerance: 3.600e-03\n",
            "  model = cd_fast.enet_coordinate_descent(\n",
            "C:\\Users\\Drac3\\AppData\\Local\\Packages\\PythonSoftwareFoundation.Python.3.11_qbz5n2kfra8p0\\LocalCache\\local-packages\\Python311\\site-packages\\sklearn\\linear_model\\_coordinate_descent.py:678: ConvergenceWarning: Objective did not converge. You might want to increase the number of iterations, check the scale of the features or consider increasing regularisation. Duality gap: 3.257e-02, tolerance: 3.600e-03\n",
            "  model = cd_fast.enet_coordinate_descent(\n",
            "C:\\Users\\Drac3\\AppData\\Local\\Packages\\PythonSoftwareFoundation.Python.3.11_qbz5n2kfra8p0\\LocalCache\\local-packages\\Python311\\site-packages\\sklearn\\linear_model\\_coordinate_descent.py:678: ConvergenceWarning: Objective did not converge. You might want to increase the number of iterations, check the scale of the features or consider increasing regularisation. Duality gap: 3.396e-02, tolerance: 3.600e-03\n",
            "  model = cd_fast.enet_coordinate_descent(\n",
            "C:\\Users\\Drac3\\AppData\\Local\\Packages\\PythonSoftwareFoundation.Python.3.11_qbz5n2kfra8p0\\LocalCache\\local-packages\\Python311\\site-packages\\sklearn\\linear_model\\_coordinate_descent.py:678: ConvergenceWarning: Objective did not converge. You might want to increase the number of iterations, check the scale of the features or consider increasing regularisation. Duality gap: 3.588e-02, tolerance: 3.600e-03\n",
            "  model = cd_fast.enet_coordinate_descent(\n",
            "C:\\Users\\Drac3\\AppData\\Local\\Packages\\PythonSoftwareFoundation.Python.3.11_qbz5n2kfra8p0\\LocalCache\\local-packages\\Python311\\site-packages\\sklearn\\linear_model\\_coordinate_descent.py:678: ConvergenceWarning: Objective did not converge. You might want to increase the number of iterations, check the scale of the features or consider increasing regularisation. Duality gap: 3.806e-02, tolerance: 3.600e-03\n",
            "  model = cd_fast.enet_coordinate_descent(\n",
            "C:\\Users\\Drac3\\AppData\\Local\\Packages\\PythonSoftwareFoundation.Python.3.11_qbz5n2kfra8p0\\LocalCache\\local-packages\\Python311\\site-packages\\sklearn\\linear_model\\_coordinate_descent.py:678: ConvergenceWarning: Objective did not converge. You might want to increase the number of iterations, check the scale of the features or consider increasing regularisation. Duality gap: 3.886e-02, tolerance: 3.600e-03\n",
            "  model = cd_fast.enet_coordinate_descent(\n",
            "C:\\Users\\Drac3\\AppData\\Local\\Packages\\PythonSoftwareFoundation.Python.3.11_qbz5n2kfra8p0\\LocalCache\\local-packages\\Python311\\site-packages\\sklearn\\linear_model\\_coordinate_descent.py:678: ConvergenceWarning: Objective did not converge. You might want to increase the number of iterations, check the scale of the features or consider increasing regularisation. Duality gap: 3.912e-02, tolerance: 3.600e-03\n",
            "  model = cd_fast.enet_coordinate_descent(\n",
            "C:\\Users\\Drac3\\AppData\\Local\\Packages\\PythonSoftwareFoundation.Python.3.11_qbz5n2kfra8p0\\LocalCache\\local-packages\\Python311\\site-packages\\sklearn\\linear_model\\_coordinate_descent.py:678: ConvergenceWarning: Objective did not converge. You might want to increase the number of iterations, check the scale of the features or consider increasing regularisation. Duality gap: 3.865e-02, tolerance: 3.600e-03\n",
            "  model = cd_fast.enet_coordinate_descent(\n",
            "C:\\Users\\Drac3\\AppData\\Local\\Packages\\PythonSoftwareFoundation.Python.3.11_qbz5n2kfra8p0\\LocalCache\\local-packages\\Python311\\site-packages\\sklearn\\linear_model\\_coordinate_descent.py:678: ConvergenceWarning: Objective did not converge. You might want to increase the number of iterations, check the scale of the features or consider increasing regularisation. Duality gap: 3.894e-02, tolerance: 3.600e-03\n",
            "  model = cd_fast.enet_coordinate_descent(\n",
            "C:\\Users\\Drac3\\AppData\\Local\\Packages\\PythonSoftwareFoundation.Python.3.11_qbz5n2kfra8p0\\LocalCache\\local-packages\\Python311\\site-packages\\sklearn\\linear_model\\_coordinate_descent.py:678: ConvergenceWarning: Objective did not converge. You might want to increase the number of iterations, check the scale of the features or consider increasing regularisation. Duality gap: 3.849e-02, tolerance: 3.600e-03\n",
            "  model = cd_fast.enet_coordinate_descent(\n",
            "C:\\Users\\Drac3\\AppData\\Local\\Packages\\PythonSoftwareFoundation.Python.3.11_qbz5n2kfra8p0\\LocalCache\\local-packages\\Python311\\site-packages\\sklearn\\linear_model\\_coordinate_descent.py:678: ConvergenceWarning: Objective did not converge. You might want to increase the number of iterations, check the scale of the features or consider increasing regularisation. Duality gap: 3.850e-02, tolerance: 3.600e-03\n",
            "  model = cd_fast.enet_coordinate_descent(\n",
            "C:\\Users\\Drac3\\AppData\\Local\\Packages\\PythonSoftwareFoundation.Python.3.11_qbz5n2kfra8p0\\LocalCache\\local-packages\\Python311\\site-packages\\sklearn\\linear_model\\_coordinate_descent.py:678: ConvergenceWarning: Objective did not converge. You might want to increase the number of iterations, check the scale of the features or consider increasing regularisation. Duality gap: 3.882e-02, tolerance: 3.600e-03\n",
            "  model = cd_fast.enet_coordinate_descent(\n",
            "C:\\Users\\Drac3\\AppData\\Local\\Packages\\PythonSoftwareFoundation.Python.3.11_qbz5n2kfra8p0\\LocalCache\\local-packages\\Python311\\site-packages\\sklearn\\linear_model\\_coordinate_descent.py:678: ConvergenceWarning: Objective did not converge. You might want to increase the number of iterations, check the scale of the features or consider increasing regularisation. Duality gap: 3.909e-02, tolerance: 3.600e-03\n",
            "  model = cd_fast.enet_coordinate_descent(\n",
            "C:\\Users\\Drac3\\AppData\\Local\\Packages\\PythonSoftwareFoundation.Python.3.11_qbz5n2kfra8p0\\LocalCache\\local-packages\\Python311\\site-packages\\sklearn\\linear_model\\_coordinate_descent.py:678: ConvergenceWarning: Objective did not converge. You might want to increase the number of iterations, check the scale of the features or consider increasing regularisation. Duality gap: 3.926e-02, tolerance: 3.600e-03\n",
            "  model = cd_fast.enet_coordinate_descent(\n",
            "C:\\Users\\Drac3\\AppData\\Local\\Packages\\PythonSoftwareFoundation.Python.3.11_qbz5n2kfra8p0\\LocalCache\\local-packages\\Python311\\site-packages\\sklearn\\linear_model\\_coordinate_descent.py:678: ConvergenceWarning: Objective did not converge. You might want to increase the number of iterations, check the scale of the features or consider increasing regularisation. Duality gap: 3.938e-02, tolerance: 3.600e-03\n",
            "  model = cd_fast.enet_coordinate_descent(\n",
            "C:\\Users\\Drac3\\AppData\\Local\\Packages\\PythonSoftwareFoundation.Python.3.11_qbz5n2kfra8p0\\LocalCache\\local-packages\\Python311\\site-packages\\sklearn\\linear_model\\_coordinate_descent.py:678: ConvergenceWarning: Objective did not converge. You might want to increase the number of iterations, check the scale of the features or consider increasing regularisation. Duality gap: 3.917e-02, tolerance: 3.600e-03\n",
            "  model = cd_fast.enet_coordinate_descent(\n",
            "C:\\Users\\Drac3\\AppData\\Local\\Packages\\PythonSoftwareFoundation.Python.3.11_qbz5n2kfra8p0\\LocalCache\\local-packages\\Python311\\site-packages\\sklearn\\linear_model\\_coordinate_descent.py:678: ConvergenceWarning: Objective did not converge. You might want to increase the number of iterations, check the scale of the features or consider increasing regularisation. Duality gap: 3.626e-02, tolerance: 3.600e-03\n",
            "  model = cd_fast.enet_coordinate_descent(\n",
            "C:\\Users\\Drac3\\AppData\\Local\\Packages\\PythonSoftwareFoundation.Python.3.11_qbz5n2kfra8p0\\LocalCache\\local-packages\\Python311\\site-packages\\sklearn\\linear_model\\_coordinate_descent.py:678: ConvergenceWarning: Objective did not converge. You might want to increase the number of iterations, check the scale of the features or consider increasing regularisation. Duality gap: 3.411e-02, tolerance: 3.600e-03\n",
            "  model = cd_fast.enet_coordinate_descent(\n",
            "C:\\Users\\Drac3\\AppData\\Local\\Packages\\PythonSoftwareFoundation.Python.3.11_qbz5n2kfra8p0\\LocalCache\\local-packages\\Python311\\site-packages\\sklearn\\linear_model\\_coordinate_descent.py:678: ConvergenceWarning: Objective did not converge. You might want to increase the number of iterations, check the scale of the features or consider increasing regularisation. Duality gap: 3.339e-02, tolerance: 3.600e-03\n",
            "  model = cd_fast.enet_coordinate_descent(\n",
            "C:\\Users\\Drac3\\AppData\\Local\\Packages\\PythonSoftwareFoundation.Python.3.11_qbz5n2kfra8p0\\LocalCache\\local-packages\\Python311\\site-packages\\sklearn\\linear_model\\_coordinate_descent.py:678: ConvergenceWarning: Objective did not converge. You might want to increase the number of iterations, check the scale of the features or consider increasing regularisation. Duality gap: 3.177e-02, tolerance: 3.600e-03\n",
            "  model = cd_fast.enet_coordinate_descent(\n",
            "C:\\Users\\Drac3\\AppData\\Local\\Packages\\PythonSoftwareFoundation.Python.3.11_qbz5n2kfra8p0\\LocalCache\\local-packages\\Python311\\site-packages\\sklearn\\linear_model\\_coordinate_descent.py:678: ConvergenceWarning: Objective did not converge. You might want to increase the number of iterations, check the scale of the features or consider increasing regularisation. Duality gap: 3.205e-02, tolerance: 3.600e-03\n",
            "  model = cd_fast.enet_coordinate_descent(\n",
            "C:\\Users\\Drac3\\AppData\\Local\\Packages\\PythonSoftwareFoundation.Python.3.11_qbz5n2kfra8p0\\LocalCache\\local-packages\\Python311\\site-packages\\sklearn\\linear_model\\_coordinate_descent.py:678: ConvergenceWarning: Objective did not converge. You might want to increase the number of iterations, check the scale of the features or consider increasing regularisation. Duality gap: 3.218e-02, tolerance: 3.600e-03\n",
            "  model = cd_fast.enet_coordinate_descent(\n",
            "C:\\Users\\Drac3\\AppData\\Local\\Packages\\PythonSoftwareFoundation.Python.3.11_qbz5n2kfra8p0\\LocalCache\\local-packages\\Python311\\site-packages\\sklearn\\linear_model\\_coordinate_descent.py:678: ConvergenceWarning: Objective did not converge. You might want to increase the number of iterations, check the scale of the features or consider increasing regularisation. Duality gap: 3.171e-02, tolerance: 3.600e-03\n",
            "  model = cd_fast.enet_coordinate_descent(\n",
            "C:\\Users\\Drac3\\AppData\\Local\\Packages\\PythonSoftwareFoundation.Python.3.11_qbz5n2kfra8p0\\LocalCache\\local-packages\\Python311\\site-packages\\sklearn\\linear_model\\_coordinate_descent.py:678: ConvergenceWarning: Objective did not converge. You might want to increase the number of iterations, check the scale of the features or consider increasing regularisation. Duality gap: 3.335e-02, tolerance: 3.600e-03\n",
            "  model = cd_fast.enet_coordinate_descent(\n",
            "C:\\Users\\Drac3\\AppData\\Local\\Packages\\PythonSoftwareFoundation.Python.3.11_qbz5n2kfra8p0\\LocalCache\\local-packages\\Python311\\site-packages\\sklearn\\linear_model\\_coordinate_descent.py:678: ConvergenceWarning: Objective did not converge. You might want to increase the number of iterations, check the scale of the features or consider increasing regularisation. Duality gap: 3.436e-02, tolerance: 3.600e-03\n",
            "  model = cd_fast.enet_coordinate_descent(\n",
            "C:\\Users\\Drac3\\AppData\\Local\\Packages\\PythonSoftwareFoundation.Python.3.11_qbz5n2kfra8p0\\LocalCache\\local-packages\\Python311\\site-packages\\sklearn\\linear_model\\_coordinate_descent.py:678: ConvergenceWarning: Objective did not converge. You might want to increase the number of iterations, check the scale of the features or consider increasing regularisation. Duality gap: 3.480e-02, tolerance: 3.600e-03\n",
            "  model = cd_fast.enet_coordinate_descent(\n",
            "C:\\Users\\Drac3\\AppData\\Local\\Packages\\PythonSoftwareFoundation.Python.3.11_qbz5n2kfra8p0\\LocalCache\\local-packages\\Python311\\site-packages\\sklearn\\linear_model\\_coordinate_descent.py:678: ConvergenceWarning: Objective did not converge. You might want to increase the number of iterations, check the scale of the features or consider increasing regularisation. Duality gap: 3.572e-02, tolerance: 3.600e-03\n",
            "  model = cd_fast.enet_coordinate_descent(\n",
            "C:\\Users\\Drac3\\AppData\\Local\\Packages\\PythonSoftwareFoundation.Python.3.11_qbz5n2kfra8p0\\LocalCache\\local-packages\\Python311\\site-packages\\sklearn\\linear_model\\_coordinate_descent.py:678: ConvergenceWarning: Objective did not converge. You might want to increase the number of iterations, check the scale of the features or consider increasing regularisation. Duality gap: 3.685e-02, tolerance: 3.600e-03\n",
            "  model = cd_fast.enet_coordinate_descent(\n",
            "C:\\Users\\Drac3\\AppData\\Local\\Packages\\PythonSoftwareFoundation.Python.3.11_qbz5n2kfra8p0\\LocalCache\\local-packages\\Python311\\site-packages\\sklearn\\linear_model\\_coordinate_descent.py:678: ConvergenceWarning: Objective did not converge. You might want to increase the number of iterations, check the scale of the features or consider increasing regularisation. Duality gap: 3.661e-02, tolerance: 3.600e-03\n",
            "  model = cd_fast.enet_coordinate_descent(\n",
            "C:\\Users\\Drac3\\AppData\\Local\\Packages\\PythonSoftwareFoundation.Python.3.11_qbz5n2kfra8p0\\LocalCache\\local-packages\\Python311\\site-packages\\sklearn\\linear_model\\_coordinate_descent.py:678: ConvergenceWarning: Objective did not converge. You might want to increase the number of iterations, check the scale of the features or consider increasing regularisation. Duality gap: 3.666e-02, tolerance: 3.600e-03\n",
            "  model = cd_fast.enet_coordinate_descent(\n",
            "C:\\Users\\Drac3\\AppData\\Local\\Packages\\PythonSoftwareFoundation.Python.3.11_qbz5n2kfra8p0\\LocalCache\\local-packages\\Python311\\site-packages\\sklearn\\linear_model\\_coordinate_descent.py:678: ConvergenceWarning: Objective did not converge. You might want to increase the number of iterations, check the scale of the features or consider increasing regularisation. Duality gap: 3.444e-02, tolerance: 3.600e-03\n",
            "  model = cd_fast.enet_coordinate_descent(\n",
            "C:\\Users\\Drac3\\AppData\\Local\\Packages\\PythonSoftwareFoundation.Python.3.11_qbz5n2kfra8p0\\LocalCache\\local-packages\\Python311\\site-packages\\sklearn\\linear_model\\_coordinate_descent.py:678: ConvergenceWarning: Objective did not converge. You might want to increase the number of iterations, check the scale of the features or consider increasing regularisation. Duality gap: 3.329e-02, tolerance: 3.600e-03\n",
            "  model = cd_fast.enet_coordinate_descent(\n",
            "C:\\Users\\Drac3\\AppData\\Local\\Packages\\PythonSoftwareFoundation.Python.3.11_qbz5n2kfra8p0\\LocalCache\\local-packages\\Python311\\site-packages\\sklearn\\linear_model\\_coordinate_descent.py:678: ConvergenceWarning: Objective did not converge. You might want to increase the number of iterations, check the scale of the features or consider increasing regularisation. Duality gap: 3.249e-02, tolerance: 3.600e-03\n",
            "  model = cd_fast.enet_coordinate_descent(\n",
            "C:\\Users\\Drac3\\AppData\\Local\\Packages\\PythonSoftwareFoundation.Python.3.11_qbz5n2kfra8p0\\LocalCache\\local-packages\\Python311\\site-packages\\sklearn\\linear_model\\_coordinate_descent.py:678: ConvergenceWarning: Objective did not converge. You might want to increase the number of iterations, check the scale of the features or consider increasing regularisation. Duality gap: 3.221e-02, tolerance: 3.600e-03\n",
            "  model = cd_fast.enet_coordinate_descent(\n",
            "C:\\Users\\Drac3\\AppData\\Local\\Packages\\PythonSoftwareFoundation.Python.3.11_qbz5n2kfra8p0\\LocalCache\\local-packages\\Python311\\site-packages\\sklearn\\linear_model\\_coordinate_descent.py:678: ConvergenceWarning: Objective did not converge. You might want to increase the number of iterations, check the scale of the features or consider increasing regularisation. Duality gap: 3.160e-02, tolerance: 3.600e-03\n",
            "  model = cd_fast.enet_coordinate_descent(\n",
            "C:\\Users\\Drac3\\AppData\\Local\\Packages\\PythonSoftwareFoundation.Python.3.11_qbz5n2kfra8p0\\LocalCache\\local-packages\\Python311\\site-packages\\sklearn\\linear_model\\_coordinate_descent.py:678: ConvergenceWarning: Objective did not converge. You might want to increase the number of iterations, check the scale of the features or consider increasing regularisation. Duality gap: 3.117e-02, tolerance: 3.600e-03\n",
            "  model = cd_fast.enet_coordinate_descent(\n",
            "C:\\Users\\Drac3\\AppData\\Local\\Packages\\PythonSoftwareFoundation.Python.3.11_qbz5n2kfra8p0\\LocalCache\\local-packages\\Python311\\site-packages\\sklearn\\linear_model\\_coordinate_descent.py:678: ConvergenceWarning: Objective did not converge. You might want to increase the number of iterations, check the scale of the features or consider increasing regularisation. Duality gap: 3.054e-02, tolerance: 3.600e-03\n",
            "  model = cd_fast.enet_coordinate_descent(\n",
            "C:\\Users\\Drac3\\AppData\\Local\\Packages\\PythonSoftwareFoundation.Python.3.11_qbz5n2kfra8p0\\LocalCache\\local-packages\\Python311\\site-packages\\sklearn\\linear_model\\_coordinate_descent.py:678: ConvergenceWarning: Objective did not converge. You might want to increase the number of iterations, check the scale of the features or consider increasing regularisation. Duality gap: 2.820e-02, tolerance: 3.600e-03\n",
            "  model = cd_fast.enet_coordinate_descent(\n",
            "C:\\Users\\Drac3\\AppData\\Local\\Packages\\PythonSoftwareFoundation.Python.3.11_qbz5n2kfra8p0\\LocalCache\\local-packages\\Python311\\site-packages\\sklearn\\linear_model\\_coordinate_descent.py:678: ConvergenceWarning: Objective did not converge. You might want to increase the number of iterations, check the scale of the features or consider increasing regularisation. Duality gap: 2.702e-02, tolerance: 3.600e-03\n",
            "  model = cd_fast.enet_coordinate_descent(\n",
            "C:\\Users\\Drac3\\AppData\\Local\\Packages\\PythonSoftwareFoundation.Python.3.11_qbz5n2kfra8p0\\LocalCache\\local-packages\\Python311\\site-packages\\sklearn\\linear_model\\_coordinate_descent.py:678: ConvergenceWarning: Objective did not converge. You might want to increase the number of iterations, check the scale of the features or consider increasing regularisation. Duality gap: 2.607e-02, tolerance: 3.600e-03\n",
            "  model = cd_fast.enet_coordinate_descent(\n",
            "C:\\Users\\Drac3\\AppData\\Local\\Packages\\PythonSoftwareFoundation.Python.3.11_qbz5n2kfra8p0\\LocalCache\\local-packages\\Python311\\site-packages\\sklearn\\linear_model\\_coordinate_descent.py:678: ConvergenceWarning: Objective did not converge. You might want to increase the number of iterations, check the scale of the features or consider increasing regularisation. Duality gap: 2.661e-02, tolerance: 3.600e-03\n",
            "  model = cd_fast.enet_coordinate_descent(\n",
            "C:\\Users\\Drac3\\AppData\\Local\\Packages\\PythonSoftwareFoundation.Python.3.11_qbz5n2kfra8p0\\LocalCache\\local-packages\\Python311\\site-packages\\sklearn\\linear_model\\_coordinate_descent.py:678: ConvergenceWarning: Objective did not converge. You might want to increase the number of iterations, check the scale of the features or consider increasing regularisation. Duality gap: 2.632e-02, tolerance: 3.600e-03\n",
            "  model = cd_fast.enet_coordinate_descent(\n",
            "C:\\Users\\Drac3\\AppData\\Local\\Packages\\PythonSoftwareFoundation.Python.3.11_qbz5n2kfra8p0\\LocalCache\\local-packages\\Python311\\site-packages\\sklearn\\linear_model\\_coordinate_descent.py:678: ConvergenceWarning: Objective did not converge. You might want to increase the number of iterations, check the scale of the features or consider increasing regularisation. Duality gap: 2.647e-02, tolerance: 3.600e-03\n",
            "  model = cd_fast.enet_coordinate_descent(\n",
            "C:\\Users\\Drac3\\AppData\\Local\\Packages\\PythonSoftwareFoundation.Python.3.11_qbz5n2kfra8p0\\LocalCache\\local-packages\\Python311\\site-packages\\sklearn\\linear_model\\_coordinate_descent.py:678: ConvergenceWarning: Objective did not converge. You might want to increase the number of iterations, check the scale of the features or consider increasing regularisation. Duality gap: 2.613e-02, tolerance: 3.600e-03\n",
            "  model = cd_fast.enet_coordinate_descent(\n",
            "C:\\Users\\Drac3\\AppData\\Local\\Packages\\PythonSoftwareFoundation.Python.3.11_qbz5n2kfra8p0\\LocalCache\\local-packages\\Python311\\site-packages\\sklearn\\linear_model\\_coordinate_descent.py:678: ConvergenceWarning: Objective did not converge. You might want to increase the number of iterations, check the scale of the features or consider increasing regularisation. Duality gap: 2.564e-02, tolerance: 3.600e-03\n",
            "  model = cd_fast.enet_coordinate_descent(\n",
            "C:\\Users\\Drac3\\AppData\\Local\\Packages\\PythonSoftwareFoundation.Python.3.11_qbz5n2kfra8p0\\LocalCache\\local-packages\\Python311\\site-packages\\sklearn\\linear_model\\_coordinate_descent.py:678: ConvergenceWarning: Objective did not converge. You might want to increase the number of iterations, check the scale of the features or consider increasing regularisation. Duality gap: 2.508e-02, tolerance: 3.600e-03\n",
            "  model = cd_fast.enet_coordinate_descent(\n",
            "C:\\Users\\Drac3\\AppData\\Local\\Packages\\PythonSoftwareFoundation.Python.3.11_qbz5n2kfra8p0\\LocalCache\\local-packages\\Python311\\site-packages\\sklearn\\linear_model\\_coordinate_descent.py:678: ConvergenceWarning: Objective did not converge. You might want to increase the number of iterations, check the scale of the features or consider increasing regularisation. Duality gap: 2.456e-02, tolerance: 3.600e-03\n",
            "  model = cd_fast.enet_coordinate_descent(\n",
            "C:\\Users\\Drac3\\AppData\\Local\\Packages\\PythonSoftwareFoundation.Python.3.11_qbz5n2kfra8p0\\LocalCache\\local-packages\\Python311\\site-packages\\sklearn\\linear_model\\_coordinate_descent.py:678: ConvergenceWarning: Objective did not converge. You might want to increase the number of iterations, check the scale of the features or consider increasing regularisation. Duality gap: 2.440e-02, tolerance: 3.600e-03\n",
            "  model = cd_fast.enet_coordinate_descent(\n",
            "C:\\Users\\Drac3\\AppData\\Local\\Packages\\PythonSoftwareFoundation.Python.3.11_qbz5n2kfra8p0\\LocalCache\\local-packages\\Python311\\site-packages\\sklearn\\linear_model\\_coordinate_descent.py:678: ConvergenceWarning: Objective did not converge. You might want to increase the number of iterations, check the scale of the features or consider increasing regularisation. Duality gap: 2.407e-02, tolerance: 3.600e-03\n",
            "  model = cd_fast.enet_coordinate_descent(\n",
            "C:\\Users\\Drac3\\AppData\\Local\\Packages\\PythonSoftwareFoundation.Python.3.11_qbz5n2kfra8p0\\LocalCache\\local-packages\\Python311\\site-packages\\sklearn\\linear_model\\_coordinate_descent.py:678: ConvergenceWarning: Objective did not converge. You might want to increase the number of iterations, check the scale of the features or consider increasing regularisation. Duality gap: 2.354e-02, tolerance: 3.600e-03\n",
            "  model = cd_fast.enet_coordinate_descent(\n",
            "C:\\Users\\Drac3\\AppData\\Local\\Packages\\PythonSoftwareFoundation.Python.3.11_qbz5n2kfra8p0\\LocalCache\\local-packages\\Python311\\site-packages\\sklearn\\linear_model\\_coordinate_descent.py:678: ConvergenceWarning: Objective did not converge. You might want to increase the number of iterations, check the scale of the features or consider increasing regularisation. Duality gap: 1.794e-02, tolerance: 3.600e-03\n",
            "  model = cd_fast.enet_coordinate_descent(\n",
            "C:\\Users\\Drac3\\AppData\\Local\\Packages\\PythonSoftwareFoundation.Python.3.11_qbz5n2kfra8p0\\LocalCache\\local-packages\\Python311\\site-packages\\sklearn\\linear_model\\_coordinate_descent.py:678: ConvergenceWarning: Objective did not converge. You might want to increase the number of iterations, check the scale of the features or consider increasing regularisation. Duality gap: 1.798e-02, tolerance: 3.600e-03\n",
            "  model = cd_fast.enet_coordinate_descent(\n",
            "C:\\Users\\Drac3\\AppData\\Local\\Packages\\PythonSoftwareFoundation.Python.3.11_qbz5n2kfra8p0\\LocalCache\\local-packages\\Python311\\site-packages\\sklearn\\linear_model\\_coordinate_descent.py:678: ConvergenceWarning: Objective did not converge. You might want to increase the number of iterations, check the scale of the features or consider increasing regularisation. Duality gap: 1.764e-02, tolerance: 3.600e-03\n",
            "  model = cd_fast.enet_coordinate_descent(\n",
            "C:\\Users\\Drac3\\AppData\\Local\\Packages\\PythonSoftwareFoundation.Python.3.11_qbz5n2kfra8p0\\LocalCache\\local-packages\\Python311\\site-packages\\sklearn\\linear_model\\_coordinate_descent.py:678: ConvergenceWarning: Objective did not converge. You might want to increase the number of iterations, check the scale of the features or consider increasing regularisation. Duality gap: 1.710e-02, tolerance: 3.600e-03\n",
            "  model = cd_fast.enet_coordinate_descent(\n",
            "C:\\Users\\Drac3\\AppData\\Local\\Packages\\PythonSoftwareFoundation.Python.3.11_qbz5n2kfra8p0\\LocalCache\\local-packages\\Python311\\site-packages\\sklearn\\linear_model\\_coordinate_descent.py:678: ConvergenceWarning: Objective did not converge. You might want to increase the number of iterations, check the scale of the features or consider increasing regularisation. Duality gap: 1.597e-02, tolerance: 3.600e-03\n",
            "  model = cd_fast.enet_coordinate_descent(\n",
            "C:\\Users\\Drac3\\AppData\\Local\\Packages\\PythonSoftwareFoundation.Python.3.11_qbz5n2kfra8p0\\LocalCache\\local-packages\\Python311\\site-packages\\sklearn\\linear_model\\_coordinate_descent.py:678: ConvergenceWarning: Objective did not converge. You might want to increase the number of iterations, check the scale of the features or consider increasing regularisation. Duality gap: 1.473e-02, tolerance: 3.600e-03\n",
            "  model = cd_fast.enet_coordinate_descent(\n",
            "C:\\Users\\Drac3\\AppData\\Local\\Packages\\PythonSoftwareFoundation.Python.3.11_qbz5n2kfra8p0\\LocalCache\\local-packages\\Python311\\site-packages\\sklearn\\linear_model\\_coordinate_descent.py:678: ConvergenceWarning: Objective did not converge. You might want to increase the number of iterations, check the scale of the features or consider increasing regularisation. Duality gap: 1.378e-02, tolerance: 3.600e-03\n",
            "  model = cd_fast.enet_coordinate_descent(\n",
            "C:\\Users\\Drac3\\AppData\\Local\\Packages\\PythonSoftwareFoundation.Python.3.11_qbz5n2kfra8p0\\LocalCache\\local-packages\\Python311\\site-packages\\sklearn\\linear_model\\_coordinate_descent.py:678: ConvergenceWarning: Objective did not converge. You might want to increase the number of iterations, check the scale of the features or consider increasing regularisation. Duality gap: 1.260e-02, tolerance: 3.600e-03\n",
            "  model = cd_fast.enet_coordinate_descent(\n",
            "C:\\Users\\Drac3\\AppData\\Local\\Packages\\PythonSoftwareFoundation.Python.3.11_qbz5n2kfra8p0\\LocalCache\\local-packages\\Python311\\site-packages\\sklearn\\linear_model\\_coordinate_descent.py:678: ConvergenceWarning: Objective did not converge. You might want to increase the number of iterations, check the scale of the features or consider increasing regularisation. Duality gap: 1.163e-02, tolerance: 3.600e-03\n",
            "  model = cd_fast.enet_coordinate_descent(\n",
            "C:\\Users\\Drac3\\AppData\\Local\\Packages\\PythonSoftwareFoundation.Python.3.11_qbz5n2kfra8p0\\LocalCache\\local-packages\\Python311\\site-packages\\sklearn\\linear_model\\_coordinate_descent.py:678: ConvergenceWarning: Objective did not converge. You might want to increase the number of iterations, check the scale of the features or consider increasing regularisation. Duality gap: 1.081e-02, tolerance: 3.600e-03\n",
            "  model = cd_fast.enet_coordinate_descent(\n",
            "C:\\Users\\Drac3\\AppData\\Local\\Packages\\PythonSoftwareFoundation.Python.3.11_qbz5n2kfra8p0\\LocalCache\\local-packages\\Python311\\site-packages\\sklearn\\linear_model\\_coordinate_descent.py:678: ConvergenceWarning: Objective did not converge. You might want to increase the number of iterations, check the scale of the features or consider increasing regularisation. Duality gap: 1.070e-02, tolerance: 3.600e-03\n",
            "  model = cd_fast.enet_coordinate_descent(\n",
            "C:\\Users\\Drac3\\AppData\\Local\\Packages\\PythonSoftwareFoundation.Python.3.11_qbz5n2kfra8p0\\LocalCache\\local-packages\\Python311\\site-packages\\sklearn\\linear_model\\_coordinate_descent.py:678: ConvergenceWarning: Objective did not converge. You might want to increase the number of iterations, check the scale of the features or consider increasing regularisation. Duality gap: 1.045e-02, tolerance: 3.600e-03\n",
            "  model = cd_fast.enet_coordinate_descent(\n",
            "C:\\Users\\Drac3\\AppData\\Local\\Packages\\PythonSoftwareFoundation.Python.3.11_qbz5n2kfra8p0\\LocalCache\\local-packages\\Python311\\site-packages\\sklearn\\linear_model\\_coordinate_descent.py:678: ConvergenceWarning: Objective did not converge. You might want to increase the number of iterations, check the scale of the features or consider increasing regularisation. Duality gap: 1.022e-02, tolerance: 3.600e-03\n",
            "  model = cd_fast.enet_coordinate_descent(\n",
            "C:\\Users\\Drac3\\AppData\\Local\\Packages\\PythonSoftwareFoundation.Python.3.11_qbz5n2kfra8p0\\LocalCache\\local-packages\\Python311\\site-packages\\sklearn\\linear_model\\_coordinate_descent.py:678: ConvergenceWarning: Objective did not converge. You might want to increase the number of iterations, check the scale of the features or consider increasing regularisation. Duality gap: 9.732e-03, tolerance: 3.600e-03\n",
            "  model = cd_fast.enet_coordinate_descent(\n",
            "C:\\Users\\Drac3\\AppData\\Local\\Packages\\PythonSoftwareFoundation.Python.3.11_qbz5n2kfra8p0\\LocalCache\\local-packages\\Python311\\site-packages\\sklearn\\linear_model\\_coordinate_descent.py:678: ConvergenceWarning: Objective did not converge. You might want to increase the number of iterations, check the scale of the features or consider increasing regularisation. Duality gap: 9.805e-03, tolerance: 3.600e-03\n",
            "  model = cd_fast.enet_coordinate_descent(\n",
            "C:\\Users\\Drac3\\AppData\\Local\\Packages\\PythonSoftwareFoundation.Python.3.11_qbz5n2kfra8p0\\LocalCache\\local-packages\\Python311\\site-packages\\sklearn\\linear_model\\_coordinate_descent.py:678: ConvergenceWarning: Objective did not converge. You might want to increase the number of iterations, check the scale of the features or consider increasing regularisation. Duality gap: 9.765e-03, tolerance: 3.600e-03\n",
            "  model = cd_fast.enet_coordinate_descent(\n",
            "C:\\Users\\Drac3\\AppData\\Local\\Packages\\PythonSoftwareFoundation.Python.3.11_qbz5n2kfra8p0\\LocalCache\\local-packages\\Python311\\site-packages\\sklearn\\linear_model\\_coordinate_descent.py:678: ConvergenceWarning: Objective did not converge. You might want to increase the number of iterations, check the scale of the features or consider increasing regularisation. Duality gap: 9.289e-03, tolerance: 3.600e-03\n",
            "  model = cd_fast.enet_coordinate_descent(\n",
            "C:\\Users\\Drac3\\AppData\\Local\\Packages\\PythonSoftwareFoundation.Python.3.11_qbz5n2kfra8p0\\LocalCache\\local-packages\\Python311\\site-packages\\sklearn\\linear_model\\_coordinate_descent.py:678: ConvergenceWarning: Objective did not converge. You might want to increase the number of iterations, check the scale of the features or consider increasing regularisation. Duality gap: 8.997e-03, tolerance: 3.600e-03\n",
            "  model = cd_fast.enet_coordinate_descent(\n",
            "C:\\Users\\Drac3\\AppData\\Local\\Packages\\PythonSoftwareFoundation.Python.3.11_qbz5n2kfra8p0\\LocalCache\\local-packages\\Python311\\site-packages\\sklearn\\linear_model\\_coordinate_descent.py:678: ConvergenceWarning: Objective did not converge. You might want to increase the number of iterations, check the scale of the features or consider increasing regularisation. Duality gap: 8.752e-03, tolerance: 3.600e-03\n",
            "  model = cd_fast.enet_coordinate_descent(\n",
            "C:\\Users\\Drac3\\AppData\\Local\\Packages\\PythonSoftwareFoundation.Python.3.11_qbz5n2kfra8p0\\LocalCache\\local-packages\\Python311\\site-packages\\sklearn\\linear_model\\_coordinate_descent.py:678: ConvergenceWarning: Objective did not converge. You might want to increase the number of iterations, check the scale of the features or consider increasing regularisation. Duality gap: 8.756e-03, tolerance: 3.600e-03\n",
            "  model = cd_fast.enet_coordinate_descent(\n",
            "C:\\Users\\Drac3\\AppData\\Local\\Packages\\PythonSoftwareFoundation.Python.3.11_qbz5n2kfra8p0\\LocalCache\\local-packages\\Python311\\site-packages\\sklearn\\linear_model\\_coordinate_descent.py:678: ConvergenceWarning: Objective did not converge. You might want to increase the number of iterations, check the scale of the features or consider increasing regularisation. Duality gap: 9.391e-03, tolerance: 3.600e-03\n",
            "  model = cd_fast.enet_coordinate_descent(\n",
            "C:\\Users\\Drac3\\AppData\\Local\\Packages\\PythonSoftwareFoundation.Python.3.11_qbz5n2kfra8p0\\LocalCache\\local-packages\\Python311\\site-packages\\sklearn\\linear_model\\_coordinate_descent.py:678: ConvergenceWarning: Objective did not converge. You might want to increase the number of iterations, check the scale of the features or consider increasing regularisation. Duality gap: 9.095e-03, tolerance: 3.600e-03\n",
            "  model = cd_fast.enet_coordinate_descent(\n",
            "C:\\Users\\Drac3\\AppData\\Local\\Packages\\PythonSoftwareFoundation.Python.3.11_qbz5n2kfra8p0\\LocalCache\\local-packages\\Python311\\site-packages\\sklearn\\linear_model\\_coordinate_descent.py:678: ConvergenceWarning: Objective did not converge. You might want to increase the number of iterations, check the scale of the features or consider increasing regularisation. Duality gap: 8.538e-03, tolerance: 3.600e-03\n",
            "  model = cd_fast.enet_coordinate_descent(\n",
            "C:\\Users\\Drac3\\AppData\\Local\\Packages\\PythonSoftwareFoundation.Python.3.11_qbz5n2kfra8p0\\LocalCache\\local-packages\\Python311\\site-packages\\sklearn\\linear_model\\_coordinate_descent.py:678: ConvergenceWarning: Objective did not converge. You might want to increase the number of iterations, check the scale of the features or consider increasing regularisation. Duality gap: 7.931e-03, tolerance: 3.600e-03\n",
            "  model = cd_fast.enet_coordinate_descent(\n",
            "C:\\Users\\Drac3\\AppData\\Local\\Packages\\PythonSoftwareFoundation.Python.3.11_qbz5n2kfra8p0\\LocalCache\\local-packages\\Python311\\site-packages\\sklearn\\linear_model\\_coordinate_descent.py:678: ConvergenceWarning: Objective did not converge. You might want to increase the number of iterations, check the scale of the features or consider increasing regularisation. Duality gap: 7.403e-03, tolerance: 3.600e-03\n",
            "  model = cd_fast.enet_coordinate_descent(\n",
            "C:\\Users\\Drac3\\AppData\\Local\\Packages\\PythonSoftwareFoundation.Python.3.11_qbz5n2kfra8p0\\LocalCache\\local-packages\\Python311\\site-packages\\sklearn\\linear_model\\_coordinate_descent.py:678: ConvergenceWarning: Objective did not converge. You might want to increase the number of iterations, check the scale of the features or consider increasing regularisation. Duality gap: 6.615e-03, tolerance: 3.600e-03\n",
            "  model = cd_fast.enet_coordinate_descent(\n",
            "C:\\Users\\Drac3\\AppData\\Local\\Packages\\PythonSoftwareFoundation.Python.3.11_qbz5n2kfra8p0\\LocalCache\\local-packages\\Python311\\site-packages\\sklearn\\linear_model\\_coordinate_descent.py:678: ConvergenceWarning: Objective did not converge. You might want to increase the number of iterations, check the scale of the features or consider increasing regularisation. Duality gap: 6.668e-03, tolerance: 3.600e-03\n",
            "  model = cd_fast.enet_coordinate_descent(\n",
            "C:\\Users\\Drac3\\AppData\\Local\\Packages\\PythonSoftwareFoundation.Python.3.11_qbz5n2kfra8p0\\LocalCache\\local-packages\\Python311\\site-packages\\sklearn\\linear_model\\_coordinate_descent.py:678: ConvergenceWarning: Objective did not converge. You might want to increase the number of iterations, check the scale of the features or consider increasing regularisation. Duality gap: 6.747e-03, tolerance: 3.600e-03\n",
            "  model = cd_fast.enet_coordinate_descent(\n",
            "C:\\Users\\Drac3\\AppData\\Local\\Packages\\PythonSoftwareFoundation.Python.3.11_qbz5n2kfra8p0\\LocalCache\\local-packages\\Python311\\site-packages\\sklearn\\linear_model\\_coordinate_descent.py:678: ConvergenceWarning: Objective did not converge. You might want to increase the number of iterations, check the scale of the features or consider increasing regularisation. Duality gap: 6.782e-03, tolerance: 3.600e-03\n",
            "  model = cd_fast.enet_coordinate_descent(\n",
            "C:\\Users\\Drac3\\AppData\\Local\\Packages\\PythonSoftwareFoundation.Python.3.11_qbz5n2kfra8p0\\LocalCache\\local-packages\\Python311\\site-packages\\sklearn\\linear_model\\_coordinate_descent.py:678: ConvergenceWarning: Objective did not converge. You might want to increase the number of iterations, check the scale of the features or consider increasing regularisation. Duality gap: 6.790e-03, tolerance: 3.600e-03\n",
            "  model = cd_fast.enet_coordinate_descent(\n",
            "C:\\Users\\Drac3\\AppData\\Local\\Packages\\PythonSoftwareFoundation.Python.3.11_qbz5n2kfra8p0\\LocalCache\\local-packages\\Python311\\site-packages\\sklearn\\linear_model\\_coordinate_descent.py:678: ConvergenceWarning: Objective did not converge. You might want to increase the number of iterations, check the scale of the features or consider increasing regularisation. Duality gap: 6.412e-03, tolerance: 3.600e-03\n",
            "  model = cd_fast.enet_coordinate_descent(\n",
            "C:\\Users\\Drac3\\AppData\\Local\\Packages\\PythonSoftwareFoundation.Python.3.11_qbz5n2kfra8p0\\LocalCache\\local-packages\\Python311\\site-packages\\sklearn\\linear_model\\_coordinate_descent.py:678: ConvergenceWarning: Objective did not converge. You might want to increase the number of iterations, check the scale of the features or consider increasing regularisation. Duality gap: 5.630e-03, tolerance: 3.600e-03\n",
            "  model = cd_fast.enet_coordinate_descent(\n",
            "C:\\Users\\Drac3\\AppData\\Local\\Packages\\PythonSoftwareFoundation.Python.3.11_qbz5n2kfra8p0\\LocalCache\\local-packages\\Python311\\site-packages\\sklearn\\linear_model\\_coordinate_descent.py:678: ConvergenceWarning: Objective did not converge. You might want to increase the number of iterations, check the scale of the features or consider increasing regularisation. Duality gap: 5.453e-03, tolerance: 3.600e-03\n",
            "  model = cd_fast.enet_coordinate_descent(\n",
            "C:\\Users\\Drac3\\AppData\\Local\\Packages\\PythonSoftwareFoundation.Python.3.11_qbz5n2kfra8p0\\LocalCache\\local-packages\\Python311\\site-packages\\sklearn\\linear_model\\_coordinate_descent.py:678: ConvergenceWarning: Objective did not converge. You might want to increase the number of iterations, check the scale of the features or consider increasing regularisation. Duality gap: 5.276e-03, tolerance: 3.600e-03\n",
            "  model = cd_fast.enet_coordinate_descent(\n",
            "C:\\Users\\Drac3\\AppData\\Local\\Packages\\PythonSoftwareFoundation.Python.3.11_qbz5n2kfra8p0\\LocalCache\\local-packages\\Python311\\site-packages\\sklearn\\linear_model\\_coordinate_descent.py:678: ConvergenceWarning: Objective did not converge. You might want to increase the number of iterations, check the scale of the features or consider increasing regularisation. Duality gap: 5.177e-03, tolerance: 3.600e-03\n",
            "  model = cd_fast.enet_coordinate_descent(\n",
            "C:\\Users\\Drac3\\AppData\\Local\\Packages\\PythonSoftwareFoundation.Python.3.11_qbz5n2kfra8p0\\LocalCache\\local-packages\\Python311\\site-packages\\sklearn\\linear_model\\_coordinate_descent.py:678: ConvergenceWarning: Objective did not converge. You might want to increase the number of iterations, check the scale of the features or consider increasing regularisation. Duality gap: 4.955e-03, tolerance: 3.600e-03\n",
            "  model = cd_fast.enet_coordinate_descent(\n",
            "C:\\Users\\Drac3\\AppData\\Local\\Packages\\PythonSoftwareFoundation.Python.3.11_qbz5n2kfra8p0\\LocalCache\\local-packages\\Python311\\site-packages\\sklearn\\linear_model\\_coordinate_descent.py:678: ConvergenceWarning: Objective did not converge. You might want to increase the number of iterations, check the scale of the features or consider increasing regularisation. Duality gap: 4.827e-03, tolerance: 3.600e-03\n",
            "  model = cd_fast.enet_coordinate_descent(\n",
            "C:\\Users\\Drac3\\AppData\\Local\\Packages\\PythonSoftwareFoundation.Python.3.11_qbz5n2kfra8p0\\LocalCache\\local-packages\\Python311\\site-packages\\sklearn\\linear_model\\_coordinate_descent.py:678: ConvergenceWarning: Objective did not converge. You might want to increase the number of iterations, check the scale of the features or consider increasing regularisation. Duality gap: 4.811e-03, tolerance: 3.600e-03\n",
            "  model = cd_fast.enet_coordinate_descent(\n",
            "C:\\Users\\Drac3\\AppData\\Local\\Packages\\PythonSoftwareFoundation.Python.3.11_qbz5n2kfra8p0\\LocalCache\\local-packages\\Python311\\site-packages\\sklearn\\linear_model\\_coordinate_descent.py:678: ConvergenceWarning: Objective did not converge. You might want to increase the number of iterations, check the scale of the features or consider increasing regularisation. Duality gap: 4.703e-03, tolerance: 3.600e-03\n",
            "  model = cd_fast.enet_coordinate_descent(\n",
            "C:\\Users\\Drac3\\AppData\\Local\\Packages\\PythonSoftwareFoundation.Python.3.11_qbz5n2kfra8p0\\LocalCache\\local-packages\\Python311\\site-packages\\sklearn\\linear_model\\_coordinate_descent.py:678: ConvergenceWarning: Objective did not converge. You might want to increase the number of iterations, check the scale of the features or consider increasing regularisation. Duality gap: 4.614e-03, tolerance: 3.600e-03\n",
            "  model = cd_fast.enet_coordinate_descent(\n",
            "C:\\Users\\Drac3\\AppData\\Local\\Packages\\PythonSoftwareFoundation.Python.3.11_qbz5n2kfra8p0\\LocalCache\\local-packages\\Python311\\site-packages\\sklearn\\linear_model\\_coordinate_descent.py:678: ConvergenceWarning: Objective did not converge. You might want to increase the number of iterations, check the scale of the features or consider increasing regularisation. Duality gap: 4.348e-03, tolerance: 3.600e-03\n",
            "  model = cd_fast.enet_coordinate_descent(\n",
            "C:\\Users\\Drac3\\AppData\\Local\\Packages\\PythonSoftwareFoundation.Python.3.11_qbz5n2kfra8p0\\LocalCache\\local-packages\\Python311\\site-packages\\sklearn\\linear_model\\_coordinate_descent.py:678: ConvergenceWarning: Objective did not converge. You might want to increase the number of iterations, check the scale of the features or consider increasing regularisation. Duality gap: 3.861e-03, tolerance: 3.600e-03\n",
            "  model = cd_fast.enet_coordinate_descent(\n"
          ]
        },
        {
          "name": "stdout",
          "output_type": "stream",
          "text": [
            "Min MSE Lasso: 0.11930129584499509\n",
            "Alpha with smallest value Lasso: 0.00999\n"
          ]
        },
        {
          "data": {
            "image/png": "[encoded data removed]",
            "text/plain": [
              "<Figure size 640x480 with 1 Axes>"
            ]
          },
          "metadata": {},
          "output_type": "display_data"
        }
      ],
      "source": [
        "from sklearn.linear_model import Lasso\n",
        "from sklearn.preprocessing import StandardScaler\n",
        "import numpy as np\n",
        "import matplotlib.pyplot as plt\n",
        "\n",
        "# Assuming X and y are defined as your features and target variable respectively\n",
        "scaler = StandardScaler()\n",
        "X_scaled = scaler.fit_transform(X)  # Normalize X data\n",
        "\n",
        "MSE = []  # List to store Mean Squared Errors\n",
        "alphas = []  # List to store alpha values\n",
        "\n",
        "for i in range(1, 1000):\n",
        "    alpha = i / 100000\n",
        "    lasso = Lasso(alpha=alpha)\n",
        "    lasso.fit(X_scaled, y) \n",
        "    MSE.append(np.mean((lasso.predict(X_scaled) - y) ** 2))\n",
        "    alphas.append(alpha)\n",
        "\n",
        "# Finding the minimum MSE and corresponding alpha\n",
        "min_mse = min(MSE)\n",
        "index_alpha = MSE.index(min_mse)\n",
        "best_alpha_lasso = alphas[index_alpha]\n",
        "\n",
        "print(\"Min MSE Lasso:\", min_mse)\n",
        "print(\"Alpha with smallest value Lasso:\", best_alpha_lasso)\n",
        "\n",
        "# Plotting the MSE vs alpha\n",
        "plt.title(\"MSE vs. alpha - Lasso\")\n",
        "plt.xlabel(\"alpha\")\n",
        "plt.ylabel(\"MSE\")\n",
        "plt.plot(alphas, MSE)\n",
        "plt.show()\n"
      ]
    },
    {
      "cell_type": "code",
      "execution_count": 28,
      "metadata": {},
      "outputs": [
        {
          "name": "stdout",
          "output_type": "stream",
          "text": [
            "Min MSE Ridge: 4.4880566208774466e-17\n",
            "Alpha with smallest value Ridge: 1e-05\n"
          ]
        },
        {
          "data": {
            "image/png": "[encoded data removed]",
            "text/plain": [
              "<Figure size 640x480 with 1 Axes>"
            ]
          },
          "metadata": {},
          "output_type": "display_data"
        }
      ],
      "source": [
        "from sklearn.linear_model import Ridge\n",
        "from sklearn.preprocessing import StandardScaler\n",
        "import numpy as np\n",
        "import matplotlib.pyplot as plt\n",
        "\n",
        "# Assuming X and y are defined as your features and target variable respectively\n",
        "scaler = StandardScaler()\n",
        "X_scaled = scaler.fit_transform(X)  # Normalize X data\n",
        "\n",
        "MSE = []  # List to store Mean Squared Errors\n",
        "alphas = []  # List to store alpha values\n",
        "\n",
        "for i in range(1, 1000):\n",
        "    alpha = i / 100000\n",
        "    ridge = Ridge(alpha=alpha)\n",
        "    ridge.fit(X_scaled, y) \n",
        "    MSE.append(np.mean((ridge.predict(X_scaled) - y) ** 2))\n",
        "    alphas.append(alpha)\n",
        "\n",
        "# Finding the minimum MSE and corresponding alpha\n",
        "min_mse = min(MSE)\n",
        "index_alpha = MSE.index(min_mse)\n",
        "best_alpha_ridge = alphas[index_alpha]\n",
        "\n",
        "print(\"Min MSE Ridge:\", min_mse)\n",
        "print(\"Alpha with smallest value Ridge:\", best_alpha_ridge)\n",
        "\n",
        "# Plotting the MSE vs alpha\n",
        "plt.title(\"MSE vs. alpha - Ridge\")\n",
        "plt.xlabel(\"alpha\")\n",
        "plt.ylabel(\"MSE\")\n",
        "plt.plot(alphas, MSE)\n",
        "plt.show()\n"
      ]
    },
    {
      "cell_type": "code",
      "execution_count": 29,
      "metadata": {},
      "outputs": [
        {
          "name": "stdout",
          "output_type": "stream",
          "text": [
            "0.18\n"
          ]
        }
      ],
      "source": [
        "# stepwise regression\n",
        "\n",
        "X_reg = sm.add_constant(X)\n",
        "model = sm.OLS(y,X_reg)\n",
        "results = model.fit()\n",
        "MRS = np.mean((results.predict(X_reg) - y) ** 2)\n",
        "\n",
        "print(MRS)"
      ]
    }
  ],
  "metadata": {
    "colab": {
      "name": "Homework_2_1.ipynb",
      "provenance": []
    },
    "kernelspec": {
      "display_name": "Python 3",
      "name": "python3"
    },
    "language_info": {
      "codemirror_mode": {
        "name": "ipython",
        "version": 3
      },
      "file_extension": ".py",
      "mimetype": "text/x-python",
      "name": "python",
      "nbconvert_exporter": "python",
      "pygments_lexer": "ipython3",
      "version": "3.11.9"
    }
  },
  "nbformat": 4,
  "nbformat_minor": 0
}
