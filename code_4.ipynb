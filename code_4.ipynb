{
  "cells": [
    {
      "cell_type": "markdown",
      "metadata": {
        "id": "KF3pkMJ7-EbD"
      },
      "source": [
        "𝑘-means and hierarchical clustering to the ORL face dataset. Set 𝑘 = 2 in 𝑘-means and select 2 clusters in hierarchical clustering. Do the clustering results match the two genders?"
      ]
    },
    {
      "cell_type": "code",
      "execution_count": 1,
      "metadata": {
        "id": "eimD33Rn3E1P"
      },
      "outputs": [],
      "source": [
        "from PIL import Image\n",
        "import numpy as np\n",
        "from numpy import array\n",
        "from tkinter import _flatten\n",
        "import math\n",
        "import matplotlib.pyplot as plt\n",
        "import os\n"
      ]
    },
    {
      "cell_type": "code",
      "execution_count": 2,
      "metadata": {
        "id": "ulb6A6zx9-6t"
      },
      "outputs": [
        {
          "data": {
            "text/plain": [
              "(400, 1)"
            ]
          },
          "execution_count": 2,
          "metadata": {},
          "output_type": "execute_result"
        }
      ],
      "source": [
        "import numpy\n",
        "\n",
        "\n",
        "gender = [1, 1, 1, 1, 1, 1, 1, 0, 1, 0, 1, 1, 1, 1, 1, 1, 1, 1, 1, 1, 1, 1, 1, 1, 1, 1, 1 ,1, 1, 1, 1, 0, 1, 1, 0, 1, 1, 1, 1, 1]\n",
        "\n",
        "final = []\n",
        "for i in gender:\n",
        "  if i == 0:\n",
        "    for j in range(0,10):\n",
        "      final.append(0)\n",
        "    #new_list = [0,0,0,0,0,0,0,0,0,0]\n",
        "  else:\n",
        "    for j in range(0,10):\n",
        "      final.append(1)\n",
        "\n",
        "\n",
        " \n",
        "gender = np.asarray(final)\n",
        "gender = np.expand_dims(gender, axis=1)\n",
        "gender.shape\n",
        "\n",
        "\n"
      ]
    },
    {
      "cell_type": "code",
      "execution_count": 3,
      "metadata": {
        "id": "Vv1Bpk23-CGG"
      },
      "outputs": [
        {
          "data": {
            "text/plain": [
              "(400, 5600)"
            ]
          },
          "execution_count": 3,
          "metadata": {},
          "output_type": "execute_result"
        }
      ],
      "source": [
        "from PIL import Image\n",
        "\n",
        "\n",
        "folder = './images/'  # Updated folder path\n",
        "\n",
        "def load_images_from_folder(folder):\n",
        "  i = 1\n",
        "  for filename in os.listdir(folder):\n",
        "    im = Image.open(os.path.join(folder,filename))\n",
        "    data = np.array(im)\n",
        "    flattened = data.flatten()\n",
        "    reshape_fla = np.expand_dims(flattened, axis=0)\n",
        "    if i == 1:\n",
        "      final = reshape_fla\n",
        "      i = 2\n",
        "    else:\n",
        "      final = np.vstack((final,reshape_fla))\n",
        "\n",
        "  return final\n",
        "\n",
        "\n",
        "pixels = load_images_from_folder(folder)\n",
        "\n",
        "pixels.shape\n"
      ]
    },
    {
      "cell_type": "code",
      "execution_count": 4,
      "metadata": {},
      "outputs": [],
      "source": [
        "y = gender\n",
        "X = pixels"
      ]
    },
    {
      "cell_type": "markdown",
      "metadata": {
        "id": "Q2cxSLkVCR5y"
      },
      "source": [
        "# **K-means**"
      ]
    },
    {
      "cell_type": "code",
      "execution_count": 5,
      "metadata": {
        "colab": {
          "base_uri": "https://localhost:8080/",
          "height": 0
        },
        "id": "srmdHI9RCSUr",
        "outputId": "7a600575-b952-4752-82a6-9a2dad577831"
      },
      "outputs": [
        {
          "name": "stdout",
          "output_type": "stream",
          "text": [
            "[0 0 0 1 1 1 0 0 0 1 1 0 1 1 1 1 1 1 1 1 1 1 1 1 1 1 1 1 1 1 1 1 1 1 1 1 1\n",
            " 1 1 1 1 1 1 1 1 1 0 1 0 0 1 0 0 0 1 0 1 1 1 1 1 1 1 1 1 1 1 1 1 0 0 1 0 0\n",
            " 0 0 1 0 1 1 1 1 1 1 1 1 1 1 1 1 1 1 1 1 1 1 1 1 1 1 0 0 0 0 0 0 0 0 0 1 1\n",
            " 0 0 0 0 0 0 0 0 0 0 1 0 0 0 0 0 0 0 0 0 0 1 0 0 0 0 0 0 0 0 0 0 1 0 0 0 0\n",
            " 0 0 0 0 0 0 1 0 1 1 1 1 1 1 1 1 1 1 1 1 1 1 1 1 1 1 1 1 1 1 1 1 1 1 1 1 0\n",
            " 1 1 1 1 1 1 1 1 1 1 1 1 1 1 1 0 0 0 0 0 0 0 0 0 1 0 0 0 0 0 0 0 0 0 0 1 1\n",
            " 0 0 0 1 1 1 0 0 0 0 1 1 1 1 1 1 1 1 1 1 1 1 1 0 0 0 0 0 0 0 0 0 1 0 0 0 0\n",
            " 0 1 0 1 0 0 1 0 0 1 1 1 1 1 1 1 1 1 1 1 0 0 0 1 1 0 0 0 1 1 1 1 1 1 1 1 1\n",
            " 1 1 1 1 0 0 0 0 0 0 0 0 0 1 0 0 0 0 0 0 0 0 0 0 1 0 1 1 1 1 1 1 1 1 1 1 1\n",
            " 1 0 1 1 1 1 1 1 1 1 1 1 1 0 0 0 0 0 0 0 0 0 1 0 0 0 0 0 0 0 0 0 0 1 1 1 1\n",
            " 1 1 1 1 1 1 1 1 1 0 0 0 0 0 0 0 0 0 1 0 0 0 0 0 0 0 0 0 0 1]\n"
          ]
        }
      ],
      "source": [
        "from sklearn.cluster import KMeans\n",
        "import numpy as np\n",
        "kmeans = KMeans(n_clusters=2, random_state=0).fit(X)\n",
        "print((kmeans.labels_))\n",
        "\n",
        "\n"
      ]
    },
    {
      "cell_type": "markdown",
      "metadata": {
        "id": "ZwB6SXyzuzUs"
      },
      "source": [
        "Find **the best** accuracy by comparing the values predicted with the original ones for K-Means"
      ]
    },
    {
      "cell_type": "code",
      "execution_count": 6,
      "metadata": {
        "colab": {
          "base_uri": "https://localhost:8080/",
          "height": 0
        },
        "id": "E9UJABsy5Ej0",
        "outputId": "3dfd22b8-1eae-409c-c83d-ef770f858ab5"
      },
      "outputs": [
        {
          "name": "stdout",
          "output_type": "stream",
          "text": [
            "218\n",
            "54.5\n"
          ]
        }
      ],
      "source": [
        "count_kmeans = 0\n",
        "for i, j in zip(kmeans.labels_, gender):\n",
        "  if i == j:\n",
        "    count_kmeans = count_kmeans + 1\n",
        "\n",
        "print(count_kmeans)\n",
        "\n",
        "accurancy_kmeans = (count_kmeans * 100) / len(gender)\n",
        "print(accurancy_kmeans)"
      ]
    },
    {
      "cell_type": "markdown",
      "metadata": {
        "id": "w5z5CtvFu_h6"
      },
      "source": [
        "Checking if I get the same accuracy by the Confusion Matrix and also finding the best Confusion Matrix for K-Means\n"
      ]
    },
    {
      "cell_type": "code",
      "execution_count": 7,
      "metadata": {
        "colab": {
          "base_uri": "https://localhost:8080/",
          "height": 0
        },
        "id": "QEuhLAFRppV9",
        "outputId": "e422b331-d69b-473a-e70b-a221e8cf3704"
      },
      "outputs": [
        {
          "name": "stdout",
          "output_type": "stream",
          "text": [
            "0.545\n"
          ]
        }
      ],
      "source": [
        "from sklearn.metrics import confusion_matrix\n",
        "\n",
        "cm_kmeans = confusion_matrix(gender, (kmeans.labels_))\n",
        "\n",
        "acc_cm_kmeans = np.trace(cm_kmeans) / np.sum(cm_kmeans)\n",
        "print(acc_cm_kmeans)"
      ]
    },
    {
      "cell_type": "code",
      "execution_count": 7,
      "metadata": {
        "colab": {
          "base_uri": "https://localhost:8080/",
          "height": 268
        },
        "id": "Tf1wAoJwptgE",
        "outputId": "ad90d79a-3c4a-4d3b-f1c3-21ad17506381"
      },
      "outputs": [
        {
          "data": {
            "image/png": "[encoded data removed]",
            "text/plain": [
              "<Figure size 432x288 with 2 Axes>"
            ]
          },
          "metadata": {},
          "output_type": "display_data"
        }
      ],
      "source": [
        "import seaborn as sns; sns.set()\n",
        "\n",
        "ax = sns.heatmap(cm_kmeans, annot=True, fmt=\"d\", cmap=\"Blues\")"
      ]
    },
    {
      "cell_type": "code",
      "execution_count": 11,
      "metadata": {
        "colab": {
          "base_uri": "https://localhost:8080/",
          "height": 359
        },
        "id": "dqYTeo5epwck",
        "outputId": "da20fa47-dbb4-4e58-986b-069cbeae119e"
      },
      "outputs": [
        {
          "data": {
            "image/png": "[encoded data removed]",
            "text/plain": [
              "<Figure size 640x480 with 2 Axes>"
            ]
          },
          "metadata": {},
          "output_type": "display_data"
        }
      ],
      "source": [
        "import numpy as np\n",
        "import seaborn as sns\n",
        "from scipy.optimize import linear_sum_assignment\n",
        "\n",
        "# Assuming cm_kmeans is your confusion matrix that you've calculated previously\n",
        "def _make_cost_m(cm):\n",
        "    s = np.max(cm)\n",
        "    return (- cm + s)\n",
        "\n",
        "row_ind, col_ind = linear_sum_assignment(_make_cost_m(cm_kmeans))\n",
        "cm2_kmeans = cm_kmeans[:, col_ind]\n",
        "\n",
        "ax = sns.heatmap(cm2_kmeans, annot=True, fmt=\"d\", cmap=\"Blues\")\n"
      ]
    },
    {
      "cell_type": "markdown",
      "metadata": {
        "id": "Fd2S9FmfvQI9"
      },
      "source": [
        "Both accuracies are the same! Max ACC for K-Means"
      ]
    },
    {
      "cell_type": "code",
      "execution_count": 12,
      "metadata": {
        "colab": {
          "base_uri": "https://localhost:8080/",
          "height": 0
        },
        "id": "TaKN35wbpydh",
        "outputId": "5128886d-fbcb-4145-8f92-38cb26da1e18"
      },
      "outputs": [
        {
          "name": "stdout",
          "output_type": "stream",
          "text": [
            "Max acc using K-Means: 54.50000000000001 %\n"
          ]
        }
      ],
      "source": [
        "max_acc_kmeans = np.trace(cm2_kmeans) / np.sum(cm2_kmeans)\n",
        "print(\"Max acc using K-Means:\", 100* max_acc_kmeans,\"%\") "
      ]
    },
    {
      "cell_type": "markdown",
      "metadata": {
        "id": "Jpgpekq6EfTt"
      },
      "source": [
        "# **Hierarchical Clustering**"
      ]
    },
    {
      "cell_type": "code",
      "execution_count": 16,
      "metadata": {
        "colab": {
          "base_uri": "https://localhost:8080/",
          "height": 0
        },
        "id": "_KPO293mE01O",
        "outputId": "67b55ad4-6b84-49ac-e672-893bacb57743"
      },
      "outputs": [
        {
          "name": "stdout",
          "output_type": "stream",
          "text": [
            "[1 1 1 1 1 1 1 1 1 1 1 1 1 1 1 1 1 1 1 1 1 1 1 1 1 1 1 1 1 1 1 1 1 1 1 1 1\n",
            " 1 1 1 1 1 1 1 1 1 1 1 1 1 1 1 1 1 1 1 1 1 1 1 1 1 1 1 1 1 1 1 1 1 1 1 0 0\n",
            " 0 0 1 0 1 1 1 1 1 1 1 1 1 1 1 1 1 1 1 1 1 1 1 1 1 1 0 0 0 0 0 0 0 0 0 1 1\n",
            " 0 0 0 0 0 0 0 0 0 0 1 0 0 0 0 0 0 0 0 0 0 1 0 0 0 0 0 0 0 0 0 0 1 0 0 0 0\n",
            " 0 0 0 0 0 0 1 0 1 1 1 1 1 1 1 1 1 1 1 1 1 1 1 1 1 1 1 1 1 1 1 1 1 1 1 1 1\n",
            " 1 1 1 1 1 1 1 1 1 1 1 1 1 1 1 0 0 0 0 0 0 0 0 0 1 0 0 0 0 0 0 0 0 0 0 1 1\n",
            " 0 0 0 0 0 0 0 0 0 0 1 0 1 1 1 1 1 1 1 1 1 1 1 0 0 0 0 0 0 0 0 0 1 0 0 0 0\n",
            " 0 0 0 0 0 0 1 0 1 1 1 1 1 1 1 1 1 1 1 0 0 0 0 0 0 0 0 0 1 1 1 1 1 1 1 1 1\n",
            " 1 1 1 1 0 0 0 0 0 0 0 0 0 1 0 0 0 0 0 0 0 0 0 0 1 0 1 1 1 1 1 1 1 1 1 1 1\n",
            " 1 1 1 1 1 1 1 1 1 1 1 1 1 0 0 0 0 0 0 0 0 0 1 0 0 0 0 0 0 0 0 0 0 1 0 1 1\n",
            " 1 1 1 1 1 1 1 1 1 0 0 0 0 0 0 0 0 0 1 0 0 0 0 0 0 0 0 0 0 1]\n"
          ]
        }
      ],
      "source": [
        "import numpy as np\n",
        "from sklearn.cluster import AgglomerativeClustering\n",
        "\n",
        "\n",
        "\n",
        "cluster = AgglomerativeClustering(n_clusters=2, linkage='ward')\n",
        "cluster_labels = cluster.fit_predict(X)\n",
        "print(cluster_labels)\n"
      ]
    },
    {
      "cell_type": "markdown",
      "metadata": {
        "id": "M00-fE7vvuYl"
      },
      "source": [
        "Find **the best** accuracy by comparing the values predicted with the original ones for Hierarchical Clustering"
      ]
    },
    {
      "cell_type": "code",
      "execution_count": 17,
      "metadata": {
        "colab": {
          "base_uri": "https://localhost:8080/",
          "height": 0
        },
        "id": "7NQ3Plp17Elh",
        "outputId": "52af80a6-f504-4c65-e08b-b5ab18eedd7e"
      },
      "outputs": [
        {
          "name": "stdout",
          "output_type": "stream",
          "text": [
            "225\n",
            "56.25\n"
          ]
        }
      ],
      "source": [
        "count_cluster = 0\n",
        "for i, j in zip(cluster.labels_, gender):\n",
        "  if i == j:\n",
        "    count_cluster = count_cluster + 1\n",
        "\n",
        "print(count_cluster)\n",
        "\n",
        "accurancy_cluster = (count_cluster * 100) / len(gender)\n",
        "print(accurancy_cluster)"
      ]
    },
    {
      "cell_type": "markdown",
      "metadata": {
        "id": "OCfLr2W_v3fg"
      },
      "source": [
        "Checking if I get the same accuracy by the Confusion Matrix and also finding the best Confusion Matrix for Hierarchical Clustering"
      ]
    },
    {
      "cell_type": "code",
      "execution_count": 18,
      "metadata": {
        "colab": {
          "base_uri": "https://localhost:8080/",
          "height": 288
        },
        "id": "r1AAfay8q04J",
        "outputId": "f13cecb6-8255-469d-8b0e-6e82b761659b"
      },
      "outputs": [
        {
          "name": "stdout",
          "output_type": "stream",
          "text": [
            "0.5625\n"
          ]
        },
        {
          "data": {
            "image/png": "[encoded data removed]",
            "text/plain": [
              "<Figure size 640x480 with 2 Axes>"
            ]
          },
          "metadata": {},
          "output_type": "display_data"
        }
      ],
      "source": [
        "cm_hierar = confusion_matrix(gender, (cluster.labels_))\n",
        "\n",
        "acc_cm_hierar = np.trace(cm_hierar) / np.sum(cm_hierar)\n",
        "print(acc_cm_hierar)\n",
        "\n",
        "ax = sns.heatmap(cm_hierar, annot=True, fmt=\"d\", cmap=\"Blues\")"
      ]
    },
    {
      "cell_type": "code",
      "execution_count": 21,
      "metadata": {
        "colab": {
          "base_uri": "https://localhost:8080/",
          "height": 325
        },
        "id": "8IiQiMC6q4R5",
        "outputId": "edfad364-ae69-46a5-fd41-66d56ad5dd72"
      },
      "outputs": [
        {
          "data": {
            "image/png": "[encoded data removed]",
            "text/plain": [
              "<Figure size 640x480 with 2 Axes>"
            ]
          },
          "metadata": {},
          "output_type": "display_data"
        }
      ],
      "source": [
        "import numpy as np\n",
        "import seaborn as sns\n",
        "from scipy.optimize import linear_sum_assignment\n",
        "\n",
        "def _make_cost_m(cm):\n",
        "    s = np.max(cm)\n",
        "    return (- cm + s)\n",
        "\n",
        "# Assuming 'cm_hierar' is your confusion matrix\n",
        "row_ind, col_ind = linear_sum_assignment(_make_cost_m(cm_hierar))\n",
        "cm2_hierar = cm_hierar[:, col_ind]\n",
        "\n",
        "ax = sns.heatmap(cm2_hierar, annot=True, fmt=\"d\", cmap=\"Blues\")\n"
      ]
    },
    {
      "cell_type": "markdown",
      "metadata": {
        "id": "20sHLIaVwDJL"
      },
      "source": [
        "Both accuracies are the same! Max ACC for K Means Hierarchical Clustering"
      ]
    },
    {
      "cell_type": "code",
      "execution_count": 22,
      "metadata": {
        "colab": {
          "base_uri": "https://localhost:8080/",
          "height": 0
        },
        "id": "-lv7gSWfrx3M",
        "outputId": "f40934c4-a0f8-41ce-d7ba-fbc1bb4b6b5f"
      },
      "outputs": [
        {
          "name": "stdout",
          "output_type": "stream",
          "text": [
            "Max acc using Hierarchical clustering: 56.25 %\n"
          ]
        }
      ],
      "source": [
        "max_acc_hierar_ = np.trace(cm2_hierar) / np.sum(cm2_hierar)\n",
        "print(\"Max acc using Hierarchical clustering:\", 100* max_acc_hierar_,\"%\") "
      ]
    },
    {
      "cell_type": "markdown",
      "metadata": {
        "id": "cdmPWZ_ncbt9"
      },
      "source": [
        "Conclusion:\n",
        "\n",
        "Both algorithms had the worst predictions comparting to the Supervisory Learning ones implemented last homework. One of the reasons is that they don't have access to the output, and it's hard to cluster between two groups when one possible work has so fewer data compared to the other one. \n",
        "\n",
        "It seems that unsupervised learning suffered less bias for this application since it didn't have access to the labels."
      ]
    }
  ],
  "metadata": {
    "colab": {
      "collapsed_sections": [],
      "name": "homework_8_1.ipynb",
      "provenance": []
    },
    "kernelspec": {
      "display_name": "Python 3",
      "name": "python3"
    },
    "language_info": {
      "codemirror_mode": {
        "name": "ipython",
        "version": 3
      },
      "file_extension": ".py",
      "mimetype": "text/x-python",
      "name": "python",
      "nbconvert_exporter": "python",
      "pygments_lexer": "ipython3",
      "version": "3.11.9"
    }
  },
  "nbformat": 4,
  "nbformat_minor": 0
}
