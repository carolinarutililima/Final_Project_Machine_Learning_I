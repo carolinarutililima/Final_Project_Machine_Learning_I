{
 "cells": [
  {
   "cell_type": "markdown",
   "metadata": {},
   "source": [
    "# Projeto final do curso de Machine Learning da ADA\n"
   ]
  },
  {
   "cell_type": "markdown",
   "metadata": {},
   "source": [
    "## Premissa\n"
   ]
  },
  {
   "cell_type": "markdown",
   "metadata": {},
   "source": [
    "Como forma de avaliação e validação dos conhecimento adquiridos durante o módulo \"*Machine Lerning I*\" no curso de *Data Science* ministrado pelo professor [Thiago Tavares Magalhães](https://www.linkedin.com/in/thiagotm/), na instituição [**Ada Tech**](https://ada.tech/), foi proposto um trabalho final que utilize os conhecimentos demonstrados e adquiridos durante a execução do curso.\n",
    "\n",
    "O trabalho consiste em escolher um dataset de domínio publico e aplicar as ferramentas aprendidas em aula, de forma a obter, um modelo de aprendizado de máquina, capaz de categorizar e generalizar respostas em consistencia com o banco de dados no qual foi utilizado para o seu treinamento."
   ]
  },
  {
   "cell_type": "markdown",
   "metadata": {},
   "source": [
    "## Alunos/Autores"
   ]
  },
  {
   "cell_type": "markdown",
   "metadata": {},
   "source": [
    "Os alunos que desenvolveram o trabalho foram:\n",
    "- [Alexandre Paulino](https://www.linkedin.com/in/alexandre-e-paulino/)\n",
    "- [Carolina Rutili de Lima](https://www.linkedin.com/in/carolinarutili/)\n",
    "- [Raphael Giffoni Vieira Silva](https://www.linkedin.com/in/raphael-giffoni-b9a386172/)\n",
    "- [Hugo Cezar Sales de Souza](https://www.linkedin.com/in/hugo-cs-souza/)\n",
    "- [Lucas Meirelles](https://www.linkedin.com/in/lucas-meirelles-a758a5a4/)\n"
   ]
  },
  {
   "cell_type": "markdown",
   "metadata": {},
   "source": [
    "## Escolha do Dataset"
   ]
  },
  {
   "cell_type": "markdown",
   "metadata": {},
   "source": [
    "Escolhemos o [seguinte dataset](https://www.kaggle.com/datasets/tavarez/the-orl-database-for-training-and-testing) que consiste em imagens de pessoas para classificação.\n",
    "\n",
    "O Banco de Dados ORL de Rostos é um conjunto de imagens faciais tiradas entre abril de 1992 e abril de 1994 no laboratório. O banco de dados foi usado no contexto de um projeto de reconhecimento facial realizado em colaboração com o Grupo de Fala, Visão e Robótica do Departamento de Engenharia da Universidade de Cambridge.\n",
    "\n",
    "Há dez imagens diferentes de cada um dos 40 sujeitos distintos. Para alguns sujeitos, as imagens foram tiradas em diferentes momentos, variando a iluminação, expressões faciais (olhos abertos/fechados, sorrindo/não sorrindo) e detalhes faciais (óculos/sem óculos). Todas as imagens foram tiradas contra um fundo escuro homogêneo com os sujeitos em posição frontal e ereta (com tolerância para algum movimento lateral)."
   ]
  },
  {
   "cell_type": "markdown",
   "metadata": {},
   "source": [
    "## Objetivo"
   ]
  },
  {
   "cell_type": "markdown",
   "metadata": {},
   "source": [
    "O objetivo deste trabalho é utilizar este dataset, para classificar, através das imagens, o sexo biológico da pessoa da imagem em questão. O dataset está dividas em imagens de 20 homens e 20 mulheres no dataset."
   ]
  },
  {
   "cell_type": "markdown",
   "metadata": {},
   "source": [
    "## Desenvolvimento\n"
   ]
  },
  {
   "cell_type": "markdown",
   "metadata": {},
   "source": [
    "### Ferramentas utilizadas"
   ]
  },
  {
   "cell_type": "markdown",
   "metadata": {},
   "source": [
    "As ferramentas/conhecimentos utilizados no desenvolvimento deste trabalho serão:\n",
    "- Utilização do Scikit-learn\n",
    "- KNNs\n",
    "- Random Forests\n",
    "- Métricas de Avaliação de Modelos de Classificação\n",
    "- Otimização de hiperparâmetros"
   ]
  },
  {
   "cell_type": "markdown",
   "metadata": {},
   "source": [
    "### Explicação da manipulação do dataset"
   ]
  },
  {
   "cell_type": "markdown",
   "metadata": {},
   "source": [
    "Existem 400 imagens de rostos dentro do dataset. Cada imagem tem dimensão de 46 pixels × 56 pixels. Cada pessoa tem 10 imagens distintas dentro do dataset.\n",
    "\n",
    "A forma de categorizar e individualizar as 400 imagens será, transformar cada pixel em uma coluna para que possam ser comparados, onde o valor do pixel na escala de cinza será armazenado como uma variável quantitativa. Sendo assim, teremos uma matriz de dados de 400 linhas × 2576 colunas, onde cada linha representa uma das imagens. Posterior a esta manipulação, será criada uma coluna adicional de rótulos indicando o gênero biológica da pessoa que está apresentada na foto, por exemplo, \"0\" = feminino, \"1\" = masculino.\n"
   ]
  },
  {
   "cell_type": "markdown",
   "metadata": {},
   "source": [
    "### Execução do código"
   ]
  },
  {
   "cell_type": "markdown",
   "metadata": {},
   "source": [
    "#### Importação das bibliotecas"
   ]
  },
  {
   "cell_type": "code",
   "execution_count": 52,
   "metadata": {},
   "outputs": [],
   "source": [
    "import cv2\n",
    "import os\n",
    "import math\n",
    "import numpy as np\n",
    "import matplotlib.pyplot as plt\n",
    "from PIL import Image\n",
    "import statsmodels.api as sm\n",
    "from sklearn import svm\n",
    "from sklearn.preprocessing import StandardScaler\n",
    "from sklearn.linear_model import Lasso\n",
    "from sklearn.linear_model import Ridge\n",
    "from sklearn.linear_model import LogisticRegression \n",
    "from sklearn.neighbors import KNeighborsClassifier \n",
    "from sklearn.model_selection import train_test_split\n",
    "from sklearn.metrics import accuracy_score\n"
   ]
  },
  {
   "cell_type": "markdown",
   "metadata": {},
   "source": [
    "#### Criação da coluna de gêneros"
   ]
  },
  {
   "cell_type": "code",
   "execution_count": 32,
   "metadata": {},
   "outputs": [
    {
     "data": {
      "text/plain": [
       "(400, 1)"
      ]
     },
     "execution_count": 32,
     "metadata": {},
     "output_type": "execute_result"
    }
   ],
   "source": [
    "# Criada uma matriz correspondentes ao gêneros de cada imagem\n",
    "gender = [1, 1, 1, 1, 1, 1, 1, 0, 1, 0, 1, 1, 1, 1, 1, 1, 1, 1, 1, 1, 1, 1, 1, 1, 1, 1, 1 ,1, 1, 1, 1, 0, 1, 1, 0, 1, 1, 1, 1, 1]\n",
    "# Para cada gênero, como tem 10 imagens, repete 10 vezes para gerar a coluna corretamente\n",
    "final = []\n",
    "for i in gender:\n",
    "  if i == 0:\n",
    "    for j in range(0,10):\n",
    "      final.append(0)\n",
    "    #new_list = [0,0,0,0,0,0,0,0,0,0]\n",
    "  else:\n",
    "    for j in range(0,10):\n",
    "      final.append(1)\n",
    "# Transforma a lista de gêneros em um array do numpy\n",
    "gender = np.asarray(final)\n",
    "gender = np.expand_dims(gender, axis=1)\n",
    "gender.shape\n"
   ]
  },
  {
   "cell_type": "markdown",
   "metadata": {},
   "source": [
    "#### Função para carregamento das imagens"
   ]
  },
  {
   "cell_type": "code",
   "execution_count": 33,
   "metadata": {},
   "outputs": [
    {
     "data": {
      "text/plain": [
       "(400, 5600)"
      ]
     },
     "execution_count": 33,
     "metadata": {},
     "output_type": "execute_result"
    }
   ],
   "source": [
    "# Indicar o caminho relativo da pasta do dataset\n",
    "folder = './images/'  # Updated folder path\n",
    "# Função para carregar as imagens para o ambiente\n",
    "def load_images_from_folder(folder):\n",
    "  i = 1\n",
    "  # Gera uma lista dos caminhos das imagens e itera sobre eles\n",
    "  for filename in os.listdir(folder):\n",
    "    # Abre a imagem, transforma num array, reduz para uma dimensão e expande no eixo x\n",
    "    im = Image.open(os.path.join(folder,filename))\n",
    "    data = np.array(im)\n",
    "    flattened = data.flatten()\n",
    "    reshape_fla = np.expand_dims(flattened, axis=0)\n",
    "    if i == 1:\n",
    "      final = reshape_fla\n",
    "      i = 2\n",
    "    else:\n",
    "      final = np.vstack((final,reshape_fla))\n",
    "  return final\n",
    "\n",
    "pixels = load_images_from_folder(folder)\n",
    "pixels.shape"
   ]
  },
  {
   "cell_type": "markdown",
   "metadata": {},
   "source": [
    "#### Rotulando os dados e realizando a regressão"
   ]
  },
  {
   "cell_type": "code",
   "execution_count": 34,
   "metadata": {},
   "outputs": [
    {
     "data": {
      "text/plain": [
       "array([2.15568857e-06, 4.83164692e-05, 2.07274421e-05, ...,\n",
       "       3.25743479e-05, 1.16551400e-04, 8.61888666e-05])"
      ]
     },
     "execution_count": 34,
     "metadata": {},
     "output_type": "execute_result"
    }
   ],
   "source": [
    "# Atribui o genero como categorização de saída\n",
    "x, y = pixels, gender\n",
    "\n",
    "x_reg = sm.add_constant(x)\n",
    "model = sm.OLS(y,x_reg)\n",
    "results = model.fit()\n",
    "results.params"
   ]
  },
  {
   "cell_type": "markdown",
   "metadata": {},
   "source": [
    "#### Encontrando o melhor pixel através do p-value"
   ]
  },
  {
   "cell_type": "code",
   "execution_count": 35,
   "metadata": {},
   "outputs": [
    {
     "name": "stdout",
     "output_type": "stream",
     "text": [
      "Best Pixel: 1824, Best P-Value: 1.6131875247093263e-06\n"
     ]
    }
   ],
   "source": [
    "best_p = float('inf')\n",
    "best_pixel = None\n",
    "\n",
    "# Transpondo a matriz para melhor acessar as colunas\n",
    "X_transposed = x.T\n",
    "\n",
    "for j in range(len(X_transposed)):\n",
    "    Xs = sm.add_constant(X_transposed[j])  # Adiciona uma coluna de 1s na matriz\n",
    "    model = sm.OLS(y, Xs) #Realiza uma regressão linear\n",
    "    results = model.fit() #Treina o modelo\n",
    "    p_value = results.pvalues[1]  # Pega o p-value do pixel \n",
    "\n",
    "    if p_value < best_p:\n",
    "        best_p = p_value\n",
    "        best_pixel = j\n",
    "\n",
    "print(f\"Best Pixel: {best_pixel}, Best P-Value: {best_p}\")"
   ]
  },
  {
   "cell_type": "markdown",
   "metadata": {},
   "source": [
    "#### Entrando o p-value do primeiro pixel\n"
   ]
  },
  {
   "cell_type": "code",
   "execution_count": 36,
   "metadata": {},
   "outputs": [],
   "source": [
    "Xs, pvalues = [], []\n",
    "\n",
    "for j in range(0,len(x)):\n",
    "  for i in range(0,len(y)):\n",
    "    Xs.append(x[i][j]) \n",
    "  Xs = sm.add_constant(Xs)\n",
    "  model_2 = sm.OLS(y,Xs)\n",
    "  results_each = model_2.fit()\n",
    "  p_values = results_each.pvalues\n",
    "  pvalues.append(p_values[1])\n",
    "  Xs=[]"
   ]
  },
  {
   "cell_type": "markdown",
   "metadata": {},
   "source": [
    "#### Encontrando os três melhores pixels através do p-value"
   ]
  },
  {
   "cell_type": "code",
   "execution_count": 37,
   "metadata": {},
   "outputs": [
    {
     "name": "stdout",
     "output_type": "stream",
     "text": [
      "First pixel =  0.04054828430444952 position =  364\n",
      "Second pixel =  0.04354810419281873 position =  365\n",
      "Third pixel =  0.04792225319327901 position =  68\n"
     ]
    }
   ],
   "source": [
    "MAX = float('inf')\n",
    "def Print3Smallest(arr, n):\n",
    "    firstmin = MAX\n",
    "    secmin = MAX\n",
    "    thirdmin = MAX\n",
    " \n",
    "    for i in range(0, n):\n",
    "        if arr[i] < firstmin:\n",
    "            thirdmin = secmin\n",
    "            secmin = firstmin\n",
    "            firstmin = arr[i]\n",
    "            first = i\n",
    "        elif arr[i] < secmin:\n",
    "            thirdmin = secmin\n",
    "            secmin = arr[i]\n",
    "            second = i\n",
    "        elif arr[i] < thirdmin:\n",
    "            thirdmin = arr[i]\n",
    "            third = i\n",
    "    print(\"First pixel = \", firstmin, \"position = \", first)\n",
    "    print(\"Second pixel = \", secmin, \"position = \", second)\n",
    "    print(\"Third pixel = \", thirdmin, \"position = \", third)\n",
    "    return first, second, third\n",
    "\n",
    "n = len(pvalues)\n",
    "first, second, third = Print3Smallest(pvalues, n)\n",
    "pixels =  [first, second, third]\n"
   ]
  },
  {
   "cell_type": "markdown",
   "metadata": {},
   "source": [
    "#### Encontrando a posição do pixel na imagem"
   ]
  },
  {
   "cell_type": "code",
   "execution_count": 38,
   "metadata": {},
   "outputs": [],
   "source": [
    "x_pos = []\n",
    "y_pos = []\n",
    "width = 46\n",
    "\n",
    "for pixel in pixels:\n",
    "  y_posi = pixel//width \n",
    "  x_posi = (pixel - (width*y_posi)) + 1 \n",
    "  x_pos.append(x_posi)\n",
    "  y_pos.append(y_posi)\n",
    "\n",
    "x_pos.append(46)\n",
    "y_pos.append(56)"
   ]
  },
  {
   "cell_type": "markdown",
   "metadata": {},
   "source": [
    "#### Pixels mais importantes para a classificação"
   ]
  },
  {
   "cell_type": "code",
   "execution_count": 39,
   "metadata": {},
   "outputs": [
    {
     "data": {
      "image/png": "[encoded data removed]",
      "text/plain": [
       "<Figure size 640x480 with 1 Axes>"
      ]
     },
     "metadata": {},
     "output_type": "display_data"
    }
   ],
   "source": [
    "colors=[\"b\", \"b\", \"b\", \"r\"]\n",
    "plt.scatter(x_pos,y_pos, c=colors)\n",
    "plt.title('Matriz de pixels')\n",
    "plt.xlabel('x')\n",
    "plt.ylabel('y')\n",
    "plt.show()"
   ]
  },
  {
   "cell_type": "markdown",
   "metadata": {},
   "source": [
    "#### Regressão Linear utilizando Lasso"
   ]
  },
  {
   "cell_type": "code",
   "execution_count": 44,
   "metadata": {},
   "outputs": [
    {
     "name": "stderr",
     "output_type": "stream",
     "text": [
      "c:\\Users\\Nugrinho\\AppData\\Local\\Programs\\Python\\Python312\\Lib\\site-packages\\sklearn\\linear_model\\_coordinate_descent.py:678: ConvergenceWarning: Objective did not converge. You might want to increase the number of iterations, check the scale of the features or consider increasing regularisation. Duality gap: 4.136e-02, tolerance: 3.600e-03\n",
      "  model = cd_fast.enet_coordinate_descent(\n",
      "c:\\Users\\Nugrinho\\AppData\\Local\\Programs\\Python\\Python312\\Lib\\site-packages\\sklearn\\linear_model\\_coordinate_descent.py:678: ConvergenceWarning: Objective did not converge. You might want to increase the number of iterations, check the scale of the features or consider increasing regularisation. Duality gap: 1.671e-01, tolerance: 3.600e-03\n",
      "  model = cd_fast.enet_coordinate_descent(\n",
      "c:\\Users\\Nugrinho\\AppData\\Local\\Programs\\Python\\Python312\\Lib\\site-packages\\sklearn\\linear_model\\_coordinate_descent.py:678: ConvergenceWarning: Objective did not converge. You might want to increase the number of iterations, check the scale of the features or consider increasing regularisation. Duality gap: 1.486e-01, tolerance: 3.600e-03\n",
      "  model = cd_fast.enet_coordinate_descent(\n",
      "c:\\Users\\Nugrinho\\AppData\\Local\\Programs\\Python\\Python312\\Lib\\site-packages\\sklearn\\linear_model\\_coordinate_descent.py:678: ConvergenceWarning: Objective did not converge. You might want to increase the number of iterations, check the scale of the features or consider increasing regularisation. Duality gap: 1.124e-01, tolerance: 3.600e-03\n",
      "  model = cd_fast.enet_coordinate_descent(\n",
      "c:\\Users\\Nugrinho\\AppData\\Local\\Programs\\Python\\Python312\\Lib\\site-packages\\sklearn\\linear_model\\_coordinate_descent.py:678: ConvergenceWarning: Objective did not converge. You might want to increase the number of iterations, check the scale of the features or consider increasing regularisation. Duality gap: 5.831e-02, tolerance: 3.600e-03\n",
      "  model = cd_fast.enet_coordinate_descent(\n",
      "c:\\Users\\Nugrinho\\AppData\\Local\\Programs\\Python\\Python312\\Lib\\site-packages\\sklearn\\linear_model\\_coordinate_descent.py:678: ConvergenceWarning: Objective did not converge. You might want to increase the number of iterations, check the scale of the features or consider increasing regularisation. Duality gap: 3.588e-02, tolerance: 3.600e-03\n",
      "  model = cd_fast.enet_coordinate_descent(\n",
      "c:\\Users\\Nugrinho\\AppData\\Local\\Programs\\Python\\Python312\\Lib\\site-packages\\sklearn\\linear_model\\_coordinate_descent.py:678: ConvergenceWarning: Objective did not converge. You might want to increase the number of iterations, check the scale of the features or consider increasing regularisation. Duality gap: 3.335e-02, tolerance: 3.600e-03\n",
      "  model = cd_fast.enet_coordinate_descent(\n",
      "c:\\Users\\Nugrinho\\AppData\\Local\\Programs\\Python\\Python312\\Lib\\site-packages\\sklearn\\linear_model\\_coordinate_descent.py:678: ConvergenceWarning: Objective did not converge. You might want to increase the number of iterations, check the scale of the features or consider increasing regularisation. Duality gap: 2.613e-02, tolerance: 3.600e-03\n",
      "  model = cd_fast.enet_coordinate_descent(\n",
      "c:\\Users\\Nugrinho\\AppData\\Local\\Programs\\Python\\Python312\\Lib\\site-packages\\sklearn\\linear_model\\_coordinate_descent.py:678: ConvergenceWarning: Objective did not converge. You might want to increase the number of iterations, check the scale of the features or consider increasing regularisation. Duality gap: 9.732e-03, tolerance: 3.600e-03\n",
      "  model = cd_fast.enet_coordinate_descent(\n",
      "c:\\Users\\Nugrinho\\AppData\\Local\\Programs\\Python\\Python312\\Lib\\site-packages\\sklearn\\linear_model\\_coordinate_descent.py:678: ConvergenceWarning: Objective did not converge. You might want to increase the number of iterations, check the scale of the features or consider increasing regularisation. Duality gap: 5.276e-03, tolerance: 3.600e-03\n",
      "  model = cd_fast.enet_coordinate_descent(\n"
     ]
    },
    {
     "name": "stdout",
     "output_type": "stream",
     "text": [
      "Menor erro quadrático (Lasso): 0.09000000000000005\n",
      "Alpha com o menor valor de erro (Lasso): 0.07121\n"
     ]
    },
    {
     "data": {
      "image/png": "[encoded data removed]",
      "text/plain": [
       "<Figure size 640x480 with 1 Axes>"
      ]
     },
     "metadata": {},
     "output_type": "display_data"
    }
   ],
   "source": [
    "# Normaliza os dados utilizados o modelo de padronização\n",
    "scaler = StandardScaler()\n",
    "X_scaled = scaler.fit_transform(x)  \n",
    "MSE, alphas = [], []\n",
    "\n",
    "#Modifica o peso do coefiente angular\n",
    "for i in range(1, 15000, 20):\n",
    "    alpha = i / 100000\n",
    "    lasso = Lasso(alpha=alpha) \n",
    "    lasso.fit(X_scaled, y) \n",
    "    # Calcula o erro quadrático médio\n",
    "    MSE.append(np.mean((lasso.predict(X_scaled) - y) ** 2))\n",
    "    alphas.append(alpha)\n",
    "\n",
    "# Encontra o melhor coeficiente e o menor minimo\n",
    "min_mse = min(MSE)\n",
    "index_alpha = MSE.index(min_mse)\n",
    "best_alpha_lasso = alphas[index_alpha]\n",
    "\n",
    "print(\"Menor erro quadrático (Lasso):\", min_mse)\n",
    "print(\"Alpha com o menor valor de erro (Lasso):\", best_alpha_lasso)\n",
    "\n",
    "# Plote\n",
    "plt.title(\"MSE vs. Alpha - Lasso\")\n",
    "plt.xlabel(\"Alpha\")\n",
    "plt.ylabel(\"MSE\")\n",
    "plt.plot(alphas, MSE)\n",
    "plt.show()\n"
   ]
  },
  {
   "cell_type": "markdown",
   "metadata": {},
   "source": [
    "#### Regressão linear utilizando Rigde"
   ]
  },
  {
   "cell_type": "code",
   "execution_count": 46,
   "metadata": {},
   "outputs": [
    {
     "name": "stdout",
     "output_type": "stream",
     "text": [
      "Menor erro quadrático (Ridge): 4.4880566445811915e-17\n",
      "Alpha com o menor valor de erro (Ridge): 1e-05\n"
     ]
    },
    {
     "data": {
      "image/png": "[encoded data removed]",
      "text/plain": [
       "<Figure size 640x480 with 1 Axes>"
      ]
     },
     "metadata": {},
     "output_type": "display_data"
    }
   ],
   "source": [
    "# Normaliza os dados utilizados o modelo de padronização\n",
    "scaler = StandardScaler()\n",
    "X_scaled = scaler.fit_transform(x)\n",
    "MSE, alphas = [], []\n",
    "\n",
    "for i in range(1, 15000, 20):\n",
    "    alpha = i / 100000\n",
    "    ridge = Ridge(alpha=alpha)\n",
    "    ridge.fit(X_scaled, y) \n",
    "    MSE.append(np.mean((ridge.predict(X_scaled) - y) ** 2))\n",
    "    alphas.append(alpha)\n",
    "\n",
    "# Finding the minimum MSE and corresponding alpha\n",
    "min_mse = min(MSE)\n",
    "index_alpha = MSE.index(min_mse)\n",
    "best_alpha_ridge = alphas[index_alpha]\n",
    "\n",
    "print(\"Menor erro quadrático (Ridge):\", min_mse)\n",
    "print(\"Alpha com o menor valor de erro (Ridge):\", best_alpha_ridge)\n",
    "\n",
    "# Plotting the MSE vs alpha\n",
    "plt.title(\"MSE vs. Alpha - Ridge\")\n",
    "plt.xlabel(\"alpha\")\n",
    "plt.ylabel(\"MSE\")\n",
    "plt.plot(alphas, MSE)\n",
    "plt.show()"
   ]
  },
  {
   "cell_type": "markdown",
   "metadata": {},
   "source": [
    "#### Calculando a média do erro quadrático"
   ]
  },
  {
   "cell_type": "code",
   "execution_count": 49,
   "metadata": {},
   "outputs": [
    {
     "name": "stdout",
     "output_type": "stream",
     "text": [
      "Erro médio:  0.1800000000000001\n"
     ]
    }
   ],
   "source": [
    "X_reg = sm.add_constant(x)\n",
    "model = sm.OLS(y,X_reg)\n",
    "results = model.fit()\n",
    "MRS = np.mean((results.predict(X_reg) - y) ** 2)\n",
    "\n",
    "print(\"Erro médio: \", MRS)"
   ]
  },
  {
   "cell_type": "markdown",
   "metadata": {},
   "source": [
    "#### Separando os datasets em treino e teste"
   ]
  },
  {
   "cell_type": "code",
   "execution_count": 63,
   "metadata": {},
   "outputs": [],
   "source": [
    "X_train, X_test, y_train, y_test = train_test_split(x, y, test_size=0.2, random_state=42)"
   ]
  },
  {
   "cell_type": "markdown",
   "metadata": {},
   "source": [
    "#### Regressão Logística\n"
   ]
  },
  {
   "cell_type": "code",
   "execution_count": 64,
   "metadata": {},
   "outputs": [
    {
     "name": "stdout",
     "output_type": "stream",
     "text": [
      "LR preductions:  [1 1 1 1 0 1 1 0 1 1 1 1 1 0 1 1 1 0 1 1 0 1 1 1 1 1 1 1 1 1 1 1 1 1 1 1 1\n",
      " 0 1 1 1 1 1 1 1 1 1 1 1 1 1 0 1 1 1 1 1 1 1 1 1 1 1 1 1 1 1 1 1 0 1 1 1 1\n",
      " 1 1 1 1 1 1]\n",
      "LR accuracy:  93.75 %\n"
     ]
    },
    {
     "name": "stderr",
     "output_type": "stream",
     "text": [
      "c:\\Users\\Nugrinho\\AppData\\Local\\Programs\\Python\\Python312\\Lib\\site-packages\\sklearn\\utils\\validation.py:1300: DataConversionWarning: A column-vector y was passed when a 1d array was expected. Please change the shape of y to (n_samples, ), for example using ravel().\n",
      "  y = column_or_1d(y, warn=True)\n"
     ]
    }
   ],
   "source": [
    "LR = LogisticRegression()\n",
    "LR.fit(X_train, y_train)\n",
    "predictions_LR = LR.predict(X_test)\n",
    "print(\"LR preductions: \", predictions_LR)\n",
    "print(\"LR accuracy: \", 100*LR.score(X_test, y_test),\"%\")"
   ]
  },
  {
   "cell_type": "markdown",
   "metadata": {},
   "source": [
    "#### K-Nearest Neighbor"
   ]
  },
  {
   "cell_type": "code",
   "execution_count": 67,
   "metadata": {},
   "outputs": [
    {
     "name": "stderr",
     "output_type": "stream",
     "text": [
      "c:\\Users\\Nugrinho\\AppData\\Local\\Programs\\Python\\Python312\\Lib\\site-packages\\sklearn\\neighbors\\_classification.py:238: DataConversionWarning: A column-vector y was passed when a 1d array was expected. Please change the shape of y to (n_samples,), for example using ravel().\n",
      "  return self._fit(X, y)\n",
      "c:\\Users\\Nugrinho\\AppData\\Local\\Programs\\Python\\Python312\\Lib\\site-packages\\sklearn\\neighbors\\_classification.py:238: DataConversionWarning: A column-vector y was passed when a 1d array was expected. Please change the shape of y to (n_samples,), for example using ravel().\n",
      "  return self._fit(X, y)\n",
      "c:\\Users\\Nugrinho\\AppData\\Local\\Programs\\Python\\Python312\\Lib\\site-packages\\sklearn\\neighbors\\_classification.py:238: DataConversionWarning: A column-vector y was passed when a 1d array was expected. Please change the shape of y to (n_samples,), for example using ravel().\n",
      "  return self._fit(X, y)\n",
      "c:\\Users\\Nugrinho\\AppData\\Local\\Programs\\Python\\Python312\\Lib\\site-packages\\sklearn\\neighbors\\_classification.py:238: DataConversionWarning: A column-vector y was passed when a 1d array was expected. Please change the shape of y to (n_samples,), for example using ravel().\n",
      "  return self._fit(X, y)\n",
      "c:\\Users\\Nugrinho\\AppData\\Local\\Programs\\Python\\Python312\\Lib\\site-packages\\sklearn\\neighbors\\_classification.py:238: DataConversionWarning: A column-vector y was passed when a 1d array was expected. Please change the shape of y to (n_samples,), for example using ravel().\n",
      "  return self._fit(X, y)\n",
      "c:\\Users\\Nugrinho\\AppData\\Local\\Programs\\Python\\Python312\\Lib\\site-packages\\sklearn\\neighbors\\_classification.py:238: DataConversionWarning: A column-vector y was passed when a 1d array was expected. Please change the shape of y to (n_samples,), for example using ravel().\n",
      "  return self._fit(X, y)\n",
      "c:\\Users\\Nugrinho\\AppData\\Local\\Programs\\Python\\Python312\\Lib\\site-packages\\sklearn\\neighbors\\_classification.py:238: DataConversionWarning: A column-vector y was passed when a 1d array was expected. Please change the shape of y to (n_samples,), for example using ravel().\n",
      "  return self._fit(X, y)\n",
      "c:\\Users\\Nugrinho\\AppData\\Local\\Programs\\Python\\Python312\\Lib\\site-packages\\sklearn\\neighbors\\_classification.py:238: DataConversionWarning: A column-vector y was passed when a 1d array was expected. Please change the shape of y to (n_samples,), for example using ravel().\n",
      "  return self._fit(X, y)\n",
      "c:\\Users\\Nugrinho\\AppData\\Local\\Programs\\Python\\Python312\\Lib\\site-packages\\sklearn\\neighbors\\_classification.py:238: DataConversionWarning: A column-vector y was passed when a 1d array was expected. Please change the shape of y to (n_samples,), for example using ravel().\n",
      "  return self._fit(X, y)\n",
      "c:\\Users\\Nugrinho\\AppData\\Local\\Programs\\Python\\Python312\\Lib\\site-packages\\sklearn\\neighbors\\_classification.py:238: DataConversionWarning: A column-vector y was passed when a 1d array was expected. Please change the shape of y to (n_samples,), for example using ravel().\n",
      "  return self._fit(X, y)\n",
      "c:\\Users\\Nugrinho\\AppData\\Local\\Programs\\Python\\Python312\\Lib\\site-packages\\sklearn\\neighbors\\_classification.py:238: DataConversionWarning: A column-vector y was passed when a 1d array was expected. Please change the shape of y to (n_samples,), for example using ravel().\n",
      "  return self._fit(X, y)\n",
      "c:\\Users\\Nugrinho\\AppData\\Local\\Programs\\Python\\Python312\\Lib\\site-packages\\sklearn\\neighbors\\_classification.py:238: DataConversionWarning: A column-vector y was passed when a 1d array was expected. Please change the shape of y to (n_samples,), for example using ravel().\n",
      "  return self._fit(X, y)\n",
      "c:\\Users\\Nugrinho\\AppData\\Local\\Programs\\Python\\Python312\\Lib\\site-packages\\sklearn\\neighbors\\_classification.py:238: DataConversionWarning: A column-vector y was passed when a 1d array was expected. Please change the shape of y to (n_samples,), for example using ravel().\n",
      "  return self._fit(X, y)\n",
      "c:\\Users\\Nugrinho\\AppData\\Local\\Programs\\Python\\Python312\\Lib\\site-packages\\sklearn\\neighbors\\_classification.py:238: DataConversionWarning: A column-vector y was passed when a 1d array was expected. Please change the shape of y to (n_samples,), for example using ravel().\n",
      "  return self._fit(X, y)\n",
      "c:\\Users\\Nugrinho\\AppData\\Local\\Programs\\Python\\Python312\\Lib\\site-packages\\sklearn\\neighbors\\_classification.py:238: DataConversionWarning: A column-vector y was passed when a 1d array was expected. Please change the shape of y to (n_samples,), for example using ravel().\n",
      "  return self._fit(X, y)\n",
      "c:\\Users\\Nugrinho\\AppData\\Local\\Programs\\Python\\Python312\\Lib\\site-packages\\sklearn\\neighbors\\_classification.py:238: DataConversionWarning: A column-vector y was passed when a 1d array was expected. Please change the shape of y to (n_samples,), for example using ravel().\n",
      "  return self._fit(X, y)\n",
      "c:\\Users\\Nugrinho\\AppData\\Local\\Programs\\Python\\Python312\\Lib\\site-packages\\sklearn\\neighbors\\_classification.py:238: DataConversionWarning: A column-vector y was passed when a 1d array was expected. Please change the shape of y to (n_samples,), for example using ravel().\n",
      "  return self._fit(X, y)\n",
      "c:\\Users\\Nugrinho\\AppData\\Local\\Programs\\Python\\Python312\\Lib\\site-packages\\sklearn\\neighbors\\_classification.py:238: DataConversionWarning: A column-vector y was passed when a 1d array was expected. Please change the shape of y to (n_samples,), for example using ravel().\n",
      "  return self._fit(X, y)\n",
      "c:\\Users\\Nugrinho\\AppData\\Local\\Programs\\Python\\Python312\\Lib\\site-packages\\sklearn\\neighbors\\_classification.py:238: DataConversionWarning: A column-vector y was passed when a 1d array was expected. Please change the shape of y to (n_samples,), for example using ravel().\n",
      "  return self._fit(X, y)\n",
      "c:\\Users\\Nugrinho\\AppData\\Local\\Programs\\Python\\Python312\\Lib\\site-packages\\sklearn\\neighbors\\_classification.py:238: DataConversionWarning: A column-vector y was passed when a 1d array was expected. Please change the shape of y to (n_samples,), for example using ravel().\n",
      "  return self._fit(X, y)\n",
      "c:\\Users\\Nugrinho\\AppData\\Local\\Programs\\Python\\Python312\\Lib\\site-packages\\sklearn\\neighbors\\_classification.py:238: DataConversionWarning: A column-vector y was passed when a 1d array was expected. Please change the shape of y to (n_samples,), for example using ravel().\n",
      "  return self._fit(X, y)\n",
      "c:\\Users\\Nugrinho\\AppData\\Local\\Programs\\Python\\Python312\\Lib\\site-packages\\sklearn\\neighbors\\_classification.py:238: DataConversionWarning: A column-vector y was passed when a 1d array was expected. Please change the shape of y to (n_samples,), for example using ravel().\n",
      "  return self._fit(X, y)\n",
      "c:\\Users\\Nugrinho\\AppData\\Local\\Programs\\Python\\Python312\\Lib\\site-packages\\sklearn\\neighbors\\_classification.py:238: DataConversionWarning: A column-vector y was passed when a 1d array was expected. Please change the shape of y to (n_samples,), for example using ravel().\n",
      "  return self._fit(X, y)\n",
      "c:\\Users\\Nugrinho\\AppData\\Local\\Programs\\Python\\Python312\\Lib\\site-packages\\sklearn\\neighbors\\_classification.py:238: DataConversionWarning: A column-vector y was passed when a 1d array was expected. Please change the shape of y to (n_samples,), for example using ravel().\n",
      "  return self._fit(X, y)\n",
      "c:\\Users\\Nugrinho\\AppData\\Local\\Programs\\Python\\Python312\\Lib\\site-packages\\sklearn\\neighbors\\_classification.py:238: DataConversionWarning: A column-vector y was passed when a 1d array was expected. Please change the shape of y to (n_samples,), for example using ravel().\n",
      "  return self._fit(X, y)\n",
      "c:\\Users\\Nugrinho\\AppData\\Local\\Programs\\Python\\Python312\\Lib\\site-packages\\sklearn\\neighbors\\_classification.py:238: DataConversionWarning: A column-vector y was passed when a 1d array was expected. Please change the shape of y to (n_samples,), for example using ravel().\n",
      "  return self._fit(X, y)\n",
      "c:\\Users\\Nugrinho\\AppData\\Local\\Programs\\Python\\Python312\\Lib\\site-packages\\sklearn\\neighbors\\_classification.py:238: DataConversionWarning: A column-vector y was passed when a 1d array was expected. Please change the shape of y to (n_samples,), for example using ravel().\n",
      "  return self._fit(X, y)\n",
      "c:\\Users\\Nugrinho\\AppData\\Local\\Programs\\Python\\Python312\\Lib\\site-packages\\sklearn\\neighbors\\_classification.py:238: DataConversionWarning: A column-vector y was passed when a 1d array was expected. Please change the shape of y to (n_samples,), for example using ravel().\n",
      "  return self._fit(X, y)\n",
      "c:\\Users\\Nugrinho\\AppData\\Local\\Programs\\Python\\Python312\\Lib\\site-packages\\sklearn\\neighbors\\_classification.py:238: DataConversionWarning: A column-vector y was passed when a 1d array was expected. Please change the shape of y to (n_samples,), for example using ravel().\n",
      "  return self._fit(X, y)\n"
     ]
    },
    {
     "data": {
      "image/png": "[encoded data removed]",
      "text/plain": [
       "<Figure size 640x480 with 1 Axes>"
      ]
     },
     "metadata": {},
     "output_type": "display_data"
    }
   ],
   "source": [
    "neighbor, accuracy = [], []\n",
    "for k in range(1,30):\n",
    "    KNN = KNeighborsClassifier(n_neighbors = k)\n",
    "    KNN.fit(X_train,y_train)\n",
    "    predictions_KNN = KNN.predict(X_test)\n",
    "    neighbor.append(k)\n",
    "    accuracy.append(100*KNN.score(X_test, y_test))\n",
    "\n",
    "# Plot\n",
    "plt.title(\"Vizinhos vs. Acurácia\")\n",
    "plt.xlabel(\"Vizinhos\")\n",
    "plt.ylabel(\"Acurácia\")\n",
    "plt.plot(neighbor, accuracy)\n",
    "plt.show()"
   ]
  },
  {
   "cell_type": "markdown",
   "metadata": {},
   "source": [
    "#### Support Vector Machine - Sigmoid"
   ]
  },
  {
   "cell_type": "code",
   "execution_count": 68,
   "metadata": {},
   "outputs": [
    {
     "name": "stdout",
     "output_type": "stream",
     "text": [
      "SVM preductions:  [1 1 1 1 1 1 1 1 1 1 1 1 1 1 1 1 1 1 1 1 1 1 1 1 1 1 1 1 1 1 1 1 1 1 1 1 1\n",
      " 1 1 1 1 1 1 1 1 1 1 1 1 1 1 1 1 1 1 1 1 1 1 1 1 1 1 1 1 1 1 1 1 1 1 1 1 1\n",
      " 1 1 1 1 1 1]\n",
      " SVM accuracy model:  88.75 %\n"
     ]
    },
    {
     "name": "stderr",
     "output_type": "stream",
     "text": [
      "c:\\Users\\Nugrinho\\AppData\\Local\\Programs\\Python\\Python312\\Lib\\site-packages\\sklearn\\utils\\validation.py:1300: DataConversionWarning: A column-vector y was passed when a 1d array was expected. Please change the shape of y to (n_samples, ), for example using ravel().\n",
      "  y = column_or_1d(y, warn=True)\n"
     ]
    }
   ],
   "source": [
    "SVM = svm.SVC(kernel='sigmoid',C=1)\n",
    "SVM.fit(X_train,y_train)\n",
    "predictions_SVM = SVM.predict(X_test)\n",
    "print(\"SVM preductions: \", predictions_SVM)\n",
    "print(\" SVM accuracy model: \",100*SVM.score(X_test, y_test),\"%\")"
   ]
  },
  {
   "cell_type": "markdown",
   "metadata": {},
   "source": [
    "#### Support Vector Machine - Linear"
   ]
  },
  {
   "cell_type": "code",
   "execution_count": 70,
   "metadata": {},
   "outputs": [
    {
     "name": "stderr",
     "output_type": "stream",
     "text": [
      "c:\\Users\\Nugrinho\\AppData\\Local\\Programs\\Python\\Python312\\Lib\\site-packages\\sklearn\\utils\\validation.py:1300: DataConversionWarning: A column-vector y was passed when a 1d array was expected. Please change the shape of y to (n_samples, ), for example using ravel().\n",
      "  y = column_or_1d(y, warn=True)\n"
     ]
    },
    {
     "name": "stdout",
     "output_type": "stream",
     "text": [
      "SVM preductions:  [1 1 1 1 0 1 1 0 1 1 1 1 1 0 1 1 1 1 1 1 0 1 1 1 1 1 1 1 1 1 1 1 1 1 1 1 1\n",
      " 0 1 1 1 1 1 1 1 1 1 1 1 1 1 1 1 1 1 1 1 1 1 1 1 1 1 1 1 1 1 1 1 0 1 1 1 1\n",
      " 1 1 1 1 1 1]\n",
      "SVM accuracy model:  96.25 %\n"
     ]
    }
   ],
   "source": [
    "SVM = svm.SVC(kernel='linear',C=1)\n",
    "SVM.fit(X_train,y_train)\n",
    "predictions_SVM = SVM.predict(X_test)\n",
    "print(\"SVM preductions: \", predictions_SVM)\n",
    "print(\"SVM accuracy model: \",100*SVM.score(X_test, y_test),\"%\")"
   ]
  },
  {
   "cell_type": "markdown",
   "metadata": {},
   "source": [
    "### Conclusões\n"
   ]
  },
  {
   "cell_type": "markdown",
   "metadata": {},
   "source": [
    "O número de mulheres é mínimo para este conjunto de dados, e o algoritmo de aprendizado de máquina não consegue aprender quando se trata de uma mulher. Podemos dizer que ele é tendencioso, e deveríamos treinar com um conjunto de dados mais diversificado."
   ]
  }
 ],
 "metadata": {
  "kernelspec": {
   "display_name": "Python 3",
   "language": "python",
   "name": "python3"
  },
  "language_info": {
   "codemirror_mode": {
    "name": "ipython",
    "version": 3
   },
   "file_extension": ".py",
   "mimetype": "text/x-python",
   "name": "python",
   "nbconvert_exporter": "python",
   "pygments_lexer": "ipython3",
   "version": "3.12.0"
  }
 },
 "nbformat": 4,
 "nbformat_minor": 2
}
