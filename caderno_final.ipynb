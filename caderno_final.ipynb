{
 "cells": [
  {
   "cell_type": "markdown",
   "metadata": {},
   "source": [
    "# Projeto final do curso de Machine Learning da ADA\n"
   ]
  },
  {
   "cell_type": "markdown",
   "metadata": {},
   "source": [
    "## Premissa\n"
   ]
  },
  {
   "cell_type": "markdown",
   "metadata": {},
   "source": [
    "Como forma de avaliação e validação dos conhecimento adquiridos durante o módulo \"*Machine Lerning I*\" no curso de *Data Science* ministrado pelo professor [Thiago Tavares Magalhães](https://www.linkedin.com/in/thiagotm/), na instituição [**Ada Tech**](https://ada.tech/), foi proposto um trabalho final que utilize os conhecimentos demonstrados e adquiridos durante a execução do curso.\n",
    "\n",
    "O trabalho consiste em escolher um dataset de domínio publico e aplicar as ferramentas aprendidas em aula, de forma a obter, um modelo de aprendizado de máquina, capaz de categorizar e generalizar respostas em consistencia com o banco de dados no qual foi utilizado para o seu treinamento."
   ]
  },
  {
   "cell_type": "markdown",
   "metadata": {},
   "source": [
    "## Alunos/Autores"
   ]
  },
  {
   "cell_type": "markdown",
   "metadata": {},
   "source": [
    "Os alunos que desenvolveram o trabalho foram:\n",
    "- [Alexandre Paulino](https://www.linkedin.com/in/alexandre-e-paulino/)\n",
    "- [Carolina Rutili de Lima](https://www.linkedin.com/in/carolinarutili/)\n",
    "- [Raphael Giffoni Vieira Silva](https://www.linkedin.com/in/raphael-giffoni-b9a386172/)\n",
    "- [Hugo Cezar Sales de Souza](https://www.linkedin.com/in/hugo-cs-souza/)\n",
    "- [Lucas Meirelles](https://www.linkedin.com/in/lucas-meirelles-a758a5a4/)\n"
   ]
  },
  {
   "cell_type": "markdown",
   "metadata": {},
   "source": [
    "## Escolha do Dataset"
   ]
  },
  {
   "cell_type": "markdown",
   "metadata": {},
   "source": [
    "Escolhemos o [seguinte dataset](https://www.kaggle.com/datasets/tavarez/the-orl-database-for-training-and-testing) que consiste em imagens de pessoas para classificação.\n",
    "\n",
    "O Banco de Dados ORL de Rostos é um conjunto de imagens faciais tiradas entre abril de 1992 e abril de 1994 no laboratório. O banco de dados foi usado no contexto de um projeto de reconhecimento facial realizado em colaboração com o Grupo de Fala, Visão e Robótica do Departamento de Engenharia da Universidade de Cambridge.\n",
    "\n",
    "Há dez imagens diferentes de cada um dos 40 sujeitos distintos. Para alguns sujeitos, as imagens foram tiradas em diferentes momentos, variando a iluminação, expressões faciais (olhos abertos/fechados, sorrindo/não sorrindo) e detalhes faciais (óculos/sem óculos). Todas as imagens foram tiradas contra um fundo escuro homogêneo com os sujeitos em posição frontal e ereta (com tolerância para algum movimento lateral)."
   ]
  },
  {
   "cell_type": "markdown",
   "metadata": {},
   "source": [
    "## Objetivo"
   ]
  },
  {
   "cell_type": "markdown",
   "metadata": {},
   "source": [
    "O objetivo deste trabalho é utilizar este dataset, para classificar, através das imagens, o sexo biológico da pessoa da imagem em questão. O dataset está dividas em imagens de 20 homens e 20 mulheres no dataset."
   ]
  },
  {
   "cell_type": "markdown",
   "metadata": {},
   "source": [
    "## Desenvolvimento\n"
   ]
  },
  {
   "cell_type": "markdown",
   "metadata": {},
   "source": [
    "### Ferramentas utilizadas"
   ]
  },
  {
   "cell_type": "markdown",
   "metadata": {},
   "source": [
    "As ferramentas/conhecimentos utilizados no desenvolvimento deste trabalho serão:\n",
    "- Utilização do Scikit-learn\n",
    "- KNNs\n",
    "- Random Forests\n",
    "- Métricas de Avaliação de Modelos de Classificação\n",
    "- Otimização de hiperparâmetros"
   ]
  },
  {
   "cell_type": "markdown",
   "metadata": {},
   "source": [
    "### Explicação da manipulação do dataset"
   ]
  },
  {
   "cell_type": "markdown",
   "metadata": {},
   "source": [
    "Existem 400 imagens de rostos dentro do dataset. Cada imagem tem dimensão de 46 pixels × 56 pixels. Cada pessoa tem 10 imagens distintas dentro do dataset.\n",
    "\n",
    "A forma de categorizar e individualizar as 400 imagens será, transformar cada pixel em uma coluna para que possam ser comparados, onde o valor do pixel na escala P&B será armazenado como uma variável quantitativa. Sendo assim, teremos uma matriz de dados de 400 linhas × 2576 colunas, onde cada linha representa uma das imagens. Posterior a esta manipulação, será criada uma coluna adicional de rótulos indicando o gênero biológica da pessoa que está apresentada na foto, por exemplo, \"0\" = feminino, \"1\" = masculino.\n"
   ]
  },
  {
   "cell_type": "markdown",
   "metadata": {},
   "source": [
    "### Execução do código"
   ]
  },
  {
   "cell_type": "markdown",
   "metadata": {},
   "source": [
    "#### Importação das bibliotecas"
   ]
  },
  {
   "cell_type": "code",
   "execution_count": 3,
   "metadata": {},
   "outputs": [],
   "source": [
    "import cv2\n",
    "import os\n",
    "import numpy as np\n",
    "import matplotlib.pyplot as plt\n",
    "from sklearn.model_selection import train_test_split\n",
    "from sklearn.metrics import accuracy_score\n",
    "from PIL import Image"
   ]
  },
  {
   "cell_type": "markdown",
   "metadata": {},
   "source": [
    "#### Criação da coluna de gêneros"
   ]
  },
  {
   "cell_type": "code",
   "execution_count": 2,
   "metadata": {},
   "outputs": [
    {
     "data": {
      "text/plain": [
       "(400, 1)"
      ]
     },
     "execution_count": 2,
     "metadata": {},
     "output_type": "execute_result"
    }
   ],
   "source": [
    "# Criada uma matriz correspondentes ao gêneros de cada imagem\n",
    "gender = [1, 1, 1, 1, 1, 1, 1, 0, 1, 0, 1, 1, 1, 1, 1, 1, 1, 1, 1, 1, 1, 1, 1, 1, 1, 1, 1 ,1, 1, 1, 1, 0, 1, 1, 0, 1, 1, 1, 1, 1]\n",
    "# Para cada gênero, como tem 10 imagens, repete 10 vezes para gerar a coluna corretamente\n",
    "final = []\n",
    "for i in gender:\n",
    "  if i == 0:\n",
    "    for j in range(0,10):\n",
    "      final.append(0)\n",
    "    #new_list = [0,0,0,0,0,0,0,0,0,0]\n",
    "  else:\n",
    "    for j in range(0,10):\n",
    "      final.append(1)\n",
    "# Transforma a lista de gêneros em um array do numpy\n",
    "gender = np.asarray(final)\n",
    "gender = np.expand_dims(gender, axis=1)\n",
    "gender.shape\n"
   ]
  },
  {
   "cell_type": "markdown",
   "metadata": {},
   "source": [
    "#### Função para carregamento das imagens"
   ]
  },
  {
   "cell_type": "code",
   "execution_count": 9,
   "metadata": {},
   "outputs": [
    {
     "data": {
      "text/plain": [
       "(400, 5600)"
      ]
     },
     "execution_count": 9,
     "metadata": {},
     "output_type": "execute_result"
    }
   ],
   "source": [
    "# Indicar o caminho relativo da pasta do dataset\n",
    "folder = './images/'  # Updated folder path\n",
    "# Função para carregar as imagens para o ambiente\n",
    "def load_images_from_folder(folder):\n",
    "  i = 1\n",
    "  # Gera uma lista dos caminhos das imagens e itera sobre eles\n",
    "  for filename in os.listdir(folder):\n",
    "    # Abre a imagem, transforma num array, reduz para uma dimensão e expande no eixo x\n",
    "    im = Image.open(os.path.join(folder,filename))\n",
    "    data = np.array(im)\n",
    "    \n",
    "    flattened = data.flatten()\n",
    "    reshape_fla = np.expand_dims(flattened, axis=0)\n",
    "    if i == 1:\n",
    "      final = reshape_fla\n",
    "      i = 2\n",
    "    else:\n",
    "      final = np.vstack((final,reshape_fla))\n",
    "  return final\n",
    "\n",
    "\n",
    "pixels = load_images_from_folder(folder)\n",
    "\n",
    "pixels.shape"
   ]
  }
 ],
 "metadata": {
  "kernelspec": {
   "display_name": "Python 3",
   "language": "python",
   "name": "python3"
  },
  "language_info": {
   "codemirror_mode": {
    "name": "ipython",
    "version": 3
   },
   "file_extension": ".py",
   "mimetype": "text/x-python",
   "name": "python",
   "nbconvert_exporter": "python",
   "pygments_lexer": "ipython3",
   "version": "3.12.0"
  }
 },
 "nbformat": 4,
 "nbformat_minor": 2
}
