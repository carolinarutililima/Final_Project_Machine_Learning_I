{
  "cells": [
    {
      "cell_type": "markdown",
      "metadata": {
        "id": "KF3pkMJ7-EbD"
      },
      "source": [
        "Aqui fizemos uma análise de:\n",
        "\n",
        "Naive Bayes\n",
        "\n",
        "Regressão Logística\n",
        "\n",
        "Arvores de Decisão \n"
      ]
    },
    {
      "cell_type": "markdown",
      "metadata": {},
      "source": [
        "Preparando o dataset"
      ]
    },
    {
      "cell_type": "code",
      "execution_count": 1,
      "metadata": {
        "id": "eimD33Rn3E1P"
      },
      "outputs": [],
      "source": [
        "from PIL import Image\n",
        "import numpy as np\n",
        "from numpy import array\n",
        "from tkinter import _flatten\n",
        "import math\n",
        "import matplotlib.pyplot as plt\n",
        "import os\n"
      ]
    },
    {
      "cell_type": "code",
      "execution_count": 2,
      "metadata": {
        "id": "ulb6A6zx9-6t"
      },
      "outputs": [
        {
          "data": {
            "text/plain": [
              "(400, 1)"
            ]
          },
          "execution_count": 2,
          "metadata": {},
          "output_type": "execute_result"
        }
      ],
      "source": [
        "import numpy\n",
        "\n",
        "\n",
        "gender = [1, 1, 1, 1, 1, 1, 1, 0, 1, 0, 1, 1, 1, 1, 1, 1, 1, 1, 1, 1, 1, 1, 1, 1, 1, 1, 1 ,1, 1, 1, 1, 0, 1, 1, 0, 1, 1, 1, 1, 1]\n",
        "\n",
        "final = []\n",
        "for i in gender:\n",
        "  if i == 0:\n",
        "    for j in range(0,10):\n",
        "      final.append(0)\n",
        "    #new_list = [0,0,0,0,0,0,0,0,0,0]\n",
        "  else:\n",
        "    for j in range(0,10):\n",
        "      final.append(1)\n",
        "\n",
        "\n",
        " \n",
        "gender = np.asarray(final)\n",
        "gender = np.expand_dims(gender, axis=1)\n",
        "gender.shape\n",
        "\n",
        "\n"
      ]
    },
    {
      "cell_type": "code",
      "execution_count": 3,
      "metadata": {},
      "outputs": [
        {
          "data": {
            "text/plain": [
              "(400, 5600)"
            ]
          },
          "execution_count": 3,
          "metadata": {},
          "output_type": "execute_result"
        }
      ],
      "source": [
        "from PIL import Image\n",
        "\n",
        "\n",
        "folder = './images/'  # Updated folder path\n",
        "\n",
        "def load_images_from_folder(folder):\n",
        "  i = 1\n",
        "  for filename in os.listdir(folder):\n",
        "    im = Image.open(os.path.join(folder,filename))\n",
        "    data = np.array(im)\n",
        "    flattened = data.flatten()\n",
        "    reshape_fla = np.expand_dims(flattened, axis=0)\n",
        "    if i == 1:\n",
        "      final = reshape_fla\n",
        "      i = 2\n",
        "    else:\n",
        "      final = np.vstack((final,reshape_fla))\n",
        "\n",
        "  return final\n",
        "\n",
        "\n",
        "pixels = load_images_from_folder(folder)\n",
        "\n",
        "pixels.shape\n"
      ]
    },
    {
      "cell_type": "code",
      "execution_count": 4,
      "metadata": {
        "id": "mspNazCD-8rg"
      },
      "outputs": [],
      "source": [
        "from sklearn.model_selection import train_test_split \n",
        "from sklearn.preprocessing import StandardScaler \n",
        "from sklearn.neighbors import KNeighborsClassifier \n",
        "from sklearn.linear_model import LogisticRegression \n",
        "from sklearn import svm"
      ]
    },
    {
      "cell_type": "code",
      "execution_count": 6,
      "metadata": {},
      "outputs": [],
      "source": [
        "y = gender\n",
        "X = pixels"
      ]
    },
    {
      "cell_type": "code",
      "execution_count": 7,
      "metadata": {
        "id": "UU_zEdtb9_B_"
      },
      "outputs": [],
      "source": [
        "X_train, X_test, y_train, y_test = train_test_split(X, y, test_size=0.2, random_state=0)\n",
        "\n"
      ]
    },
    {
      "cell_type": "markdown",
      "metadata": {
        "id": "ivXOTx-2_IkG"
      },
      "source": [
        "Logistic Regression"
      ]
    },
    {
      "cell_type": "code",
      "execution_count": 12,
      "metadata": {
        "colab": {
          "base_uri": "https://localhost:8080/"
        },
        "id": "ZJSb2xvS_GVM",
        "outputId": "6bf637f8-2a87-443a-a86b-2789752104f6"
      },
      "outputs": [
        {
          "name": "stderr",
          "output_type": "stream",
          "text": [
            "C:\\Users\\Drac3\\AppData\\Local\\Packages\\PythonSoftwareFoundation.Python.3.11_qbz5n2kfra8p0\\LocalCache\\local-packages\\Python311\\site-packages\\sklearn\\utils\\validation.py:1229: DataConversionWarning: A column-vector y was passed when a 1d array was expected. Please change the shape of y to (n_samples, ), for example using ravel().\n",
            "  y = column_or_1d(y, warn=True)\n",
            "C:\\Users\\Drac3\\AppData\\Local\\Packages\\PythonSoftwareFoundation.Python.3.11_qbz5n2kfra8p0\\LocalCache\\local-packages\\Python311\\site-packages\\sklearn\\utils\\validation.py:1229: DataConversionWarning: A column-vector y was passed when a 1d array was expected. Please change the shape of y to (n_samples, ), for example using ravel().\n",
            "  y = column_or_1d(y, warn=True)\n"
          ]
        },
        {
          "data": {
            "image/png": "[encoded data removed]",
            "text/plain": [
              "<Figure size 800x550 with 1 Axes>"
            ]
          },
          "metadata": {},
          "output_type": "display_data"
        },
        {
          "data": {
            "text/plain": [
              "<Axes: title={'center': 'GaussianNB Confusion Matrix'}, xlabel='Predicted Class', ylabel='True Class'>"
            ]
          },
          "execution_count": 12,
          "metadata": {},
          "output_type": "execute_result"
        }
      ],
      "source": [
        "from sklearn.model_selection import train_test_split\n",
        "from sklearn.naive_bayes import GaussianNB\n",
        "from sklearn.preprocessing import LabelEncoder\n",
        "from sklearn.metrics import confusion_matrix, accuracy_score\n",
        "from yellowbrick.classifier import ConfusionMatrix\n",
        "\n",
        "#### Criando o modelo\n",
        "naive_bayes = GaussianNB()\n",
        "naive_bayes.fit(X_train, y_train)\n",
        "\n",
        "#### Geração de previões\n",
        "previsoes = naive_bayes.predict(X_test)\n",
        "previsoes\n",
        "\n",
        "#### Matriz de confusão\n",
        "confusao = confusion_matrix(y_test, previsoes)\n",
        "confusao\n",
        "\n",
        "# Calculando a taxa de acerto e de erro\n",
        "taxa_acerto = accuracy_score(y_test, previsoes)\n",
        "taxa_erro = 1 - taxa_acerto\n",
        "taxa_acerto\n",
        "\n",
        "# Gerando gráfico da matrix de confusão\n",
        "v = ConfusionMatrix(GaussianNB())\n",
        "v.fit(X_train, y_train)\n",
        "v.score(X_test, y_test)\n",
        "v.poof()"
      ]
    },
    {
      "cell_type": "markdown",
      "metadata": {
        "id": "m5571KiD_PC8"
      },
      "source": [
        "Regressão Logística"
      ]
    },
    {
      "cell_type": "code",
      "execution_count": 18,
      "metadata": {
        "colab": {
          "base_uri": "https://localhost:8080/"
        },
        "id": "L6Xp35rBKmOQ",
        "outputId": "9f0c9c57-e39d-4c93-94d8-9b61da2687c0"
      },
      "outputs": [
        {
          "name": "stderr",
          "output_type": "stream",
          "text": [
            "C:\\Users\\Drac3\\AppData\\Local\\Packages\\PythonSoftwareFoundation.Python.3.11_qbz5n2kfra8p0\\LocalCache\\local-packages\\Python311\\site-packages\\sklearn\\utils\\validation.py:1229: DataConversionWarning: A column-vector y was passed when a 1d array was expected. Please change the shape of y to (n_samples, ), for example using ravel().\n",
            "  y = column_or_1d(y, warn=True)\n"
          ]
        },
        {
          "name": "stdout",
          "output_type": "stream",
          "text": [
            "LR preductions:  [1 1 1 1 1 1 1 1 1 1 1 1 1 1 1 1 1 1 1 1 1 1 1 1 1 0 1 1 1 1 1 1 1 1 1 1 1\n",
            " 1 1 1 1 1 1 1 1 1 1 1 1 1 1 1 1 1 1 0 0 1 1 1 0 1 1 1 1 1 1 1 1 1 1 1 1 1\n",
            " 1 1 1 1 1 1]\n",
            "LR accuracy:  90.0 %\n"
          ]
        }
      ],
      "source": [
        "LR = LogisticRegression()\n",
        "LR.fit(X_train, y_train)\n",
        "predictions_LR = LR.predict(X_test)\n",
        "print(\"LR preductions: \", predictions_LR)\n",
        "print(\"LR accuracy: \", 100*LR.score(X_test, y_test),\"%\")\n",
        "\n",
        "\n"
      ]
    },
    {
      "cell_type": "markdown",
      "metadata": {
        "id": "_9rYeu5J_TRx"
      },
      "source": [
        "Arvores de decisão"
      ]
    },
    {
      "cell_type": "code",
      "execution_count": 19,
      "metadata": {
        "colab": {
          "base_uri": "https://localhost:8080/"
        },
        "id": "16B9-fva_WCT",
        "outputId": "d4a4be0a-0ab3-4a2a-b9fd-d457543ee55c"
      },
      "outputs": [
        {
          "data": {
            "text/plain": [
              "0.22499999999999998"
            ]
          },
          "execution_count": 19,
          "metadata": {},
          "output_type": "execute_result"
        }
      ],
      "source": [
        "from sklearn.model_selection import train_test_split\n",
        "from sklearn.preprocessing import LabelEncoder\n",
        "from sklearn.metrics import confusion_matrix, accuracy_score\n",
        "from sklearn.tree import DecisionTreeClassifier\n",
        "\n",
        "\n",
        "# Criação do modelo\n",
        "arvore = DecisionTreeClassifier()\n",
        "\n",
        "# Treinamento do modelo\n",
        "arvore.fit(X_train, y_train)\n",
        "\n",
        "# Obtendo as previsões\n",
        "previsoes = arvore.predict(X_test)\n",
        "previsoes\n",
        "\n",
        "# Confusion Matrix\n",
        "confusao = confusion_matrix(y_test, previsoes)\n",
        "confusao\n",
        "\n",
        "# Calculando a taxa de acerto\n",
        "taxa_acerto = accuracy_score(y_test, previsoes)\n",
        "taxa_acerto\n",
        "\n",
        "# Calculando a taxa de erro\n",
        "taxa_erro = 1 - taxa_acerto\n",
        "taxa_erro"
      ]
    },
    {
      "cell_type": "markdown",
      "metadata": {
        "id": "cdmPWZ_ncbt9"
      },
      "source": [
        "Conclusão:"
      ]
    }
  ],
  "metadata": {
    "colab": {
      "name": "homework_7_1.ipynb",
      "provenance": []
    },
    "kernelspec": {
      "display_name": "Python 3",
      "name": "python3"
    },
    "language_info": {
      "codemirror_mode": {
        "name": "ipython",
        "version": 3
      },
      "file_extension": ".py",
      "mimetype": "text/x-python",
      "name": "python",
      "nbconvert_exporter": "python",
      "pygments_lexer": "ipython3",
      "version": "3.11.9"
    }
  },
  "nbformat": 4,
  "nbformat_minor": 0
}
