{
  "cells": [
    {
      "cell_type": "markdown",
      "metadata": {
        "id": "w2UmG371-iXp"
      },
      "source": [
        "LR, 𝑘NN, and SVM models using as few variables (pixels) to get as close as possible to the results in code_2."
      ]
    },
    {
      "cell_type": "code",
      "execution_count": 1,
      "metadata": {
        "id": "EEqLXuSg3Ekb"
      },
      "outputs": [],
      "source": [
        "from PIL import Image\n",
        "import numpy as np\n",
        "from numpy import array\n",
        "from tkinter import _flatten\n",
        "import math\n",
        "import matplotlib.pyplot as plt\n",
        "import os\n"
      ]
    },
    {
      "cell_type": "code",
      "execution_count": 2,
      "metadata": {
        "id": "yFk9FlnZ_pId"
      },
      "outputs": [
        {
          "data": {
            "text/plain": [
              "(400, 1)"
            ]
          },
          "execution_count": 2,
          "metadata": {},
          "output_type": "execute_result"
        }
      ],
      "source": [
        "import numpy\n",
        "\n",
        "\n",
        "gender = [1, 1, 1, 1, 1, 1, 1, 0, 1, 0, 1, 1, 1, 1, 1, 1, 1, 1, 1, 1, 1, 1, 1, 1, 1, 1, 1 ,1, 1, 1, 1, 0, 1, 1, 0, 1, 1, 1, 1, 1]\n",
        "\n",
        "final = []\n",
        "for i in gender:\n",
        "  if i == 0:\n",
        "    for j in range(0,10):\n",
        "      final.append(0)\n",
        "    #new_list = [0,0,0,0,0,0,0,0,0,0]\n",
        "  else:\n",
        "    for j in range(0,10):\n",
        "      final.append(1)\n",
        "\n",
        "\n",
        " \n",
        "gender = np.asarray(final)\n",
        "gender = np.expand_dims(gender, axis=1)\n",
        "gender.shape\n",
        "\n",
        "\n"
      ]
    },
    {
      "cell_type": "code",
      "execution_count": 3,
      "metadata": {
        "id": "GBj-8yx0_qoG"
      },
      "outputs": [
        {
          "data": {
            "text/plain": [
              "(400, 5600)"
            ]
          },
          "execution_count": 3,
          "metadata": {},
          "output_type": "execute_result"
        }
      ],
      "source": [
        "from PIL import Image\n",
        "\n",
        "\n",
        "folder = './images/'  # Updated folder path\n",
        "\n",
        "def load_images_from_folder(folder):\n",
        "  i = 1\n",
        "  for filename in os.listdir(folder):\n",
        "    im = Image.open(os.path.join(folder,filename))\n",
        "    data = np.array(im)\n",
        "    flattened = data.flatten()\n",
        "    reshape_fla = np.expand_dims(flattened, axis=0)\n",
        "    if i == 1:\n",
        "      final = reshape_fla\n",
        "      i = 2\n",
        "    else:\n",
        "      final = np.vstack((final,reshape_fla))\n",
        "\n",
        "  return final\n",
        "\n",
        "\n",
        "pixels = load_images_from_folder(folder)\n",
        "\n",
        "pixels.shape\n"
      ]
    },
    {
      "cell_type": "code",
      "execution_count": 5,
      "metadata": {},
      "outputs": [],
      "source": [
        "y = gender\n",
        "X = pixels"
      ]
    },
    {
      "cell_type": "markdown",
      "metadata": {
        "id": "QwCZVKDP_yWD"
      },
      "source": [
        "Using LASSO reduce the size of data"
      ]
    },
    {
      "cell_type": "markdown",
      "metadata": {
        "id": "XFpzKp49ABzR"
      },
      "source": [
        "finding & plotting down the important pixels"
      ]
    },
    {
      "cell_type": "code",
      "execution_count": 6,
      "metadata": {
        "colab": {
          "base_uri": "https://localhost:8080/"
        },
        "id": "hcyOYuk0MIKT",
        "outputId": "996e2951-3d3f-436c-fc99-d1ca57a0c1db"
      },
      "outputs": [
        {
          "name": "stdout",
          "output_type": "stream",
          "text": [
            "[25, 30, 33, 34, 38, 42, 43, 44, 45, 56, 57, 82, 83, 86, 91, 92, 107, 108, 110, 113, 114, 117, 125, 126, 127, 149, 152, 172, 180, 189, 191, 204, 212, 213, 215, 219, 222, 229, 231, 232, 234, 242, 246, 247, 248, 254, 257, 258, 264, 285, 293, 294, 302, 304, 306, 307, 312, 322, 326, 328, 330, 334, 336, 354, 360, 361, 364, 377, 379, 382, 389, 390, 400, 409, 424, 427, 428, 433, 437, 438, 439, 440, 441, 444, 449, 450, 458, 460, 467, 479, 481, 482, 502, 503, 505, 506, 507, 508, 509, 513, 514, 515, 516, 517, 531, 532, 544, 547, 550, 551, 552, 561, 565, 566, 568, 574, 575, 578, 579, 587, 590, 602, 608, 613, 614, 621, 622, 631, 640, 643, 652, 653, 654, 662, 666, 680, 684, 685, 688, 693, 705, 706, 708, 709, 710, 713, 719, 730, 731, 733, 734, 735, 739, 753, 757, 760, 761, 765, 770, 773, 775, 780, 781, 782, 784, 786, 787, 788, 790, 791, 792, 793, 794, 795, 799, 800, 803, 804, 805, 809, 817, 822, 823, 826, 832, 835, 847, 850, 856, 857, 858, 860, 861, 865, 880, 882, 883, 887, 897, 900, 902, 905, 906, 910, 912, 914, 916, 919, 923, 924, 932, 937, 938, 939, 940, 948, 950, 955, 956, 963, 964, 969, 975, 981, 982, 985, 986, 987, 988, 992, 993, 1003, 1007, 1008, 1009, 1010, 1011, 1012, 1020, 1021, 1022, 1026, 1030, 1034, 1035, 1038, 1039, 1040, 1045, 1051, 1067, 1071, 1072, 1084, 1085, 1090, 1092, 1095, 1100, 1104, 1105, 1110, 1112, 1123, 1125, 1128, 1131, 1132, 1135, 1136, 1140, 1141, 1154, 1155, 1162, 1164, 1165, 1170, 1177, 1185, 1186, 1194, 1195, 1197, 1198, 1200, 1201, 1204, 1205, 1206, 1207, 1220, 1221, 1232, 1239, 1240, 1247, 1249, 1250, 1266, 1267, 1272, 1274, 1275, 1277, 1279, 1280, 1286, 1287, 1288, 1289, 1290, 1291, 1292, 1302, 1303, 1313, 1314, 1320, 1324, 1325, 1328, 1334, 1336, 1337, 1338, 1341, 1342, 1345, 1349, 1352, 1353, 1356, 1357, 1358, 1359, 1360, 1361, 1373, 1379, 1385, 1388, 1390, 1392, 1394, 1395, 1401, 1402, 1408, 1418, 1419, 1421, 1422, 1424, 1435, 1436, 1443, 1444, 1449, 1455, 1456, 1460, 1462, 1463, 1464, 1475, 1477, 1478, 1485, 1486, 1488, 1494, 1495, 1496, 1504, 1512, 1513, 1523, 1526, 1527, 1538, 1542, 1544, 1547, 1548, 1553, 1554, 1556, 1557, 1558, 1559, 1560, 1567, 1569, 1574, 1575, 1576, 1577, 1582, 1583, 1592, 1593, 1594, 1595, 1597, 1600, 1601, 1606, 1608, 1610, 1612, 1614, 1619, 1621, 1622, 1623, 1625, 1633, 1634, 1664, 1668, 1670, 1671, 1672, 1673, 1676, 1678, 1682, 1686, 1688, 1689, 1691, 1692, 1693, 1699, 1717, 1721, 1736, 1740, 1741, 1748, 1750, 1752, 1753, 1756, 1757, 1758, 1759, 1768, 1769, 1772, 1778, 1806, 1810, 1813, 1818, 1820, 1822, 1823, 1824, 1826, 1827, 1828, 1829, 1832, 1840, 1854, 1859, 1872, 1881, 1892, 1893, 1894, 1896, 1906, 1919, 1920, 1921, 1924, 1925, 1928, 1929, 1932, 1935, 1936, 1940, 1941, 1943, 1950, 1951, 1955, 1957, 1959, 1960, 1964, 1971, 1972, 1974, 1982, 1989, 1990, 1991, 1995, 1999, 2001, 2002, 2007, 2008, 2009, 2010, 2013, 2016, 2024, 2025, 2026, 2034, 2042, 2043, 2044, 2049, 2050, 2053, 2054, 2055, 2057, 2058, 2065, 2068, 2071, 2072, 2073, 2074, 2077, 2085, 2089, 2094, 2095, 2099, 2101, 2105, 2106, 2111, 2118, 2121, 2122, 2128, 2132, 2133, 2135, 2138, 2139, 2142, 2143, 2147, 2150, 2155, 2156, 2160, 2163, 2164, 2165, 2167, 2172, 2187, 2188, 2200, 2206, 2209, 2213, 2214, 2216, 2223, 2224, 2230, 2234, 2237, 2242, 2243, 2244, 2248, 2254, 2257, 2259, 2263, 2267, 2269, 2272, 2273, 2274, 2277, 2281, 2284, 2297, 2304, 2305, 2307, 2309, 2310, 2318, 2320, 2322, 2323, 2325, 2327, 2329, 2332, 2333, 2341, 2342, 2343, 2345, 2346, 2356, 2357, 2358, 2361, 2367, 2370, 2374, 2380, 2384, 2385, 2386, 2390, 2391, 2392, 2393, 2401, 2403, 2407, 2413, 2415, 2418, 2420, 2421, 2422, 2425, 2432, 2438, 2441, 2442, 2444, 2445, 2449, 2451, 2452, 2455, 2456, 2457, 2458, 2461, 2463, 2464, 2469, 2471, 2473, 2475, 2477, 2479, 2481, 2487, 2492, 2495, 2497, 2498, 2500, 2501, 2506, 2507, 2512, 2513, 2514, 2515, 2516, 2518, 2520, 2522, 2523, 2524, 2527, 2528, 2533, 2534, 2535, 2536, 2538, 2539, 2541, 2542, 2543, 2545, 2549, 2550, 2551, 2555, 2564, 2567, 2571, 2579, 2585, 2586, 2591, 2592, 2594, 2595, 2599, 2600, 2602, 2605, 2606, 2607, 2608, 2611, 2616, 2617, 2619, 2620, 2627, 2628, 2629, 2633, 2634, 2635, 2636, 2637, 2642, 2644, 2647, 2648, 2654, 2657, 2659, 2660, 2666, 2667, 2669, 2670, 2672, 2673, 2675, 2676, 2678, 2679, 2684, 2685, 2689, 2690, 2691, 2692, 2694, 2696, 2697, 2698, 2704, 2705, 2708, 2711, 2713, 2714, 2715, 2716, 2718, 2720, 2725, 2726, 2727, 2728, 2730, 2731, 2732, 2733, 2735, 2736, 2737, 2738, 2739, 2740, 2744, 2747, 2748, 2749, 2750, 2752, 2754, 2757, 2763, 2764, 2768, 2769, 2771, 2772, 2774, 2775, 2778, 2780, 2781, 2784, 2785, 2786, 2787, 2788, 2792, 2796, 2797, 2799, 2800, 2801, 2802, 2803, 2804, 2805, 2806, 2807, 2808, 2809, 2810, 2816, 2817, 2826, 2827, 2828, 2829, 2835, 2837, 2838, 2839, 2842, 2844, 2847, 2849, 2850, 2855, 2856, 2858, 2862, 2864, 2865, 2866, 2868, 2873, 2874, 2876, 2877, 2878, 2881, 2884, 2888, 2889, 2890, 2891, 2892, 2896, 2901, 2903, 2906, 2907, 2911, 2913, 2917, 2921, 2922, 2923, 2927, 2936, 2941, 2943, 2945, 2946, 2949, 2952, 2958, 2959, 2964, 2965, 2968, 2969, 2971, 2973, 2975, 2979, 2987, 2988, 2991, 2997, 2999, 3000, 3001, 3005, 3006, 3007, 3010, 3013, 3014, 3017, 3018, 3022, 3033, 3034, 3036, 3040, 3047, 3051, 3056, 3059, 3075, 3079, 3084, 3088, 3091, 3093, 3098, 3099, 3100, 3112, 3113, 3118, 3126, 3128, 3135, 3139, 3140, 3143, 3144, 3146, 3147, 3149, 3151, 3154, 3156, 3157, 3158, 3160, 3161, 3162, 3167, 3168, 3171, 3172, 3175, 3176, 3183, 3191, 3193, 3197, 3198, 3203, 3207, 3210, 3211, 3213, 3214, 3217, 3221, 3223, 3224, 3234, 3239, 3240, 3242, 3246, 3247, 3250, 3255, 3257, 3258, 3265, 3267, 3268, 3269, 3276, 3277, 3280, 3281, 3284, 3286, 3290, 3295, 3296, 3297, 3302, 3305, 3319, 3320, 3325, 3326, 3327, 3331, 3335, 3339, 3340, 3342, 3343, 3348, 3349, 3350, 3353, 3354, 3355, 3356, 3362, 3363, 3364, 3376, 3378, 3379, 3382, 3393, 3395, 3398, 3418, 3421, 3426, 3428, 3433, 3435, 3457, 3459, 3461, 3462, 3465, 3467, 3469, 3470, 3471, 3479, 3486, 3487, 3488, 3489, 3490, 3492, 3496, 3498, 3501, 3503, 3504, 3505, 3510, 3515, 3522, 3529, 3533, 3534, 3538, 3539, 3547, 3548, 3549, 3556, 3557, 3559, 3564, 3565, 3566, 3567, 3570, 3572, 3573, 3574, 3578, 3580, 3589, 3596, 3597, 3599, 3603, 3604, 3605, 3608, 3621, 3625, 3626, 3630, 3633, 3635, 3637, 3642, 3643, 3647, 3650, 3654, 3663, 3676, 3677, 3680, 3682, 3683, 3684, 3685, 3687, 3694, 3703, 3704, 3710, 3717, 3724, 3735, 3745, 3751, 3758, 3763, 3764, 3765, 3780, 3782, 3783, 3784, 3786, 3789, 3790, 3791, 3792, 3797, 3803, 3811, 3812, 3813, 3814, 3816, 3817, 3825, 3826, 3827, 3828, 3829, 3835, 3837, 3838, 3839, 3842, 3843, 3847, 3853, 3856, 3857, 3858, 3859, 3867, 3869, 3871, 3872, 3878, 3879, 3882, 3883, 3885, 3887, 3888, 3907, 3908, 3910, 3915, 3920, 3921, 3925, 3933, 3944, 3945, 3947, 3950, 3953, 3958, 3970, 3973, 3974, 3977, 3984, 3990, 3991, 3996, 3998, 4001, 4004, 4008, 4009, 4010, 4013, 4017, 4019, 4020, 4026, 4029, 4032, 4043, 4053, 4062, 4068, 4071, 4073, 4074, 4076, 4078, 4087, 4092, 4094, 4100, 4101, 4102, 4107, 4108, 4109, 4112, 4113, 4117, 4120, 4123, 4125, 4126, 4134, 4138, 4141, 4146, 4149, 4150, 4152, 4156, 4162, 4163, 4164, 4170, 4171, 4175, 4179, 4189, 4190, 4192, 4195, 4206, 4207, 4211, 4212, 4214, 4216, 4218, 4222, 4224, 4229, 4230, 4231, 4235, 4241, 4244, 4245, 4260, 4262, 4265, 4280, 4284, 4286, 4288, 4290, 4293, 4294, 4295, 4296, 4301, 4302, 4309, 4311, 4312, 4319, 4324, 4330, 4335, 4346, 4347, 4348, 4360, 4364, 4366, 4367, 4368, 4374, 4375, 4379, 4401, 4414, 4415, 4416, 4417, 4418, 4419, 4425, 4434, 4437, 4445, 4446, 4447, 4448, 4462, 4482, 4483, 4485, 4487, 4489, 4494, 4495, 4501, 4504, 4505, 4506, 4511, 4512, 4518, 4520, 4523, 4527, 4532, 4536, 4541, 4547, 4548, 4549, 4551, 4558, 4560, 4564, 4572, 4573, 4588, 4589, 4591, 4592, 4593, 4600, 4601, 4602, 4605, 4606, 4611, 4617, 4619, 4623, 4626, 4627, 4631, 4633, 4634, 4636, 4638, 4641, 4653, 4654, 4666, 4668, 4670, 4675, 4678, 4692, 4697, 4699, 4701, 4708, 4713, 4714, 4720, 4724, 4729, 4730, 4740, 4747, 4761, 4766, 4768, 4769, 4770, 4771, 4772, 4776, 4782, 4790, 4792, 4794, 4799, 4814, 4829, 4830, 4835, 4836, 4838, 4839, 4841, 4842, 4843, 4844, 4851, 4852, 4856, 4857, 4866, 4874, 4879, 4880, 4888, 4899, 4902, 4908, 4909, 4910, 4911, 4922, 4923, 4926, 4927, 4940, 4941, 4952, 4953, 4956, 4958, 4960, 4966, 4968, 4969, 4971, 4978, 4979, 4994, 4995, 4996, 4997, 4998, 5010, 5014, 5015, 5016, 5019, 5022, 5023, 5026, 5027, 5046, 5048, 5053, 5056, 5059, 5067, 5076, 5080, 5083, 5084, 5089, 5090, 5091, 5092, 5093, 5095, 5097, 5103, 5108, 5109, 5110, 5112, 5114, 5116, 5117, 5125, 5128, 5129, 5138, 5151, 5152, 5153, 5159, 5160, 5162, 5163, 5168, 5178, 5180, 5181, 5182, 5186, 5189, 5191, 5193, 5194, 5196, 5201, 5204, 5209, 5224, 5229, 5230, 5234, 5236, 5238, 5248, 5249, 5251, 5253, 5254, 5255, 5256, 5261, 5263, 5266, 5268, 5270, 5271, 5293, 5299, 5306, 5307, 5308, 5309, 5313, 5315, 5316, 5317, 5319, 5321, 5323, 5331, 5333, 5337, 5339, 5340, 5342, 5346, 5348, 5361, 5367, 5371, 5377, 5379, 5386, 5389, 5394, 5399, 5400, 5401, 5402, 5403, 5412, 5413, 5432, 5433, 5441, 5443, 5444, 5445, 5446, 5447, 5453, 5454, 5456, 5458, 5459, 5464, 5472, 5474, 5475, 5481, 5482, 5484, 5503, 5513, 5514, 5515, 5518, 5520, 5526, 5527, 5531, 5533, 5536, 5540, 5542, 5543, 5545, 5548, 5583, 5585, 5587, 5590, 5591, 5592]\n"
          ]
        },
        {
          "name": "stderr",
          "output_type": "stream",
          "text": [
            "C:\\Users\\Drac3\\AppData\\Local\\Packages\\PythonSoftwareFoundation.Python.3.11_qbz5n2kfra8p0\\LocalCache\\local-packages\\Python311\\site-packages\\sklearn\\linear_model\\_coordinate_descent.py:678: ConvergenceWarning: Objective did not converge. You might want to increase the number of iterations, check the scale of the features or consider increasing regularisation. Duality gap: 7.465e-02, tolerance: 3.600e-03\n",
            "  model = cd_fast.enet_coordinate_descent(\n"
          ]
        }
      ],
      "source": [
        "from sklearn.linear_model import Lasso\n",
        "\n",
        "lasso = Lasso(alpha = 0.001) \n",
        "lasso.fit(X, y)\n",
        "n = np.sum(lasso.coef_ != 0)\n",
        "\n",
        "\n",
        "pixels = []\n",
        "\n",
        "for i in range(len(lasso.coef_)):\n",
        "  if lasso.coef_[i] != 0: \n",
        "    pixels.append(i)\n",
        "\n",
        "print(pixels)"
      ]
    },
    {
      "cell_type": "code",
      "execution_count": 7,
      "metadata": {
        "id": "rxjGX_U9MPmD"
      },
      "outputs": [],
      "source": [
        "import math\n",
        "\n",
        "x_pos = []\n",
        "y_pos = []\n",
        "width = 46\n",
        "\n",
        "for pixel in pixels:\n",
        "  y_posi = pixel//width \n",
        "  x_posi = (pixel - (width*y_posi)) + 1 \n",
        "  x_pos.append(x_posi)\n",
        "  y_pos.append(y_posi)\n",
        "\n",
        "x_pos.append(46)\n",
        "y_pos.append(56)"
      ]
    },
    {
      "cell_type": "code",
      "execution_count": null,
      "metadata": {
        "colab": {
          "base_uri": "https://localhost:8080/",
          "height": 295
        },
        "id": "_CVwkr91MUWh",
        "outputId": "ec680251-00da-44b9-ce12-d5689d002987"
      },
      "outputs": [
        {
          "data": {
            "image/png": "[encoded data removed]",
            "text/plain": [
              "<Figure size 432x288 with 1 Axes>"
            ]
          },
          "metadata": {
            "needs_background": "light"
          },
          "output_type": "display_data"
        }
      ],
      "source": [
        "import matplotlib.pyplot as plt\n",
        "\n",
        "colors = []\n",
        "\n",
        "for i in range(0,len(pixels)):\n",
        "  colors.append(\"b\")\n",
        "\n",
        "colors.append(\"w\")\n",
        "\n",
        "\n",
        "plt.scatter(x_pos,y_pos, c=colors)\n",
        "\n",
        "plt.title('Canva pixels')\n",
        "plt.xlabel('x')\n",
        "plt.ylabel('y')\n",
        "\n",
        "plt.show()"
      ]
    },
    {
      "cell_type": "markdown",
      "metadata": {
        "id": "oYR-vl2HAl0v"
      },
      "source": [
        "selecting important pixels"
      ]
    },
    {
      "cell_type": "code",
      "execution_count": 8,
      "metadata": {
        "id": "3ba4sj_tAmqE"
      },
      "outputs": [],
      "source": [
        "X_imp = np.zeros((400, len(pixels)))\n",
        "X_imp = X.T[pixels]\n",
        "X_imp = X_imp.T"
      ]
    },
    {
      "cell_type": "markdown",
      "metadata": {
        "id": "nKWJHblvAq1x"
      },
      "source": [
        "split and normalize the training, testing dataset"
      ]
    },
    {
      "cell_type": "code",
      "execution_count": 9,
      "metadata": {
        "id": "MZGZxNkHA4_l"
      },
      "outputs": [],
      "source": [
        "from sklearn.model_selection import train_test_split \n",
        "from sklearn.preprocessing import StandardScaler \n",
        "from sklearn.neighbors import KNeighborsClassifier \n",
        "from sklearn.linear_model import LogisticRegression \n",
        "from sklearn import svm"
      ]
    },
    {
      "cell_type": "code",
      "execution_count": 10,
      "metadata": {
        "id": "LPjB2M79AvPi"
      },
      "outputs": [],
      "source": [
        "X_imp_train, X_imp_test, y_train, y_test = train_test_split(X_imp, y, test_size=0.2, random_state=1)\n"
      ]
    },
    {
      "cell_type": "markdown",
      "metadata": {
        "id": "s-DhMPgQBCZi"
      },
      "source": [
        "Logistic Regression"
      ]
    },
    {
      "cell_type": "code",
      "execution_count": 11,
      "metadata": {
        "colab": {
          "base_uri": "https://localhost:8080/"
        },
        "id": "NcPQsIGYA9FL",
        "outputId": "c6d81717-dff7-42f6-f33b-2e5e930d7973"
      },
      "outputs": [
        {
          "name": "stdout",
          "output_type": "stream",
          "text": [
            "LR predictions:  [1 1 1 0 1 0 1 1 1 1 1 1 1 1 1 1 1 1 1 1 1 1 1 1 1 0 1 1 1 1 1 1 1 1 1 1 1\n",
            " 1 1 1 1 1 1 1 1 1 1 1 0 1 1 1 1 1 1 0 1 1 1 1 1 1 1 1 1 1 1 1 1 0 1 0 1 1\n",
            " 1 0 1 1 1 1]\n",
            "LR accuracy using LASSO:  95.0 %\n"
          ]
        },
        {
          "name": "stderr",
          "output_type": "stream",
          "text": [
            "C:\\Users\\Drac3\\AppData\\Local\\Packages\\PythonSoftwareFoundation.Python.3.11_qbz5n2kfra8p0\\LocalCache\\local-packages\\Python311\\site-packages\\sklearn\\utils\\validation.py:1229: DataConversionWarning: A column-vector y was passed when a 1d array was expected. Please change the shape of y to (n_samples, ), for example using ravel().\n",
            "  y = column_or_1d(y, warn=True)\n"
          ]
        }
      ],
      "source": [
        "LR = LogisticRegression()\n",
        "LR.fit(X_imp_train, y_train)\n",
        "predictions_LR = LR.predict(X_imp_test)\n",
        "print(\"LR predictions: \", predictions_LR)\n",
        "print(\"LR accuracy using LASSO: \", 100* LR.score(X_imp_test, y_test),\"%\")"
      ]
    },
    {
      "cell_type": "markdown",
      "metadata": {
        "id": "P_9vW9yFBIGn"
      },
      "source": [
        "K-Nearest Neighbor"
      ]
    },
    {
      "cell_type": "code",
      "execution_count": 12,
      "metadata": {
        "colab": {
          "base_uri": "https://localhost:8080/"
        },
        "id": "_aBEQncuBHjg",
        "outputId": "08f466ac-c72a-4f34-9b1f-1c946c9cde00"
      },
      "outputs": [
        {
          "name": "stdout",
          "output_type": "stream",
          "text": [
            "KNN predictions:  [1 1 1 0 1 0 1 1 1 1 1 1 1 1 1 1 1 1 1 1 1 1 1 1 1 0 1 1 1 1 1 1 1 1 1 1 1\n",
            " 1 1 1 1 1 1 1 1 1 1 1 0 1 1 1 1 1 1 0 1 1 1 1 1 1 1 1 1 1 1 1 1 0 1 0 1 1\n",
            " 1 0 1 1 1 1]\n",
            "KNN accuracy using LASSO:  95.0 %\n"
          ]
        },
        {
          "name": "stderr",
          "output_type": "stream",
          "text": [
            "C:\\Users\\Drac3\\AppData\\Local\\Packages\\PythonSoftwareFoundation.Python.3.11_qbz5n2kfra8p0\\LocalCache\\local-packages\\Python311\\site-packages\\sklearn\\neighbors\\_classification.py:238: DataConversionWarning: A column-vector y was passed when a 1d array was expected. Please change the shape of y to (n_samples,), for example using ravel().\n",
            "  return self._fit(X, y)\n"
          ]
        }
      ],
      "source": [
        "KNN = KNeighborsClassifier(n_neighbors = 3)\n",
        "KNN.fit(X_imp_train,y_train)\n",
        "predictions_KNN = LR.predict(X_imp_test)\n",
        "print(\"KNN predictions: \", predictions_KNN)\n",
        "print(\"KNN accuracy using LASSO: \",100*KNN.score(X_imp_test, y_test),\"%\")"
      ]
    },
    {
      "cell_type": "markdown",
      "metadata": {
        "id": "BQKJr4Z2BNSI"
      },
      "source": [
        "Support Vector Machine"
      ]
    },
    {
      "cell_type": "code",
      "execution_count": 13,
      "metadata": {
        "colab": {
          "base_uri": "https://localhost:8080/"
        },
        "id": "MOI60SmOBMr4",
        "outputId": "868ddd2a-53db-4973-f4be-44530067aa66"
      },
      "outputs": [
        {
          "name": "stdout",
          "output_type": "stream",
          "text": [
            "SVM predictions:  [1 1 1 0 1 0 1 1 1 1 1 1 1 1 1 1 1 1 1 1 1 1 1 1 1 0 1 1 1 1 1 1 1 1 1 1 1\n",
            " 1 1 1 1 1 1 1 1 1 1 1 0 1 1 1 1 1 1 1 1 1 1 1 1 1 1 1 1 1 1 1 1 0 1 0 1 1\n",
            " 1 0 1 1 1 1]\n",
            "SVM accuracy using LASSO:  96.25 %\n"
          ]
        },
        {
          "name": "stderr",
          "output_type": "stream",
          "text": [
            "C:\\Users\\Drac3\\AppData\\Local\\Packages\\PythonSoftwareFoundation.Python.3.11_qbz5n2kfra8p0\\LocalCache\\local-packages\\Python311\\site-packages\\sklearn\\utils\\validation.py:1229: DataConversionWarning: A column-vector y was passed when a 1d array was expected. Please change the shape of y to (n_samples, ), for example using ravel().\n",
            "  y = column_or_1d(y, warn=True)\n"
          ]
        }
      ],
      "source": [
        "SVM = svm.SVC(kernel='linear',C=1)\n",
        "SVM.fit(X_imp_train,y_train)\n",
        "predictions_SVM = SVM.predict(X_imp_test)\n",
        "print(\"SVM predictions: \", predictions_SVM)\n",
        "print(\"SVM accuracy using LASSO: \",100*SVM.score(X_imp_test, y_test),\"%\")"
      ]
    },
    {
      "cell_type": "markdown",
      "metadata": {
        "id": "g3AYF5OreRWn"
      },
      "source": [
        "Conclusion:\n",
        "\n",
        "The predictions using LASSO were much better. We still have the problem of the biased introduced by an inequal dataset. However, by using LASSO, we could improve the results for this issue a bit. All three machine learning had better accuracy. "
      ]
    }
  ],
  "metadata": {
    "colab": {
      "collapsed_sections": [],
      "name": "homework_7_2.ipynb",
      "provenance": []
    },
    "kernelspec": {
      "display_name": "Python 3",
      "name": "python3"
    },
    "language_info": {
      "codemirror_mode": {
        "name": "ipython",
        "version": 3
      },
      "file_extension": ".py",
      "mimetype": "text/x-python",
      "name": "python",
      "nbconvert_exporter": "python",
      "pygments_lexer": "ipython3",
      "version": "3.11.9"
    }
  },
  "nbformat": 4,
  "nbformat_minor": 0
}
